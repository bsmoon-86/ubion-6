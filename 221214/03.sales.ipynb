{
 "cells": [
  {
   "cell_type": "code",
   "execution_count": null,
   "metadata": {},
   "outputs": [],
   "source": [
    "import pandas as pd"
   ]
  },
  {
   "attachments": {},
   "cell_type": "markdown",
   "metadata": {},
   "source": [
    "### csv 파일 로드 데이터를 튜닝\n",
    "1. csv 폴더에 있는 sales records.csv 파일 로드 \n",
    "2. 'Order ID', 'Total Revenue', 'Total Cost', 'Total Profit' 컬럼을 삭제\n",
    "3. 컬럼의 이름 변경 ['권역', '국가', '상품종류', '채널', '우선순위', '주문일자', '발송일자', '판매단위'  , '단가', '원가']\n",
    "4. 권역, 국가를 기준으로 오름차순 정렬\n",
    "5. index의 값을 초기화하고 기존의 인덱스는 삭제"
   ]
  },
  {
   "cell_type": "code",
   "execution_count": null,
   "metadata": {},
   "outputs": [],
   "source": [
    "## 1. Sales Records.csv 파일 로드\n",
    "## 파일은 상위로 이동, csv 폴더로 이동, Sales Records.csv파일\n",
    "sales = pd.read_csv(\"../csv/Sales Records.csv\")\n",
    "sales_df = sales"
   ]
  },
  {
   "cell_type": "code",
   "execution_count": null,
   "metadata": {},
   "outputs": [],
   "source": [
    "## 2. 4개의 컬럼을 삭제\n",
    "## 컬럼 하나만 삭제\n",
    "sales.drop([\"Order ID\"], axis=1, inplace=True)\n"
   ]
  },
  {
   "cell_type": "code",
   "execution_count": null,
   "metadata": {},
   "outputs": [],
   "source": [
    "## 컬럼 3개를 삭제\n",
    "sales.drop(['Total Revenue', 'Total Cost', 'Total Profit'], axis='columns', \n",
    "            inplace=True)"
   ]
  },
  {
   "cell_type": "code",
   "execution_count": null,
   "metadata": {},
   "outputs": [],
   "source": [
    "## 컬럼의 이름을 변경\n",
    "sales.columns = [\"권역\", \"국가\", \"상품종류\", \"채널\", \"우선순위\", \"주문일자\", \n",
    "                \"발송일자\", \"판매단위\", \"단가\", \"원가\"]"
   ]
  },
  {
   "cell_type": "code",
   "execution_count": null,
   "metadata": {},
   "outputs": [],
   "source": [
    "sales.head(1)"
   ]
  },
  {
   "cell_type": "code",
   "execution_count": null,
   "metadata": {},
   "outputs": [],
   "source": [
    "# 권역, 국가를 기준으로 오름차순 정렬\n",
    "sales.sort_values([\"권역\", \"국가\"], inplace=True)"
   ]
  },
  {
   "cell_type": "code",
   "execution_count": null,
   "metadata": {},
   "outputs": [],
   "source": [
    "## 인덱스를 초기화, 기존의 인덱스는 삭제\n",
    "sales.reset_index(drop=True, inplace=True)"
   ]
  },
  {
   "cell_type": "code",
   "execution_count": null,
   "metadata": {},
   "outputs": [],
   "source": [
    "sales.head()"
   ]
  },
  {
   "cell_type": "code",
   "execution_count": null,
   "metadata": {},
   "outputs": [],
   "source": [
    "## reset_index() 안에 drop은 기본값이 false\n",
    "## drop 매개변수의 인자 값이 True가 되면 기존의 인덱스를 삭제하고 \n",
    "## index를 초기화 한다. \n",
    "sales.sort_values([\"국가\"]).reset_index(drop=True)"
   ]
  },
  {
   "cell_type": "code",
   "execution_count": null,
   "metadata": {},
   "outputs": [],
   "source": [
    "### 단가 컬럼의 float 형태의 데이터를 반올림 -> int의 형태로 변경\n",
    "# 반올림 함수 round(n)\n",
    "# n의 값은 소수점의 자릿수\n",
    "# sales[\"단가\"].round(0) # 데이터의 형태는 스리즈 values들의 데이터 형태는 float\n",
    "# 데이터의 타입을 변경 함수\n",
    "# astype(\"int\")\n",
    "\n",
    "sales[\"단가\"] = sales[\"단가\"].round(0).astype(\"int\")"
   ]
  },
  {
   "cell_type": "code",
   "execution_count": null,
   "metadata": {},
   "outputs": [],
   "source": [
    "sales.head()"
   ]
  },
  {
   "cell_type": "code",
   "execution_count": null,
   "metadata": {},
   "outputs": [],
   "source": [
    "## 원가 컬럼의 데이터를 반올림을 하지 않고 int 타입으로 변경\n",
    "sales[\"원가\"] = sales[\"원가\"].astype(\"int\")"
   ]
  },
  {
   "attachments": {},
   "cell_type": "markdown",
   "metadata": {},
   "source": [
    "1. 새로운 파생변수 (총 단가, 총 원가, 총 이윤) 생성\n",
    "2. 총 단가 = 단가 * 판매단위\n",
    "3. 총 원가 = 원가 * 판매단위\n",
    "4. 총 이윤 = 총 단가 - 총 원가"
   ]
  },
  {
   "cell_type": "code",
   "execution_count": null,
   "metadata": {},
   "outputs": [],
   "source": [
    "# sales[\"총 단가\"]\n",
    "sales[\"단가\"] * sales[\"판매단위\"]"
   ]
  },
  {
   "cell_type": "code",
   "execution_count": null,
   "metadata": {},
   "outputs": [],
   "source": [
    "sales_csv = pd.read_csv(\"../csv/Sales Records.csv\")\n",
    "sales_csv"
   ]
  },
  {
   "cell_type": "code",
   "execution_count": null,
   "metadata": {},
   "outputs": [],
   "source": [
    "sales[\"총 단가\"] = sales[\"단가\"] * sales[\"판매단위\"]\n",
    "sales[\"총 원가\"] = sales[\"원가\"] * sales[\"판매단위\"]\n",
    "# sales[\"총 이윤\"] = sales[\"총 단가\"] - sales[\"총 원가\"]\n",
    "sales[\"총 이윤\"] = (sales[\"단가\"] - sales[\"원가\"]) * sales[\"판매단위\"]"
   ]
  },
  {
   "cell_type": "code",
   "execution_count": null,
   "metadata": {},
   "outputs": [],
   "source": [
    "sales.head()"
   ]
  },
  {
   "cell_type": "code",
   "execution_count": null,
   "metadata": {},
   "outputs": [],
   "source": [
    "## loc[] \n",
    "## 특정 행이나 특정 열을 추출할때 사용\n",
    "## loc[행의 위치, 열의 위치]\n",
    "\n",
    "## sales 데이터에서 인덱스가 11부터 마지막까지 ( = 인덱스를 0부터 10까지는 삭제)\n",
    "sales.loc[11:] "
   ]
  },
  {
   "cell_type": "code",
   "execution_count": null,
   "metadata": {},
   "outputs": [],
   "source": [
    "sales.loc[11:, \"권역\":\"발송일자\"]"
   ]
  },
  {
   "cell_type": "code",
   "execution_count": 36,
   "metadata": {},
   "outputs": [
    {
     "data": {
      "text/html": [
       "<div>\n",
       "<style scoped>\n",
       "    .dataframe tbody tr th:only-of-type {\n",
       "        vertical-align: middle;\n",
       "    }\n",
       "\n",
       "    .dataframe tbody tr th {\n",
       "        vertical-align: top;\n",
       "    }\n",
       "\n",
       "    .dataframe thead th {\n",
       "        text-align: right;\n",
       "    }\n",
       "</style>\n",
       "<table border=\"1\" class=\"dataframe\">\n",
       "  <thead>\n",
       "    <tr style=\"text-align: right;\">\n",
       "      <th></th>\n",
       "      <th>권역</th>\n",
       "      <th>국가</th>\n",
       "      <th>상품종류</th>\n",
       "      <th>채널</th>\n",
       "      <th>우선순위</th>\n",
       "      <th>주문일자</th>\n",
       "      <th>발송일자</th>\n",
       "      <th>판매단위</th>\n",
       "      <th>단가</th>\n",
       "      <th>원가</th>\n",
       "      <th>총 단가</th>\n",
       "      <th>총 원가</th>\n",
       "      <th>총 이윤</th>\n",
       "    </tr>\n",
       "  </thead>\n",
       "  <tbody>\n",
       "    <tr>\n",
       "      <th>0</th>\n",
       "      <td>Asia</td>\n",
       "      <td>Bangladesh</td>\n",
       "      <td>Personal Care</td>\n",
       "      <td>Online</td>\n",
       "      <td>L</td>\n",
       "      <td>12/11/2016</td>\n",
       "      <td>1/13/2017</td>\n",
       "      <td>9420</td>\n",
       "      <td>82</td>\n",
       "      <td>56</td>\n",
       "      <td>772440</td>\n",
       "      <td>527520</td>\n",
       "      <td>244920</td>\n",
       "    </tr>\n",
       "    <tr>\n",
       "      <th>1</th>\n",
       "      <td>Asia</td>\n",
       "      <td>Bangladesh</td>\n",
       "      <td>Cosmetics</td>\n",
       "      <td>Offline</td>\n",
       "      <td>M</td>\n",
       "      <td>7/29/2010</td>\n",
       "      <td>9/11/2010</td>\n",
       "      <td>577</td>\n",
       "      <td>437</td>\n",
       "      <td>263</td>\n",
       "      <td>252149</td>\n",
       "      <td>151751</td>\n",
       "      <td>100398</td>\n",
       "    </tr>\n",
       "    <tr>\n",
       "      <th>2</th>\n",
       "      <td>Asia</td>\n",
       "      <td>Bangladesh</td>\n",
       "      <td>Vegetables</td>\n",
       "      <td>Offline</td>\n",
       "      <td>C</td>\n",
       "      <td>4/28/2014</td>\n",
       "      <td>5/5/2014</td>\n",
       "      <td>34</td>\n",
       "      <td>154</td>\n",
       "      <td>90</td>\n",
       "      <td>5236</td>\n",
       "      <td>3060</td>\n",
       "      <td>2176</td>\n",
       "    </tr>\n",
       "    <tr>\n",
       "      <th>3</th>\n",
       "      <td>Asia</td>\n",
       "      <td>Bangladesh</td>\n",
       "      <td>Cereal</td>\n",
       "      <td>Offline</td>\n",
       "      <td>L</td>\n",
       "      <td>6/22/2010</td>\n",
       "      <td>6/28/2010</td>\n",
       "      <td>9768</td>\n",
       "      <td>206</td>\n",
       "      <td>117</td>\n",
       "      <td>2012208</td>\n",
       "      <td>1142856</td>\n",
       "      <td>869352</td>\n",
       "    </tr>\n",
       "    <tr>\n",
       "      <th>4</th>\n",
       "      <td>Asia</td>\n",
       "      <td>Bangladesh</td>\n",
       "      <td>Office Supplies</td>\n",
       "      <td>Online</td>\n",
       "      <td>H</td>\n",
       "      <td>3/20/2013</td>\n",
       "      <td>4/11/2013</td>\n",
       "      <td>7731</td>\n",
       "      <td>651</td>\n",
       "      <td>524</td>\n",
       "      <td>5032881</td>\n",
       "      <td>4051044</td>\n",
       "      <td>981837</td>\n",
       "    </tr>\n",
       "  </tbody>\n",
       "</table>\n",
       "</div>"
      ],
      "text/plain": [
       "     권역          국가             상품종류       채널 우선순위        주문일자       발송일자  \\\n",
       "0  Asia  Bangladesh    Personal Care   Online    L  12/11/2016  1/13/2017   \n",
       "1  Asia  Bangladesh        Cosmetics  Offline    M   7/29/2010  9/11/2010   \n",
       "2  Asia  Bangladesh       Vegetables  Offline    C   4/28/2014   5/5/2014   \n",
       "3  Asia  Bangladesh           Cereal  Offline    L   6/22/2010  6/28/2010   \n",
       "4  Asia  Bangladesh  Office Supplies   Online    H   3/20/2013  4/11/2013   \n",
       "\n",
       "   판매단위   단가   원가     총 단가     총 원가    총 이윤  \n",
       "0  9420   82   56   772440   527520  244920  \n",
       "1   577  437  263   252149   151751  100398  \n",
       "2    34  154   90     5236     3060    2176  \n",
       "3  9768  206  117  2012208  1142856  869352  \n",
       "4  7731  651  524  5032881  4051044  981837  "
      ]
     },
     "execution_count": 36,
     "metadata": {},
     "output_type": "execute_result"
    }
   ],
   "source": [
    "sales.head()"
   ]
  },
  {
   "cell_type": "code",
   "execution_count": 37,
   "metadata": {},
   "outputs": [
    {
     "data": {
      "text/plain": [
       "Online     5061\n",
       "Offline    4939\n",
       "Name: 채널, dtype: int64"
      ]
     },
     "execution_count": 37,
     "metadata": {},
     "output_type": "execute_result"
    }
   ],
   "source": [
    "## 해당하는 컬럼의 데이터를 그룹화하여 카운트 체크\n",
    "sales[\"채널\"].value_counts()"
   ]
  },
  {
   "cell_type": "code",
   "execution_count": 40,
   "metadata": {},
   "outputs": [],
   "source": [
    "## 국가별로 그룹화 하여 총 이윤의 합계를 구한 다음\n",
    "## 가장 이윤이 높은 나라의 top 10을 구하시오\n",
    "\n",
    "\n",
    "## 1. 국가 별로 그룹화\n",
    "## 2. 총 이윤의 합계 -> 데이터프레임\n",
    "## 3. 총 이윤을 가지고 내림차순 정렬\n",
    "## 4. 상위 10개를 출력\n",
    "\n",
    "# 그룹화 함수 -> groupby(기준이되는 컬럼)\n",
    "test = sales.groupby(\"국가\").sum()"
   ]
  },
  {
   "cell_type": "code",
   "execution_count": null,
   "metadata": {},
   "outputs": [],
   "source": [
    "test[[\"총 이윤\"]]"
   ]
  },
  {
   "cell_type": "code",
   "execution_count": 45,
   "metadata": {},
   "outputs": [
    {
     "data": {
      "text/html": [
       "<div>\n",
       "<style scoped>\n",
       "    .dataframe tbody tr th:only-of-type {\n",
       "        vertical-align: middle;\n",
       "    }\n",
       "\n",
       "    .dataframe tbody tr th {\n",
       "        vertical-align: top;\n",
       "    }\n",
       "\n",
       "    .dataframe thead th {\n",
       "        text-align: right;\n",
       "    }\n",
       "</style>\n",
       "<table border=\"1\" class=\"dataframe\">\n",
       "  <thead>\n",
       "    <tr style=\"text-align: right;\">\n",
       "      <th></th>\n",
       "      <th>판매단위</th>\n",
       "      <th>단가</th>\n",
       "      <th>원가</th>\n",
       "      <th>총 단가</th>\n",
       "      <th>총 원가</th>\n",
       "      <th>총 이윤</th>\n",
       "    </tr>\n",
       "    <tr>\n",
       "      <th>국가</th>\n",
       "      <th></th>\n",
       "      <th></th>\n",
       "      <th></th>\n",
       "      <th></th>\n",
       "      <th></th>\n",
       "      <th></th>\n",
       "    </tr>\n",
       "  </thead>\n",
       "  <tbody>\n",
       "    <tr>\n",
       "      <th>Kiribati</th>\n",
       "      <td>356731</td>\n",
       "      <td>19559</td>\n",
       "      <td>13372</td>\n",
       "      <td>99042827</td>\n",
       "      <td>66419928</td>\n",
       "      <td>32622899</td>\n",
       "    </tr>\n",
       "    <tr>\n",
       "      <th>Qatar</th>\n",
       "      <td>328663</td>\n",
       "      <td>15442</td>\n",
       "      <td>10385</td>\n",
       "      <td>91493775</td>\n",
       "      <td>60469525</td>\n",
       "      <td>31024250</td>\n",
       "    </tr>\n",
       "    <tr>\n",
       "      <th>Grenada</th>\n",
       "      <td>355886</td>\n",
       "      <td>17503</td>\n",
       "      <td>12345</td>\n",
       "      <td>107296964</td>\n",
       "      <td>76794549</td>\n",
       "      <td>30502415</td>\n",
       "    </tr>\n",
       "    <tr>\n",
       "      <th>Taiwan</th>\n",
       "      <td>380647</td>\n",
       "      <td>18062</td>\n",
       "      <td>13132</td>\n",
       "      <td>113049887</td>\n",
       "      <td>82799819</td>\n",
       "      <td>30250068</td>\n",
       "    </tr>\n",
       "    <tr>\n",
       "      <th>Malawi</th>\n",
       "      <td>336182</td>\n",
       "      <td>18184</td>\n",
       "      <td>12679</td>\n",
       "      <td>97028184</td>\n",
       "      <td>67514985</td>\n",
       "      <td>29513199</td>\n",
       "    </tr>\n",
       "    <tr>\n",
       "      <th>Botswana</th>\n",
       "      <td>371019</td>\n",
       "      <td>17526</td>\n",
       "      <td>12151</td>\n",
       "      <td>96688333</td>\n",
       "      <td>67454758</td>\n",
       "      <td>29233575</td>\n",
       "    </tr>\n",
       "    <tr>\n",
       "      <th>Bangladesh</th>\n",
       "      <td>330991</td>\n",
       "      <td>17448</td>\n",
       "      <td>12179</td>\n",
       "      <td>97392404</td>\n",
       "      <td>69103817</td>\n",
       "      <td>28288587</td>\n",
       "    </tr>\n",
       "    <tr>\n",
       "      <th>Lithuania</th>\n",
       "      <td>367622</td>\n",
       "      <td>17790</td>\n",
       "      <td>12247</td>\n",
       "      <td>91386154</td>\n",
       "      <td>63112357</td>\n",
       "      <td>28273797</td>\n",
       "    </tr>\n",
       "    <tr>\n",
       "      <th>Burundi</th>\n",
       "      <td>336252</td>\n",
       "      <td>18340</td>\n",
       "      <td>12661</td>\n",
       "      <td>85695785</td>\n",
       "      <td>57612047</td>\n",
       "      <td>28083738</td>\n",
       "    </tr>\n",
       "    <tr>\n",
       "      <th>Ireland</th>\n",
       "      <td>317430</td>\n",
       "      <td>16062</td>\n",
       "      <td>11189</td>\n",
       "      <td>86622429</td>\n",
       "      <td>58642502</td>\n",
       "      <td>27979927</td>\n",
       "    </tr>\n",
       "  </tbody>\n",
       "</table>\n",
       "</div>"
      ],
      "text/plain": [
       "              판매단위     단가     원가       총 단가      총 원가      총 이윤\n",
       "국가                                                             \n",
       "Kiribati    356731  19559  13372   99042827  66419928  32622899\n",
       "Qatar       328663  15442  10385   91493775  60469525  31024250\n",
       "Grenada     355886  17503  12345  107296964  76794549  30502415\n",
       "Taiwan      380647  18062  13132  113049887  82799819  30250068\n",
       "Malawi      336182  18184  12679   97028184  67514985  29513199\n",
       "Botswana    371019  17526  12151   96688333  67454758  29233575\n",
       "Bangladesh  330991  17448  12179   97392404  69103817  28288587\n",
       "Lithuania   367622  17790  12247   91386154  63112357  28273797\n",
       "Burundi     336252  18340  12661   85695785  57612047  28083738\n",
       "Ireland     317430  16062  11189   86622429  58642502  27979927"
      ]
     },
     "execution_count": 45,
     "metadata": {},
     "output_type": "execute_result"
    }
   ],
   "source": [
    "## 총 이윤을 기준으로 내림차순 정렬\n",
    "## sort_values() -> 기본 값은 오름차순 정렬\n",
    "## 내림차순 정렬로 변경하려면 함수의 매개변수 ascending = \n",
    "# True 오름차순 (기본값), False 내림차순\n",
    "test.sort_values([\"총 이윤\"], ascending=False).head(10)"
   ]
  },
  {
   "cell_type": "code",
   "execution_count": null,
   "metadata": {},
   "outputs": [],
   "source": []
  }
 ],
 "metadata": {
  "kernelspec": {
   "display_name": "Python 3",
   "language": "python",
   "name": "python3"
  },
  "language_info": {
   "codemirror_mode": {
    "name": "ipython",
    "version": 3
   },
   "file_extension": ".py",
   "mimetype": "text/x-python",
   "name": "python",
   "nbconvert_exporter": "python",
   "pygments_lexer": "ipython3",
   "version": "3.6.8"
  },
  "orig_nbformat": 4,
  "vscode": {
   "interpreter": {
    "hash": "187f19b7e1a6c9dce315ccb3b0d07c5b7aeed6681cd1ee8ee772db2198b62651"
   }
  }
 },
 "nbformat": 4,
 "nbformat_minor": 2
}
