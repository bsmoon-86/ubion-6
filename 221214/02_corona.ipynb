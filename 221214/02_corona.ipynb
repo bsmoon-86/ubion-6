{
 "cells": [
  {
   "cell_type": "code",
   "execution_count": null,
   "metadata": {},
   "outputs": [],
   "source": [
    "import pandas as pd"
   ]
  },
  {
   "cell_type": "code",
   "execution_count": null,
   "metadata": {},
   "outputs": [],
   "source": [
    "## 코로나 데이터를 로드 \n",
    "corona_df = pd.read_csv(\"corona.csv\")\n",
    "corona_df.head()"
   ]
  },
  {
   "cell_type": "code",
   "execution_count": null,
   "metadata": {},
   "outputs": [],
   "source": [
    "## 데이터프레임에서 컬럼을 삭제\n",
    "## drop() 함수를 이용하여 컬럼을 삭제\n",
    "## drop 함수는 axis라는 매개변수의 값을 기준으로 행, 열을 삭제한다. \n",
    "## inplace라는 매개변수 기본값이 false -> True 변경을 하면 \n",
    "## 기준이 되는 데이터의 값이 변환\n",
    "\n",
    "# corona = corona_df.drop([\"Unnamed: 0\"], axis=1)\n",
    "# corona_df.drop([\"Unnamed: 0\"], axis=1, inplace=True)\n",
    "# corona_df = corona_df.drop([\"Unnamed: 0\"], axis=1)\n"
   ]
  },
  {
   "cell_type": "code",
   "execution_count": null,
   "metadata": {},
   "outputs": [],
   "source": [
    "corona.head()"
   ]
  },
  {
   "cell_type": "code",
   "execution_count": null,
   "metadata": {},
   "outputs": [],
   "source": [
    "## 컬럼의 이름을 변경\n",
    "## 데이터프레임에 있는 컬럼의 값들을 출력하는 방법\n",
    "## 데이터프레임명.columns \n",
    "corona.columns = [\"등록일시\", \"사망자\", \"확진자\", \"게시글번호\", \"기준일\", \n",
    "                \"기준시간\", \"수정일시\", \"누적의심자\", \"누적확진률\"\n",
    "                ]"
   ]
  },
  {
   "cell_type": "code",
   "execution_count": null,
   "metadata": {},
   "outputs": [],
   "source": [
    "corona.head()"
   ]
  },
  {
   "cell_type": "code",
   "execution_count": null,
   "metadata": {},
   "outputs": [],
   "source": [
    "## corona 데이터프레임에서 컬럼 '게시글번호'를 삭제\n",
    "## corona라는 변수를 수정\n",
    "\n",
    "#case1\n",
    "# corona = corona.drop([\"게시글번호\"], axis=\"columns\")\n",
    "#case2\n",
    "corona.drop([\"게시글번호\"], axis=1, inplace=True)"
   ]
  },
  {
   "cell_type": "code",
   "execution_count": null,
   "metadata": {},
   "outputs": [],
   "source": [
    "corona.head()"
   ]
  },
  {
   "cell_type": "code",
   "execution_count": null,
   "metadata": {},
   "outputs": [],
   "source": [
    "## 데이터프레임에 정렬을 변경\n",
    "corona.sort_values([\"등록일시\"], inplace=True)"
   ]
  },
  {
   "cell_type": "code",
   "execution_count": null,
   "metadata": {},
   "outputs": [],
   "source": [
    "corona.head()"
   ]
  },
  {
   "cell_type": "code",
   "execution_count": null,
   "metadata": {},
   "outputs": [],
   "source": [
    "## 인덱스를 초기화하여 새로운 넘버링\n",
    "corona.reset_index(drop=True, inplace=True)"
   ]
  },
  {
   "cell_type": "code",
   "execution_count": null,
   "metadata": {},
   "outputs": [],
   "source": [
    "corona.tail()"
   ]
  },
  {
   "cell_type": "code",
   "execution_count": null,
   "metadata": {},
   "outputs": [],
   "source": [
    "## 데이터간의 차이를 나타내는 함수\n",
    "## diff()\n",
    "# corona[\"확진자\"].diff()\n",
    "\n",
    "## corona 데이터프레임에 새로운 파생변수(일일 확진자) 추가\n",
    "corona[\"일일 확진자\"] = corona[\"확진자\"].diff() "
   ]
  },
  {
   "cell_type": "code",
   "execution_count": null,
   "metadata": {},
   "outputs": [],
   "source": [
    "corona.head()"
   ]
  },
  {
   "cell_type": "code",
   "execution_count": null,
   "metadata": {},
   "outputs": [],
   "source": [
    "## 새로운 파생변수 일일 사망자를 추가\n",
    "## 누적의심자, 누적확진률 컬럼을 삭제 (corona데이터프레임을 변경)\n",
    "\n",
    "corona[\"일일 사망자\"] = corona[\"사망자\"].diff()\n",
    "\n",
    "corona.drop([\"누적의심자\", \"누적확진률\"], axis=1, inplace=True)"
   ]
  },
  {
   "cell_type": "code",
   "execution_count": null,
   "metadata": {},
   "outputs": [],
   "source": [
    "corona.head()"
   ]
  },
  {
   "cell_type": "code",
   "execution_count": null,
   "metadata": {},
   "outputs": [],
   "source": [
    "## 결측치가 존재하는 행을 삭제\n",
    "## dropna() 함수를 이용하여 삭제\n",
    "corona.dropna(axis=0)"
   ]
  },
  {
   "cell_type": "code",
   "execution_count": null,
   "metadata": {},
   "outputs": [],
   "source": [
    "## 특정한 행을 삭제\n",
    "## drop() 함수를 이용하여 삭제\n",
    "corona.drop([0], axis=0)"
   ]
  },
  {
   "cell_type": "code",
   "execution_count": 36,
   "metadata": {},
   "outputs": [
    {
     "ename": "SyntaxError",
     "evalue": "invalid syntax (<ipython-input-36-d0a51ca944f3>, line 3)",
     "output_type": "error",
     "traceback": [
      "\u001b[1;36m  File \u001b[1;32m\"<ipython-input-36-d0a51ca944f3>\"\u001b[1;36m, line \u001b[1;32m3\u001b[0m\n\u001b[1;33m    corona.drop([[0:11]], axis=0)\u001b[0m\n\u001b[1;37m                   ^\u001b[0m\n\u001b[1;31mSyntaxError\u001b[0m\u001b[1;31m:\u001b[0m invalid syntax\n"
     ]
    }
   ],
   "source": [
    "## 특정한 행을 삭제 \n",
    "## 인덱스의 값이 0 부터 10까지를 삭제\n",
    "corona.drop([], axis=0)"
   ]
  },
  {
   "cell_type": "code",
   "execution_count": 40,
   "metadata": {},
   "outputs": [
    {
     "data": {
      "text/html": [
       "<div>\n",
       "<style scoped>\n",
       "    .dataframe tbody tr th:only-of-type {\n",
       "        vertical-align: middle;\n",
       "    }\n",
       "\n",
       "    .dataframe tbody tr th {\n",
       "        vertical-align: top;\n",
       "    }\n",
       "\n",
       "    .dataframe thead th {\n",
       "        text-align: right;\n",
       "    }\n",
       "</style>\n",
       "<table border=\"1\" class=\"dataframe\">\n",
       "  <thead>\n",
       "    <tr style=\"text-align: right;\">\n",
       "      <th></th>\n",
       "      <th>등록일시</th>\n",
       "      <th>사망자</th>\n",
       "      <th>확진자</th>\n",
       "      <th>기준일</th>\n",
       "      <th>기준시간</th>\n",
       "      <th>수정일시</th>\n",
       "      <th>일일 확진자</th>\n",
       "      <th>일일 사망자</th>\n",
       "    </tr>\n",
       "  </thead>\n",
       "  <tbody>\n",
       "    <tr>\n",
       "      <th>0</th>\n",
       "      <td>2020-01-20 17:00:00.000</td>\n",
       "      <td>0</td>\n",
       "      <td>1</td>\n",
       "      <td>20200120</td>\n",
       "      <td>17:00</td>\n",
       "      <td>2021-10-07 10:30:51.51</td>\n",
       "      <td>0.0</td>\n",
       "      <td>NaN</td>\n",
       "    </tr>\n",
       "    <tr>\n",
       "      <th>1</th>\n",
       "      <td>2020-01-21 09:00:00.000</td>\n",
       "      <td>0</td>\n",
       "      <td>1</td>\n",
       "      <td>20200121</td>\n",
       "      <td>09:00</td>\n",
       "      <td>2021-10-07 10:30:51.51</td>\n",
       "      <td>0.0</td>\n",
       "      <td>0.0</td>\n",
       "    </tr>\n",
       "    <tr>\n",
       "      <th>2</th>\n",
       "      <td>2020-01-22 12:00:00.000</td>\n",
       "      <td>0</td>\n",
       "      <td>1</td>\n",
       "      <td>20200122</td>\n",
       "      <td>12:00</td>\n",
       "      <td>2021-10-07 10:30:51.51</td>\n",
       "      <td>0.0</td>\n",
       "      <td>0.0</td>\n",
       "    </tr>\n",
       "    <tr>\n",
       "      <th>3</th>\n",
       "      <td>2020-01-23 09:00:00.000</td>\n",
       "      <td>0</td>\n",
       "      <td>1</td>\n",
       "      <td>20200123</td>\n",
       "      <td>09:00</td>\n",
       "      <td>2021-10-07 10:30:51.51</td>\n",
       "      <td>0.0</td>\n",
       "      <td>0.0</td>\n",
       "    </tr>\n",
       "    <tr>\n",
       "      <th>4</th>\n",
       "      <td>2020-01-24 00:00:00.000</td>\n",
       "      <td>0</td>\n",
       "      <td>2</td>\n",
       "      <td>20200124</td>\n",
       "      <td>00:00</td>\n",
       "      <td>2021-10-07 10:30:51.51</td>\n",
       "      <td>1.0</td>\n",
       "      <td>0.0</td>\n",
       "    </tr>\n",
       "  </tbody>\n",
       "</table>\n",
       "</div>"
      ],
      "text/plain": [
       "                      등록일시  사망자  확진자       기준일   기준시간                    수정일시  \\\n",
       "0  2020-01-20 17:00:00.000    0    1  20200120  17:00  2021-10-07 10:30:51.51   \n",
       "1  2020-01-21 09:00:00.000    0    1  20200121  09:00  2021-10-07 10:30:51.51   \n",
       "2  2020-01-22 12:00:00.000    0    1  20200122  12:00  2021-10-07 10:30:51.51   \n",
       "3  2020-01-23 09:00:00.000    0    1  20200123  09:00  2021-10-07 10:30:51.51   \n",
       "4  2020-01-24 00:00:00.000    0    2  20200124  00:00  2021-10-07 10:30:51.51   \n",
       "\n",
       "   일일 확진자  일일 사망자  \n",
       "0     0.0     NaN  \n",
       "1     0.0     0.0  \n",
       "2     0.0     0.0  \n",
       "3     0.0     0.0  \n",
       "4     1.0     0.0  "
      ]
     },
     "execution_count": 40,
     "metadata": {},
     "output_type": "execute_result"
    }
   ],
   "source": [
    "## 결측치를 다른 값으로 대체 \n",
    "## fillna(값) -> 결측치의 값들이 대체\n",
    "\n",
    "## corona 데이터프레임 안에 있는 모든 결측치를 0으로 대체\n",
    "corona.fillna(0)\n",
    "\n",
    "## corona데이터프레임에서 일일 확진자에 있는 결측치만 0으로 대체\n",
    "corona[\"일일 확진자\"] = corona[\"일일 확진자\"].fillna(0)\n",
    "corona.head()"
   ]
  },
  {
   "cell_type": "code",
   "execution_count": 41,
   "metadata": {},
   "outputs": [
    {
     "data": {
      "text/html": [
       "<div>\n",
       "<style scoped>\n",
       "    .dataframe tbody tr th:only-of-type {\n",
       "        vertical-align: middle;\n",
       "    }\n",
       "\n",
       "    .dataframe tbody tr th {\n",
       "        vertical-align: top;\n",
       "    }\n",
       "\n",
       "    .dataframe thead th {\n",
       "        text-align: right;\n",
       "    }\n",
       "</style>\n",
       "<table border=\"1\" class=\"dataframe\">\n",
       "  <thead>\n",
       "    <tr style=\"text-align: right;\">\n",
       "      <th></th>\n",
       "      <th>등록일시</th>\n",
       "      <th>사망자</th>\n",
       "      <th>확진자</th>\n",
       "      <th>기준일</th>\n",
       "      <th>기준시간</th>\n",
       "      <th>수정일시</th>\n",
       "      <th>일일 확진자</th>\n",
       "      <th>일일 사망자</th>\n",
       "    </tr>\n",
       "  </thead>\n",
       "  <tbody>\n",
       "    <tr>\n",
       "      <th>11</th>\n",
       "      <td>2020-01-31 00:00:00.000</td>\n",
       "      <td>0</td>\n",
       "      <td>11</td>\n",
       "      <td>20200131</td>\n",
       "      <td>00:00</td>\n",
       "      <td>2021-10-07 10:30:51.51</td>\n",
       "      <td>4.0</td>\n",
       "      <td>0.0</td>\n",
       "    </tr>\n",
       "    <tr>\n",
       "      <th>12</th>\n",
       "      <td>2020-02-01 00:00:00.000</td>\n",
       "      <td>0</td>\n",
       "      <td>12</td>\n",
       "      <td>20200201</td>\n",
       "      <td>00:00</td>\n",
       "      <td>2021-10-07 10:30:51.51</td>\n",
       "      <td>1.0</td>\n",
       "      <td>0.0</td>\n",
       "    </tr>\n",
       "    <tr>\n",
       "      <th>13</th>\n",
       "      <td>2020-02-02 00:00:00.000</td>\n",
       "      <td>0</td>\n",
       "      <td>15</td>\n",
       "      <td>20200202</td>\n",
       "      <td>00:00</td>\n",
       "      <td>2021-10-07 10:30:51.51</td>\n",
       "      <td>3.0</td>\n",
       "      <td>0.0</td>\n",
       "    </tr>\n",
       "    <tr>\n",
       "      <th>14</th>\n",
       "      <td>2020-02-03 00:00:00.000</td>\n",
       "      <td>0</td>\n",
       "      <td>15</td>\n",
       "      <td>20200203</td>\n",
       "      <td>00:00</td>\n",
       "      <td>2021-10-07 10:30:51.51</td>\n",
       "      <td>0.0</td>\n",
       "      <td>0.0</td>\n",
       "    </tr>\n",
       "    <tr>\n",
       "      <th>15</th>\n",
       "      <td>2020-02-04 00:00:00.000</td>\n",
       "      <td>0</td>\n",
       "      <td>16</td>\n",
       "      <td>20200204</td>\n",
       "      <td>00:00</td>\n",
       "      <td>2021-10-07 10:30:51.51</td>\n",
       "      <td>1.0</td>\n",
       "      <td>0.0</td>\n",
       "    </tr>\n",
       "    <tr>\n",
       "      <th>...</th>\n",
       "      <td>...</td>\n",
       "      <td>...</td>\n",
       "      <td>...</td>\n",
       "      <td>...</td>\n",
       "      <td>...</td>\n",
       "      <td>...</td>\n",
       "      <td>...</td>\n",
       "      <td>...</td>\n",
       "    </tr>\n",
       "    <tr>\n",
       "      <th>1054</th>\n",
       "      <td>2022-12-10 00:41:17.0</td>\n",
       "      <td>31029</td>\n",
       "      <td>27674163</td>\n",
       "      <td>20221210</td>\n",
       "      <td>00:00</td>\n",
       "      <td>NaN</td>\n",
       "      <td>62738.0</td>\n",
       "      <td>54.0</td>\n",
       "    </tr>\n",
       "    <tr>\n",
       "      <th>1055</th>\n",
       "      <td>2022-12-11 01:10:06.0</td>\n",
       "      <td>31069</td>\n",
       "      <td>27728482</td>\n",
       "      <td>20221211</td>\n",
       "      <td>00:00</td>\n",
       "      <td>NaN</td>\n",
       "      <td>54319.0</td>\n",
       "      <td>40.0</td>\n",
       "    </tr>\n",
       "    <tr>\n",
       "      <th>1056</th>\n",
       "      <td>2022-12-12 00:34:36.0</td>\n",
       "      <td>31099</td>\n",
       "      <td>27754149</td>\n",
       "      <td>20221212</td>\n",
       "      <td>00:00</td>\n",
       "      <td>NaN</td>\n",
       "      <td>25667.0</td>\n",
       "      <td>30.0</td>\n",
       "    </tr>\n",
       "    <tr>\n",
       "      <th>1057</th>\n",
       "      <td>2022-12-13 04:34:20.0</td>\n",
       "      <td>31128</td>\n",
       "      <td>27841001</td>\n",
       "      <td>20221213</td>\n",
       "      <td>00:00</td>\n",
       "      <td>NaN</td>\n",
       "      <td>86852.0</td>\n",
       "      <td>29.0</td>\n",
       "    </tr>\n",
       "    <tr>\n",
       "      <th>1058</th>\n",
       "      <td>2022-12-14 00:42:41.0</td>\n",
       "      <td>31174</td>\n",
       "      <td>27925572</td>\n",
       "      <td>20221214</td>\n",
       "      <td>00:00</td>\n",
       "      <td>NaN</td>\n",
       "      <td>84571.0</td>\n",
       "      <td>46.0</td>\n",
       "    </tr>\n",
       "  </tbody>\n",
       "</table>\n",
       "<p>1048 rows × 8 columns</p>\n",
       "</div>"
      ],
      "text/plain": [
       "                         등록일시    사망자       확진자       기준일   기준시간  \\\n",
       "11    2020-01-31 00:00:00.000      0        11  20200131  00:00   \n",
       "12    2020-02-01 00:00:00.000      0        12  20200201  00:00   \n",
       "13    2020-02-02 00:00:00.000      0        15  20200202  00:00   \n",
       "14    2020-02-03 00:00:00.000      0        15  20200203  00:00   \n",
       "15    2020-02-04 00:00:00.000      0        16  20200204  00:00   \n",
       "...                       ...    ...       ...       ...    ...   \n",
       "1054    2022-12-10 00:41:17.0  31029  27674163  20221210  00:00   \n",
       "1055    2022-12-11 01:10:06.0  31069  27728482  20221211  00:00   \n",
       "1056    2022-12-12 00:34:36.0  31099  27754149  20221212  00:00   \n",
       "1057    2022-12-13 04:34:20.0  31128  27841001  20221213  00:00   \n",
       "1058    2022-12-14 00:42:41.0  31174  27925572  20221214  00:00   \n",
       "\n",
       "                        수정일시   일일 확진자  일일 사망자  \n",
       "11    2021-10-07 10:30:51.51      4.0     0.0  \n",
       "12    2021-10-07 10:30:51.51      1.0     0.0  \n",
       "13    2021-10-07 10:30:51.51      3.0     0.0  \n",
       "14    2021-10-07 10:30:51.51      0.0     0.0  \n",
       "15    2021-10-07 10:30:51.51      1.0     0.0  \n",
       "...                      ...      ...     ...  \n",
       "1054                     NaN  62738.0    54.0  \n",
       "1055                     NaN  54319.0    40.0  \n",
       "1056                     NaN  25667.0    30.0  \n",
       "1057                     NaN  86852.0    29.0  \n",
       "1058                     NaN  84571.0    46.0  \n",
       "\n",
       "[1048 rows x 8 columns]"
      ]
     },
     "execution_count": 41,
     "metadata": {},
     "output_type": "execute_result"
    }
   ],
   "source": [
    "corona.drop(list(range(11)), axis=0)"
   ]
  },
  {
   "cell_type": "code",
   "execution_count": null,
   "metadata": {},
   "outputs": [],
   "source": []
  }
 ],
 "metadata": {
  "kernelspec": {
   "display_name": "Python 3",
   "language": "python",
   "name": "python3"
  },
  "language_info": {
   "codemirror_mode": {
    "name": "ipython",
    "version": 3
   },
   "file_extension": ".py",
   "mimetype": "text/x-python",
   "name": "python",
   "nbconvert_exporter": "python",
   "pygments_lexer": "ipython3",
   "version": "3.6.8"
  },
  "orig_nbformat": 4,
  "vscode": {
   "interpreter": {
    "hash": "187f19b7e1a6c9dce315ccb3b0d07c5b7aeed6681cd1ee8ee772db2198b62651"
   }
  }
 },
 "nbformat": 4,
 "nbformat_minor": 2
}
