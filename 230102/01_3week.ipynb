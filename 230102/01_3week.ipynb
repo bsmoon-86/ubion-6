{
 "cells": [
  {
   "attachments": {},
   "cell_type": "markdown",
   "metadata": {},
   "source": [
    "### pandas\n",
    "1. 시계열데이터 \n",
    "    - to_datetime() 함수를 이용하여 시계열로 데이터 형태를 변환\n",
    "    - 시간을 데이터화 하여 요일, 월, 일, 분기별, .... 그룹화 하여 표현\n",
    "2. 결측치 \n",
    "    - isna() : 결측치인 경우 True, 아닌 경우 False\n",
    "    - 데이터프레임에서 결측치의 수를 체크를 할때는 isna().sum()을 사용하여 결측치의 개수를 체크 \n",
    "    - fillna() : 결측치의 값을 다른 값을 대체하는 함수\n",
    "        - method : 'ffill' - 전의 값으로 대체 'bfill' - 후의 값으로 대체\n",
    "    - dropna() : 결측치가 존재하는 행이나 열을 삭제\n",
    "        - axis : 0이면 행을 기준으로 삭제, 1이면 열을 기준으로 삭제\n",
    "3. 통계 요약 정보 출력\n",
    "    - describe() : 데이터의 형태가 숫자형태인 경우 통계요약 정보를 출력\n",
    "4. 특정 위치의 데이터를 출력\n",
    "    -loc() : 인덱스와 컬럼의 값을 기준으로 특정 위치를 출력\n",
    "    -iloc() : 인덱스와 컬럼의 위치를 기준으로 특정 위치를 출력\n",
    "5. 그룹화 함수\n",
    "    - groupby() : 특정한 컬럼의 값을 기준으로 그룹화를 하여 데이터를 통계를 내는데 사용\n",
    "        - agg() : 통계 함수들을 동시에 사용하여 컬럼을 생성\n",
    "6. 데이터의 행을 이동하는 함수\n",
    "    - shift() : 데이터의 행을 이동한다. 기본값은 1 -> 바로 전의 행의 값을 가지고 온다. \n",
    "7. 데이터의 차이를 나타내는 함수\n",
    "    - diff() : 기본값은 1 -> 바로 전의 행의 값과의 차이를 출력\n",
    "8. 데이터의 각 항의 값들을 하나하나씩 함수에 넣어서 실행\n",
    "    - apply() : 일반함수를 사용하여 새로운 파생변수를 생성이 가능, 함수의 코드가 1줄로 처리가 되는 정도라면 lambda 함수를 이용 가능\n",
    "9. 데이터프레임의 결합\n",
    "    - 단순한 결합 (union 결합)\n",
    "        - concat() : 단순히 행을 결합하거나 열을 결합하는 함수 \n",
    "    - 특정 조건에 맞는 결합(join 결합)\n",
    "        - merge() : 두 개의 데이터 프레임을 특정한 조건에 맞춰서 결합\n",
    "            - on : 특정한 조건\n",
    "            - how : 결합에 기준이 되는 부분 지정"
   ]
  },
  {
   "attachments": {},
   "cell_type": "markdown",
   "metadata": {},
   "source": [
    "### 함수\n",
    "1. 특정한 행동을 반복적으로 사용해야되는 경우 함수를 생성\n",
    "2. 행동을 할때마다 코드를 작성하면 문제점 발생하는 경우\n",
    "    - 오타\n",
    "    - 가독성"
   ]
  },
  {
   "cell_type": "code",
   "execution_count": 5,
   "metadata": {},
   "outputs": [
    {
     "data": {
      "text/plain": [
       "64"
      ]
     },
     "execution_count": 5,
     "metadata": {},
     "output_type": "execute_result"
    }
   ],
   "source": [
    "def func_1(a,b):\n",
    "    if (type(a) in [int, float]) & (type(b) in [int, float]): \n",
    "        result = a ** b\n",
    "    else :\n",
    "        result = \"a와 b 둘중에 숫자타입이 아닌것이 존재\"\n",
    "    return result\n",
    "\n",
    "# func_1(5, 3)\n",
    "func_1(4, 3)"
   ]
  },
  {
   "cell_type": "code",
   "execution_count": 6,
   "metadata": {},
   "outputs": [],
   "source": [
    "import pandas as pd"
   ]
  },
  {
   "attachments": {},
   "cell_type": "markdown",
   "metadata": {},
   "source": [
    "### 함수 생성\n",
    "1. 데이터프레임을 받아와서 '각 컬럼 별'로 결측치를 개수 체크 -> print\n",
    "2. 데이터프레임에서 통계 요약 정보 출력 -> print\n",
    "3. 시계열 데이터의 형태인 컬럼을 시계열로 변경\n",
    "3. 데이터의 모든 공백을 삭제\n",
    "4. 데이터를 모두 대문자의 형태로 변경하여 return\n",
    "- test는 uriage.csv 파일을 로드하여 함수에 대입하여 테스트"
   ]
  },
  {
   "cell_type": "code",
   "execution_count": 42,
   "metadata": {},
   "outputs": [],
   "source": [
    "## 함수 생성 -> 매개변수 1개\n",
    "def change(df, date_col = []):\n",
    "    print(df.isna().sum())\n",
    "    print(df.describe())\n",
    "    if (len(date_col) != 0) & (type(date_col) == list):\n",
    "        for d_col in date_col:\n",
    "            if type(d_col) == int:\n",
    "                df.iloc[:, d_col] = pd.to_datetime(df.iloc[:, d_col])\n",
    "            elif type(d_col) == str:\n",
    "                df[d_col] = pd.to_datetime(df[d_col])\n",
    "    elif (len(date_col) != 0) & (type(date_col) in [str, int]):\n",
    "        if type(date_col) == int:\n",
    "            df.iloc[:, date_col] = pd.to_datetime(df.iloc[:, date_col])\n",
    "        else:\n",
    "            df[date_col] = pd.to_datetime(df[date_col])\n",
    "    for col in df.columns:\n",
    "        ## for문에서 1번째 반복인 경우 col = purchase_date\n",
    "        ## df['purchase_date'] = df['purchase_date'].apply(lambda x : x....)\n",
    "        ## x는?? -> purchase_date의 데이터 값 하나씩 대입\n",
    "        ## x는 타입이 str\n",
    "        df[col] = df[col].apply(\n",
    "            lambda x : (x.replace(\" \", \"\").upper()) if type(x) == str else x)\n",
    "        # if df[col].dtype == object:\n",
    "        #     df[col] = df[col].str.replace(\" \", \"\").str.upper()\n",
    "            # df[col] = df[col].str.upper()\n",
    "    return df"
   ]
  },
  {
   "cell_type": "code",
   "execution_count": 35,
   "metadata": {},
   "outputs": [],
   "source": [
    "df = pd.read_csv(\"../csv/uriage.csv\")"
   ]
  },
  {
   "cell_type": "code",
   "execution_count": 36,
   "metadata": {},
   "outputs": [
    {
     "name": "stdout",
     "output_type": "stream",
     "text": [
      "<class 'pandas.core.frame.DataFrame'>\n",
      "RangeIndex: 2999 entries, 0 to 2998\n",
      "Data columns (total 4 columns):\n",
      " #   Column         Non-Null Count  Dtype  \n",
      "---  ------         --------------  -----  \n",
      " 0   purchase_date  2999 non-null   object \n",
      " 1   item_name      2999 non-null   object \n",
      " 2   item_price     2612 non-null   float64\n",
      " 3   customer_name  2999 non-null   object \n",
      "dtypes: float64(1), object(3)\n",
      "memory usage: 93.8+ KB\n"
     ]
    }
   ],
   "source": [
    "df.info()"
   ]
  },
  {
   "cell_type": "code",
   "execution_count": 41,
   "metadata": {},
   "outputs": [
    {
     "name": "stdout",
     "output_type": "stream",
     "text": [
      "purchase_date      0\n",
      "item_name          0\n",
      "item_price       387\n",
      "customer_name      0\n",
      "dtype: int64\n",
      "        item_price\n",
      "count  2612.000000\n",
      "mean   1296.401225\n",
      "std     717.955460\n",
      "min     100.000000\n",
      "25%     700.000000\n",
      "50%    1300.000000\n",
      "75%    1900.000000\n",
      "max    2600.000000\n"
     ]
    },
    {
     "ename": "TypeError",
     "evalue": "object of type 'bool' has no len()",
     "output_type": "error",
     "traceback": [
      "\u001b[1;31m---------------------------------------------------------------------------\u001b[0m",
      "\u001b[1;31mTypeError\u001b[0m                                 Traceback (most recent call last)",
      "Cell \u001b[1;32mIn[41], line 1\u001b[0m\n\u001b[1;32m----> 1\u001b[0m change(df, \u001b[39m'\u001b[39;49m\u001b[39mpurchase_date\u001b[39;49m\u001b[39m'\u001b[39;49m)\u001b[39m.\u001b[39minfo()\n",
      "Cell \u001b[1;32mIn[40], line 11\u001b[0m, in \u001b[0;36mchange\u001b[1;34m(df, date_col)\u001b[0m\n\u001b[0;32m      9\u001b[0m         \u001b[39melif\u001b[39;00m \u001b[39mtype\u001b[39m(d_col) \u001b[39m==\u001b[39m \u001b[39mstr\u001b[39m:\n\u001b[0;32m     10\u001b[0m             df[d_col] \u001b[39m=\u001b[39m pd\u001b[39m.\u001b[39mto_datetime(df[d_col])\n\u001b[1;32m---> 11\u001b[0m \u001b[39melif\u001b[39;00m (\u001b[39mlen\u001b[39;49m(date_col \u001b[39m!=\u001b[39;49m \u001b[39m0\u001b[39;49m)) \u001b[39m&\u001b[39m (\u001b[39mtype\u001b[39m(date_col) \u001b[39min\u001b[39;00m [\u001b[39mstr\u001b[39m, \u001b[39mint\u001b[39m]):\n\u001b[0;32m     12\u001b[0m     \u001b[39mif\u001b[39;00m \u001b[39mtype\u001b[39m(date_col) \u001b[39m==\u001b[39m \u001b[39mint\u001b[39m:\n\u001b[0;32m     13\u001b[0m         df\u001b[39m.\u001b[39miloc[:, date_col] \u001b[39m=\u001b[39m pd\u001b[39m.\u001b[39mto_datetime(df\u001b[39m.\u001b[39miloc[:, date_col])\n",
      "\u001b[1;31mTypeError\u001b[0m: object of type 'bool' has no len()"
     ]
    }
   ],
   "source": [
    "change(df, 'purchase_date').info()"
   ]
  },
  {
   "cell_type": "code",
   "execution_count": 34,
   "metadata": {},
   "outputs": [
    {
     "name": "stdout",
     "output_type": "stream",
     "text": [
      "<class 'pandas.core.frame.DataFrame'>\n",
      "RangeIndex: 2999 entries, 0 to 2998\n",
      "Data columns (total 4 columns):\n",
      " #   Column         Non-Null Count  Dtype         \n",
      "---  ------         --------------  -----         \n",
      " 0   purchase_date  2999 non-null   datetime64[ns]\n",
      " 1   item_name      2999 non-null   object        \n",
      " 2   item_price     2612 non-null   float64       \n",
      " 3   customer_name  2999 non-null   object        \n",
      "dtypes: datetime64[ns](1), float64(1), object(2)\n",
      "memory usage: 93.8+ KB\n"
     ]
    }
   ],
   "source": [
    "df.info()"
   ]
  },
  {
   "cell_type": "code",
   "execution_count": 27,
   "metadata": {},
   "outputs": [
    {
     "data": {
      "text/plain": [
       "list"
      ]
     },
     "execution_count": 27,
     "metadata": {},
     "output_type": "execute_result"
    }
   ],
   "source": [
    "type([])"
   ]
  },
  {
   "cell_type": "code",
   "execution_count": 28,
   "metadata": {},
   "outputs": [
    {
     "data": {
      "text/plain": [
       "[1, 'Hello']"
      ]
     },
     "execution_count": 28,
     "metadata": {},
     "output_type": "execute_result"
    }
   ],
   "source": [
    "a = [1, \"Hello\"]\n",
    "a"
   ]
  },
  {
   "cell_type": "code",
   "execution_count": null,
   "metadata": {},
   "outputs": [],
   "source": []
  }
 ],
 "metadata": {
  "kernelspec": {
   "display_name": "Python 3",
   "language": "python",
   "name": "python3"
  },
  "language_info": {
   "codemirror_mode": {
    "name": "ipython",
    "version": 3
   },
   "file_extension": ".py",
   "mimetype": "text/x-python",
   "name": "python",
   "nbconvert_exporter": "python",
   "pygments_lexer": "ipython3",
   "version": "3.11.1"
  },
  "orig_nbformat": 4,
  "vscode": {
   "interpreter": {
    "hash": "9b5f1854d503dd71c3856bf3749ce047b3ad1e5d370827a8e1d34b45663952a6"
   }
  }
 },
 "nbformat": 4,
 "nbformat_minor": 2
}
