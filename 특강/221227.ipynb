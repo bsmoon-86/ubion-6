{
 "cells": [
  {
   "cell_type": "code",
   "execution_count": null,
   "metadata": {},
   "outputs": [],
   "source": [
    "import pandas as pd"
   ]
  },
  {
   "cell_type": "code",
   "execution_count": null,
   "metadata": {},
   "outputs": [],
   "source": [
    "df_13 = pd.read_excel('../data/20210913.xlsx', engine='openpyxl', index_col=0)\n",
    "df_14 = pd.read_excel(\"../data/20210914.xlsx\", engine='openpyxl', index_col=0)"
   ]
  },
  {
   "cell_type": "code",
   "execution_count": null,
   "metadata": {},
   "outputs": [],
   "source": [
    "df_13.head(1)"
   ]
  },
  {
   "cell_type": "code",
   "execution_count": null,
   "metadata": {},
   "outputs": [],
   "source": [
    "## 시가 0인 데이터 있는지 확인 \n",
    "df_13 = df_13[~(df_13['시가'] == 0)]\n",
    "df_14 = df_14[df_14['시가'] != 0]"
   ]
  },
  {
   "cell_type": "code",
   "execution_count": null,
   "metadata": {},
   "outputs": [],
   "source": [
    "## 추가 상장된 기업이 있는지 체크 \n",
    "idx = df_14.index.difference(df_13.index)\n",
    "df_14.loc[idx, '종목명']"
   ]
  },
  {
   "cell_type": "code",
   "execution_count": null,
   "metadata": {},
   "outputs": [],
   "source": [
    "전일비교시가총액 = df_13[\"시가총액\"].sum()\n",
    "전일기준시가총액 = df_13[\"시가총액\"].sum()\n",
    "증감률 = (전일비교시가총액 + df_14.loc[idx[0], '시가총액']) / 전일비교시가총액\n",
    "당일기준시가총액 = 증감률 * 전일기준시가총액\n",
    "당일비교시가총액 = df_14['시가총액'].sum()\n",
    "print( 당일비교시가총액 / 당일기준시가총액 )"
   ]
  },
  {
   "attachments": {},
   "cell_type": "markdown",
   "metadata": {},
   "source": [
    "## 삼성전자와 코스피 관계"
   ]
  },
  {
   "cell_type": "markdown",
   "metadata": {},
   "source": []
  },
  {
   "cell_type": "code",
   "execution_count": null,
   "metadata": {},
   "outputs": [],
   "source": [
    "df = df_14[[\"종목명\", \"종가\", \"시가총액\"]]\n",
    "df.head(2)"
   ]
  },
  {
   "cell_type": "code",
   "execution_count": null,
   "metadata": {},
   "outputs": [],
   "source": [
    "df['비중'] = df['시가총액'] / df['시가총액'].sum() * 100\n",
    "df.sort_values('비중', ascending=False).head()"
   ]
  },
  {
   "cell_type": "code",
   "execution_count": null,
   "metadata": {},
   "outputs": [],
   "source": [
    "!pip install openpyxl\n",
    "!pip install pandas\n",
    "!pip install matplotlib"
   ]
  },
  {
   "cell_type": "code",
   "execution_count": null,
   "metadata": {},
   "outputs": [],
   "source": [
    "import pandas as pd\n",
    "import numpy as np"
   ]
  },
  {
   "cell_type": "code",
   "execution_count": null,
   "metadata": {},
   "outputs": [],
   "source": [
    "kospi = pd.read_excel(\"../data/kospi.xlsx\", engine='openpyxl')\n",
    "samsung = pd.read_excel(\"../data/samsung.xlsx\", engine='openpyxl')"
   ]
  },
  {
   "cell_type": "code",
   "execution_count": null,
   "metadata": {},
   "outputs": [],
   "source": [
    "samsung.head()"
   ]
  },
  {
   "cell_type": "code",
   "execution_count": null,
   "metadata": {},
   "outputs": [],
   "source": [
    "data = [kospi['종가'], samsung['종가']]\n",
    "df = pd.concat(data, axis=1, keys=['kospi', 'samsung'])\n",
    "df.head()"
   ]
  },
  {
   "cell_type": "code",
   "execution_count": null,
   "metadata": {},
   "outputs": [],
   "source": [
    "df.plot.scatter(x='samsung', y='kospi')"
   ]
  },
  {
   "cell_type": "code",
   "execution_count": 12,
   "metadata": {},
   "outputs": [
    {
     "data": {
      "text/html": [
       "<div>\n",
       "<style scoped>\n",
       "    .dataframe tbody tr th:only-of-type {\n",
       "        vertical-align: middle;\n",
       "    }\n",
       "\n",
       "    .dataframe tbody tr th {\n",
       "        vertical-align: top;\n",
       "    }\n",
       "\n",
       "    .dataframe thead th {\n",
       "        text-align: right;\n",
       "    }\n",
       "</style>\n",
       "<table border=\"1\" class=\"dataframe\">\n",
       "  <thead>\n",
       "    <tr style=\"text-align: right;\">\n",
       "      <th></th>\n",
       "      <th>kospi</th>\n",
       "      <th>samsung</th>\n",
       "    </tr>\n",
       "  </thead>\n",
       "  <tbody>\n",
       "    <tr>\n",
       "      <th>kospi</th>\n",
       "      <td>1.000000</td>\n",
       "      <td>0.966597</td>\n",
       "    </tr>\n",
       "    <tr>\n",
       "      <th>samsung</th>\n",
       "      <td>0.966597</td>\n",
       "      <td>1.000000</td>\n",
       "    </tr>\n",
       "  </tbody>\n",
       "</table>\n",
       "</div>"
      ],
      "text/plain": [
       "            kospi   samsung\n",
       "kospi    1.000000  0.966597\n",
       "samsung  0.966597  1.000000"
      ]
     },
     "execution_count": 12,
     "metadata": {},
     "output_type": "execute_result"
    }
   ],
   "source": [
    "df.corr()"
   ]
  },
  {
   "cell_type": "code",
   "execution_count": 14,
   "metadata": {},
   "outputs": [
    {
     "data": {
      "text/html": [
       "<div>\n",
       "<style scoped>\n",
       "    .dataframe tbody tr th:only-of-type {\n",
       "        vertical-align: middle;\n",
       "    }\n",
       "\n",
       "    .dataframe tbody tr th {\n",
       "        vertical-align: top;\n",
       "    }\n",
       "\n",
       "    .dataframe thead th {\n",
       "        text-align: right;\n",
       "    }\n",
       "</style>\n",
       "<table border=\"1\" class=\"dataframe\">\n",
       "  <thead>\n",
       "    <tr style=\"text-align: right;\">\n",
       "      <th></th>\n",
       "      <th>일자</th>\n",
       "      <th>종가</th>\n",
       "      <th>대비</th>\n",
       "      <th>등락률</th>\n",
       "      <th>시가</th>\n",
       "      <th>고가</th>\n",
       "      <th>저가</th>\n",
       "      <th>거래량</th>\n",
       "      <th>거래대금</th>\n",
       "      <th>상장시가총액</th>\n",
       "    </tr>\n",
       "  </thead>\n",
       "  <tbody>\n",
       "    <tr>\n",
       "      <th>0</th>\n",
       "      <td>2021/08/31</td>\n",
       "      <td>3199.27</td>\n",
       "      <td>55.08</td>\n",
       "      <td>1.75</td>\n",
       "      <td>3144.49</td>\n",
       "      <td>3199.89</td>\n",
       "      <td>3130.30</td>\n",
       "      <td>661221</td>\n",
       "      <td>15863630</td>\n",
       "      <td>2309062613</td>\n",
       "    </tr>\n",
       "    <tr>\n",
       "      <th>1</th>\n",
       "      <td>2021/08/30</td>\n",
       "      <td>3144.19</td>\n",
       "      <td>10.29</td>\n",
       "      <td>0.33</td>\n",
       "      <td>3160.87</td>\n",
       "      <td>3164.87</td>\n",
       "      <td>3132.77</td>\n",
       "      <td>602858</td>\n",
       "      <td>11758710</td>\n",
       "      <td>2269580866</td>\n",
       "    </tr>\n",
       "    <tr>\n",
       "      <th>2</th>\n",
       "      <td>2021/08/27</td>\n",
       "      <td>3133.90</td>\n",
       "      <td>5.37</td>\n",
       "      <td>0.17</td>\n",
       "      <td>3116.29</td>\n",
       "      <td>3143.01</td>\n",
       "      <td>3106.97</td>\n",
       "      <td>520669</td>\n",
       "      <td>11039934</td>\n",
       "      <td>2262422712</td>\n",
       "    </tr>\n",
       "    <tr>\n",
       "      <th>3</th>\n",
       "      <td>2021/08/26</td>\n",
       "      <td>3128.53</td>\n",
       "      <td>-18.28</td>\n",
       "      <td>-0.58</td>\n",
       "      <td>3151.30</td>\n",
       "      <td>3159.37</td>\n",
       "      <td>3121.04</td>\n",
       "      <td>727719</td>\n",
       "      <td>13335288</td>\n",
       "      <td>2259280094</td>\n",
       "    </tr>\n",
       "    <tr>\n",
       "      <th>4</th>\n",
       "      <td>2021/08/25</td>\n",
       "      <td>3146.81</td>\n",
       "      <td>8.51</td>\n",
       "      <td>0.27</td>\n",
       "      <td>3148.13</td>\n",
       "      <td>3161.00</td>\n",
       "      <td>3124.25</td>\n",
       "      <td>624688</td>\n",
       "      <td>13365596</td>\n",
       "      <td>2272311235</td>\n",
       "    </tr>\n",
       "    <tr>\n",
       "      <th>...</th>\n",
       "      <td>...</td>\n",
       "      <td>...</td>\n",
       "      <td>...</td>\n",
       "      <td>...</td>\n",
       "      <td>...</td>\n",
       "      <td>...</td>\n",
       "      <td>...</td>\n",
       "      <td>...</td>\n",
       "      <td>...</td>\n",
       "      <td>...</td>\n",
       "    </tr>\n",
       "    <tr>\n",
       "      <th>409</th>\n",
       "      <td>2020/01/08</td>\n",
       "      <td>2151.31</td>\n",
       "      <td>-24.23</td>\n",
       "      <td>-1.11</td>\n",
       "      <td>2156.27</td>\n",
       "      <td>2162.32</td>\n",
       "      <td>2137.72</td>\n",
       "      <td>913831</td>\n",
       "      <td>8750722</td>\n",
       "      <td>1446631314</td>\n",
       "    </tr>\n",
       "    <tr>\n",
       "      <th>410</th>\n",
       "      <td>2020/01/07</td>\n",
       "      <td>2175.54</td>\n",
       "      <td>20.47</td>\n",
       "      <td>0.95</td>\n",
       "      <td>2166.60</td>\n",
       "      <td>2181.62</td>\n",
       "      <td>2164.27</td>\n",
       "      <td>568236</td>\n",
       "      <td>5143512</td>\n",
       "      <td>1462298814</td>\n",
       "    </tr>\n",
       "    <tr>\n",
       "      <th>411</th>\n",
       "      <td>2020/01/06</td>\n",
       "      <td>2155.07</td>\n",
       "      <td>-21.39</td>\n",
       "      <td>-0.98</td>\n",
       "      <td>2154.97</td>\n",
       "      <td>2164.42</td>\n",
       "      <td>2149.95</td>\n",
       "      <td>592671</td>\n",
       "      <td>5156541</td>\n",
       "      <td>1448385085</td>\n",
       "    </tr>\n",
       "    <tr>\n",
       "      <th>412</th>\n",
       "      <td>2020/01/03</td>\n",
       "      <td>2176.46</td>\n",
       "      <td>1.29</td>\n",
       "      <td>0.06</td>\n",
       "      <td>2192.58</td>\n",
       "      <td>2203.38</td>\n",
       "      <td>2165.39</td>\n",
       "      <td>631563</td>\n",
       "      <td>5763663</td>\n",
       "      <td>1462298972</td>\n",
       "    </tr>\n",
       "    <tr>\n",
       "      <th>413</th>\n",
       "      <td>2020/01/02</td>\n",
       "      <td>2175.17</td>\n",
       "      <td>-22.50</td>\n",
       "      <td>-1.02</td>\n",
       "      <td>2201.21</td>\n",
       "      <td>2202.32</td>\n",
       "      <td>2171.84</td>\n",
       "      <td>494678</td>\n",
       "      <td>4638167</td>\n",
       "      <td>1461424794</td>\n",
       "    </tr>\n",
       "  </tbody>\n",
       "</table>\n",
       "<p>414 rows × 10 columns</p>\n",
       "</div>"
      ],
      "text/plain": [
       "             일자       종가     대비   등락률       시가       고가       저가     거래량  \\\n",
       "0    2021/08/31  3199.27  55.08  1.75  3144.49  3199.89  3130.30  661221   \n",
       "1    2021/08/30  3144.19  10.29  0.33  3160.87  3164.87  3132.77  602858   \n",
       "2    2021/08/27  3133.90   5.37  0.17  3116.29  3143.01  3106.97  520669   \n",
       "3    2021/08/26  3128.53 -18.28 -0.58  3151.30  3159.37  3121.04  727719   \n",
       "4    2021/08/25  3146.81   8.51  0.27  3148.13  3161.00  3124.25  624688   \n",
       "..          ...      ...    ...   ...      ...      ...      ...     ...   \n",
       "409  2020/01/08  2151.31 -24.23 -1.11  2156.27  2162.32  2137.72  913831   \n",
       "410  2020/01/07  2175.54  20.47  0.95  2166.60  2181.62  2164.27  568236   \n",
       "411  2020/01/06  2155.07 -21.39 -0.98  2154.97  2164.42  2149.95  592671   \n",
       "412  2020/01/03  2176.46   1.29  0.06  2192.58  2203.38  2165.39  631563   \n",
       "413  2020/01/02  2175.17 -22.50 -1.02  2201.21  2202.32  2171.84  494678   \n",
       "\n",
       "         거래대금      상장시가총액  \n",
       "0    15863630  2309062613  \n",
       "1    11758710  2269580866  \n",
       "2    11039934  2262422712  \n",
       "3    13335288  2259280094  \n",
       "4    13365596  2272311235  \n",
       "..        ...         ...  \n",
       "409   8750722  1446631314  \n",
       "410   5143512  1462298814  \n",
       "411   5156541  1448385085  \n",
       "412   5763663  1462298972  \n",
       "413   4638167  1461424794  \n",
       "\n",
       "[414 rows x 10 columns]"
      ]
     },
     "execution_count": 14,
     "metadata": {},
     "output_type": "execute_result"
    }
   ],
   "source": [
    "kospi"
   ]
  },
  {
   "cell_type": "code",
   "execution_count": 15,
   "metadata": {},
   "outputs": [
    {
     "name": "stderr",
     "output_type": "stream",
     "text": [
      "c:\\Users\\moons\\AppData\\Local\\Programs\\Python\\Python311\\Lib\\site-packages\\openpyxl\\styles\\stylesheet.py:226: UserWarning: Workbook contains no default style, apply openpyxl's default\n",
      "  warn(\"Workbook contains no default style, apply openpyxl's default\")\n"
     ]
    },
    {
     "data": {
      "text/html": [
       "<div>\n",
       "<style scoped>\n",
       "    .dataframe tbody tr th:only-of-type {\n",
       "        vertical-align: middle;\n",
       "    }\n",
       "\n",
       "    .dataframe tbody tr th {\n",
       "        vertical-align: top;\n",
       "    }\n",
       "\n",
       "    .dataframe thead th {\n",
       "        text-align: right;\n",
       "    }\n",
       "</style>\n",
       "<table border=\"1\" class=\"dataframe\">\n",
       "  <thead>\n",
       "    <tr style=\"text-align: right;\">\n",
       "      <th></th>\n",
       "      <th>일자</th>\n",
       "      <th>종가</th>\n",
       "      <th>시가</th>\n",
       "      <th>고가</th>\n",
       "      <th>저가</th>\n",
       "      <th>거래량</th>\n",
       "    </tr>\n",
       "  </thead>\n",
       "  <tbody>\n",
       "    <tr>\n",
       "      <th>0</th>\n",
       "      <td>2021-08-31</td>\n",
       "      <td>3199.27</td>\n",
       "      <td>3144.49</td>\n",
       "      <td>3199.89</td>\n",
       "      <td>3130.30</td>\n",
       "      <td>661221</td>\n",
       "    </tr>\n",
       "    <tr>\n",
       "      <th>1</th>\n",
       "      <td>2021-08-30</td>\n",
       "      <td>3144.19</td>\n",
       "      <td>3160.87</td>\n",
       "      <td>3164.87</td>\n",
       "      <td>3132.77</td>\n",
       "      <td>602858</td>\n",
       "    </tr>\n",
       "    <tr>\n",
       "      <th>2</th>\n",
       "      <td>2021-08-27</td>\n",
       "      <td>3133.90</td>\n",
       "      <td>3116.29</td>\n",
       "      <td>3143.01</td>\n",
       "      <td>3106.97</td>\n",
       "      <td>520669</td>\n",
       "    </tr>\n",
       "    <tr>\n",
       "      <th>3</th>\n",
       "      <td>2021-08-26</td>\n",
       "      <td>3128.53</td>\n",
       "      <td>3151.30</td>\n",
       "      <td>3159.37</td>\n",
       "      <td>3121.04</td>\n",
       "      <td>727719</td>\n",
       "    </tr>\n",
       "    <tr>\n",
       "      <th>4</th>\n",
       "      <td>2021-08-25</td>\n",
       "      <td>3146.81</td>\n",
       "      <td>3148.13</td>\n",
       "      <td>3161.00</td>\n",
       "      <td>3124.25</td>\n",
       "      <td>624688</td>\n",
       "    </tr>\n",
       "  </tbody>\n",
       "</table>\n",
       "</div>"
      ],
      "text/plain": [
       "          일자       종가       시가       고가       저가     거래량\n",
       "0 2021-08-31  3199.27  3144.49  3199.89  3130.30  661221\n",
       "1 2021-08-30  3144.19  3160.87  3164.87  3132.77  602858\n",
       "2 2021-08-27  3133.90  3116.29  3143.01  3106.97  520669\n",
       "3 2021-08-26  3128.53  3151.30  3159.37  3121.04  727719\n",
       "4 2021-08-25  3146.81  3148.13  3161.00  3124.25  624688"
      ]
     },
     "execution_count": 15,
     "metadata": {},
     "output_type": "execute_result"
    }
   ],
   "source": [
    "kospi = pd.read_excel(\"../data/kospi.xlsx\", usecols=[0,1,4,5,6,7], parse_dates=[0])\n",
    "kospi.head()"
   ]
  },
  {
   "cell_type": "code",
   "execution_count": 18,
   "metadata": {},
   "outputs": [
    {
     "data": {
      "text/html": [
       "<div>\n",
       "<style scoped>\n",
       "    .dataframe tbody tr th:only-of-type {\n",
       "        vertical-align: middle;\n",
       "    }\n",
       "\n",
       "    .dataframe tbody tr th {\n",
       "        vertical-align: top;\n",
       "    }\n",
       "\n",
       "    .dataframe thead th {\n",
       "        text-align: right;\n",
       "    }\n",
       "</style>\n",
       "<table border=\"1\" class=\"dataframe\">\n",
       "  <thead>\n",
       "    <tr style=\"text-align: right;\">\n",
       "      <th></th>\n",
       "      <th>시가</th>\n",
       "      <th>고가</th>\n",
       "      <th>저가</th>\n",
       "      <th>종가</th>\n",
       "      <th>거래량</th>\n",
       "    </tr>\n",
       "    <tr>\n",
       "      <th>일자</th>\n",
       "      <th></th>\n",
       "      <th></th>\n",
       "      <th></th>\n",
       "      <th></th>\n",
       "      <th></th>\n",
       "    </tr>\n",
       "  </thead>\n",
       "  <tbody>\n",
       "    <tr>\n",
       "      <th>2020-03-31</th>\n",
       "      <td>2201.21</td>\n",
       "      <td>2277.23</td>\n",
       "      <td>1439.43</td>\n",
       "      <td>1754.64</td>\n",
       "      <td>44146859</td>\n",
       "    </tr>\n",
       "    <tr>\n",
       "      <th>2020-06-30</th>\n",
       "      <td>1737.28</td>\n",
       "      <td>2217.21</td>\n",
       "      <td>1664.13</td>\n",
       "      <td>2108.33</td>\n",
       "      <td>57115323</td>\n",
       "    </tr>\n",
       "    <tr>\n",
       "      <th>2020-09-30</th>\n",
       "      <td>2128.81</td>\n",
       "      <td>2458.17</td>\n",
       "      <td>2101.33</td>\n",
       "      <td>2327.89</td>\n",
       "      <td>56116804</td>\n",
       "    </tr>\n",
       "    <tr>\n",
       "      <th>2020-12-31</th>\n",
       "      <td>2330.55</td>\n",
       "      <td>2878.21</td>\n",
       "      <td>2266.93</td>\n",
       "      <td>2873.47</td>\n",
       "      <td>64644589</td>\n",
       "    </tr>\n",
       "    <tr>\n",
       "      <th>2021-03-31</th>\n",
       "      <td>2874.50</td>\n",
       "      <td>3266.23</td>\n",
       "      <td>2869.11</td>\n",
       "      <td>3061.42</td>\n",
       "      <td>84025557</td>\n",
       "    </tr>\n",
       "    <tr>\n",
       "      <th>2021-06-30</th>\n",
       "      <td>3073.77</td>\n",
       "      <td>3316.08</td>\n",
       "      <td>3069.68</td>\n",
       "      <td>3296.68</td>\n",
       "      <td>85211366</td>\n",
       "    </tr>\n",
       "    <tr>\n",
       "      <th>2021-09-30</th>\n",
       "      <td>3297.92</td>\n",
       "      <td>3313.51</td>\n",
       "      <td>3049.03</td>\n",
       "      <td>3199.27</td>\n",
       "      <td>35917984</td>\n",
       "    </tr>\n",
       "  </tbody>\n",
       "</table>\n",
       "</div>"
      ],
      "text/plain": [
       "                 시가       고가       저가       종가       거래량\n",
       "일자                                                      \n",
       "2020-03-31  2201.21  2277.23  1439.43  1754.64  44146859\n",
       "2020-06-30  1737.28  2217.21  1664.13  2108.33  57115323\n",
       "2020-09-30  2128.81  2458.17  2101.33  2327.89  56116804\n",
       "2020-12-31  2330.55  2878.21  2266.93  2873.47  64644589\n",
       "2021-03-31  2874.50  3266.23  2869.11  3061.42  84025557\n",
       "2021-06-30  3073.77  3316.08  3069.68  3296.68  85211366\n",
       "2021-09-30  3297.92  3313.51  3049.03  3199.27  35917984"
      ]
     },
     "execution_count": 18,
     "metadata": {},
     "output_type": "execute_result"
    }
   ],
   "source": [
    "## groupby 사용하는 함수 \n",
    "## min, mean, max, sum, count, first, last\n",
    "\n",
    "how = {\n",
    "    '시가' : 'first', \n",
    "    '고가' : 'max', \n",
    "    '저가' : 'min', \n",
    "    '종가' : 'last', \n",
    "    '거래량' : 'sum'\n",
    "}\n",
    "\n",
    "kospi.groupby(pd.Grouper(key='일자', freq='q')).agg(how)"
   ]
  },
  {
   "attachments": {},
   "cell_type": "markdown",
   "metadata": {},
   "source": [
    "### krx 라이브러리 설치\n"
   ]
  },
  {
   "cell_type": "code",
   "execution_count": null,
   "metadata": {},
   "outputs": [],
   "source": [
    "!pip install pykrx"
   ]
  },
  {
   "cell_type": "code",
   "execution_count": 22,
   "metadata": {},
   "outputs": [],
   "source": [
    "from pykrx import stock"
   ]
  },
  {
   "cell_type": "code",
   "execution_count": null,
   "metadata": {},
   "outputs": [],
   "source": [
    "ticker = stock.get_market_ticker_list('20190225')\n",
    "ticker"
   ]
  },
  {
   "cell_type": "code",
   "execution_count": null,
   "metadata": {},
   "outputs": [],
   "source": [
    "stock.get_market_ticker_list(market='KOSDAQ')"
   ]
  },
  {
   "cell_type": "code",
   "execution_count": 26,
   "metadata": {},
   "outputs": [
    {
     "data": {
      "text/html": [
       "<div>\n",
       "<style scoped>\n",
       "    .dataframe tbody tr th:only-of-type {\n",
       "        vertical-align: middle;\n",
       "    }\n",
       "\n",
       "    .dataframe tbody tr th {\n",
       "        vertical-align: top;\n",
       "    }\n",
       "\n",
       "    .dataframe thead th {\n",
       "        text-align: right;\n",
       "    }\n",
       "</style>\n",
       "<table border=\"1\" class=\"dataframe\">\n",
       "  <thead>\n",
       "    <tr style=\"text-align: right;\">\n",
       "      <th></th>\n",
       "      <th>시가</th>\n",
       "      <th>고가</th>\n",
       "      <th>저가</th>\n",
       "      <th>종가</th>\n",
       "      <th>거래량</th>\n",
       "    </tr>\n",
       "    <tr>\n",
       "      <th>날짜</th>\n",
       "      <th></th>\n",
       "      <th></th>\n",
       "      <th></th>\n",
       "      <th></th>\n",
       "      <th></th>\n",
       "    </tr>\n",
       "  </thead>\n",
       "  <tbody>\n",
       "    <tr>\n",
       "      <th>2020-01-31</th>\n",
       "      <td>55500</td>\n",
       "      <td>62800</td>\n",
       "      <td>54600</td>\n",
       "      <td>56400</td>\n",
       "      <td>319891636</td>\n",
       "    </tr>\n",
       "    <tr>\n",
       "      <th>2020-02-29</th>\n",
       "      <td>55500</td>\n",
       "      <td>62000</td>\n",
       "      <td>54200</td>\n",
       "      <td>54200</td>\n",
       "      <td>360007160</td>\n",
       "    </tr>\n",
       "    <tr>\n",
       "      <th>2020-03-31</th>\n",
       "      <td>54300</td>\n",
       "      <td>58000</td>\n",
       "      <td>42300</td>\n",
       "      <td>47750</td>\n",
       "      <td>856741868</td>\n",
       "    </tr>\n",
       "    <tr>\n",
       "      <th>2020-04-30</th>\n",
       "      <td>47450</td>\n",
       "      <td>52000</td>\n",
       "      <td>45350</td>\n",
       "      <td>50000</td>\n",
       "      <td>424101937</td>\n",
       "    </tr>\n",
       "    <tr>\n",
       "      <th>2020-05-31</th>\n",
       "      <td>48900</td>\n",
       "      <td>51200</td>\n",
       "      <td>47200</td>\n",
       "      <td>50700</td>\n",
       "      <td>374264673</td>\n",
       "    </tr>\n",
       "  </tbody>\n",
       "</table>\n",
       "</div>"
      ],
      "text/plain": [
       "               시가     고가     저가     종가        거래량\n",
       "날짜                                               \n",
       "2020-01-31  55500  62800  54600  56400  319891636\n",
       "2020-02-29  55500  62000  54200  54200  360007160\n",
       "2020-03-31  54300  58000  42300  47750  856741868\n",
       "2020-04-30  47450  52000  45350  50000  424101937\n",
       "2020-05-31  48900  51200  47200  50700  374264673"
      ]
     },
     "execution_count": 26,
     "metadata": {},
     "output_type": "execute_result"
    }
   ],
   "source": [
    "df = stock.get_market_ohlcv(\"20200101\", \"20221220\", \"005930\", \"m\")\n",
    "df.head()"
   ]
  },
  {
   "cell_type": "code",
   "execution_count": 28,
   "metadata": {},
   "outputs": [
    {
     "data": {
      "text/html": [
       "<div>\n",
       "<style scoped>\n",
       "    .dataframe tbody tr th:only-of-type {\n",
       "        vertical-align: middle;\n",
       "    }\n",
       "\n",
       "    .dataframe tbody tr th {\n",
       "        vertical-align: top;\n",
       "    }\n",
       "\n",
       "    .dataframe thead th {\n",
       "        text-align: right;\n",
       "    }\n",
       "</style>\n",
       "<table border=\"1\" class=\"dataframe\">\n",
       "  <thead>\n",
       "    <tr style=\"text-align: right;\">\n",
       "      <th></th>\n",
       "      <th>시가</th>\n",
       "      <th>고가</th>\n",
       "      <th>저가</th>\n",
       "      <th>종가</th>\n",
       "      <th>거래량</th>\n",
       "      <th>거래대금</th>\n",
       "      <th>등락률</th>\n",
       "    </tr>\n",
       "    <tr>\n",
       "      <th>티커</th>\n",
       "      <th></th>\n",
       "      <th></th>\n",
       "      <th></th>\n",
       "      <th></th>\n",
       "      <th></th>\n",
       "      <th></th>\n",
       "      <th></th>\n",
       "    </tr>\n",
       "  </thead>\n",
       "  <tbody>\n",
       "    <tr>\n",
       "      <th>095570</th>\n",
       "      <td>4900</td>\n",
       "      <td>5140</td>\n",
       "      <td>4895</td>\n",
       "      <td>5050</td>\n",
       "      <td>210107</td>\n",
       "      <td>1056111000</td>\n",
       "      <td>1.61</td>\n",
       "    </tr>\n",
       "    <tr>\n",
       "      <th>068400</th>\n",
       "      <td>11800</td>\n",
       "      <td>11950</td>\n",
       "      <td>11700</td>\n",
       "      <td>11800</td>\n",
       "      <td>86321</td>\n",
       "      <td>1016863100</td>\n",
       "      <td>0.00</td>\n",
       "    </tr>\n",
       "    <tr>\n",
       "      <th>006840</th>\n",
       "      <td>34300</td>\n",
       "      <td>35450</td>\n",
       "      <td>33650</td>\n",
       "      <td>34850</td>\n",
       "      <td>29008</td>\n",
       "      <td>1004482200</td>\n",
       "      <td>0.72</td>\n",
       "    </tr>\n",
       "    <tr>\n",
       "      <th>027410</th>\n",
       "      <td>5570</td>\n",
       "      <td>5610</td>\n",
       "      <td>5500</td>\n",
       "      <td>5500</td>\n",
       "      <td>119121</td>\n",
       "      <td>659409550</td>\n",
       "      <td>-1.79</td>\n",
       "    </tr>\n",
       "    <tr>\n",
       "      <th>282330</th>\n",
       "      <td>169000</td>\n",
       "      <td>170000</td>\n",
       "      <td>167500</td>\n",
       "      <td>168500</td>\n",
       "      <td>21308</td>\n",
       "      <td>3598915000</td>\n",
       "      <td>-0.59</td>\n",
       "    </tr>\n",
       "    <tr>\n",
       "      <th>...</th>\n",
       "      <td>...</td>\n",
       "      <td>...</td>\n",
       "      <td>...</td>\n",
       "      <td>...</td>\n",
       "      <td>...</td>\n",
       "      <td>...</td>\n",
       "      <td>...</td>\n",
       "    </tr>\n",
       "    <tr>\n",
       "      <th>069260</th>\n",
       "      <td>21100</td>\n",
       "      <td>21150</td>\n",
       "      <td>20600</td>\n",
       "      <td>20600</td>\n",
       "      <td>118882</td>\n",
       "      <td>2463141150</td>\n",
       "      <td>-2.60</td>\n",
       "    </tr>\n",
       "    <tr>\n",
       "      <th>000540</th>\n",
       "      <td>3060</td>\n",
       "      <td>3080</td>\n",
       "      <td>3035</td>\n",
       "      <td>3080</td>\n",
       "      <td>20337</td>\n",
       "      <td>62159800</td>\n",
       "      <td>0.49</td>\n",
       "    </tr>\n",
       "    <tr>\n",
       "      <th>000547</th>\n",
       "      <td>20250</td>\n",
       "      <td>20300</td>\n",
       "      <td>20250</td>\n",
       "      <td>20300</td>\n",
       "      <td>142</td>\n",
       "      <td>2876950</td>\n",
       "      <td>0.74</td>\n",
       "    </tr>\n",
       "    <tr>\n",
       "      <th>000545</th>\n",
       "      <td>4760</td>\n",
       "      <td>4820</td>\n",
       "      <td>4710</td>\n",
       "      <td>4800</td>\n",
       "      <td>7837</td>\n",
       "      <td>37231495</td>\n",
       "      <td>-0.21</td>\n",
       "    </tr>\n",
       "    <tr>\n",
       "      <th>003280</th>\n",
       "      <td>485</td>\n",
       "      <td>503</td>\n",
       "      <td>479</td>\n",
       "      <td>501</td>\n",
       "      <td>4590674</td>\n",
       "      <td>2260697942</td>\n",
       "      <td>4.16</td>\n",
       "    </tr>\n",
       "  </tbody>\n",
       "</table>\n",
       "<p>916 rows × 7 columns</p>\n",
       "</div>"
      ],
      "text/plain": [
       "            시가      고가      저가      종가      거래량        거래대금   등락률\n",
       "티커                                                               \n",
       "095570    4900    5140    4895    5050   210107  1056111000  1.61\n",
       "068400   11800   11950   11700   11800    86321  1016863100  0.00\n",
       "006840   34300   35450   33650   34850    29008  1004482200  0.72\n",
       "027410    5570    5610    5500    5500   119121   659409550 -1.79\n",
       "282330  169000  170000  167500  168500    21308  3598915000 -0.59\n",
       "...        ...     ...     ...     ...      ...         ...   ...\n",
       "069260   21100   21150   20600   20600   118882  2463141150 -2.60\n",
       "000540    3060    3080    3035    3080    20337    62159800  0.49\n",
       "000547   20250   20300   20250   20300      142     2876950  0.74\n",
       "000545    4760    4820    4710    4800     7837    37231495 -0.21\n",
       "003280     485     503     479     501  4590674  2260697942  4.16\n",
       "\n",
       "[916 rows x 7 columns]"
      ]
     },
     "execution_count": 28,
     "metadata": {},
     "output_type": "execute_result"
    }
   ],
   "source": [
    "stock.get_market_ohlcv('20200102')"
   ]
  },
  {
   "cell_type": "code",
   "execution_count": 29,
   "metadata": {},
   "outputs": [],
   "source": [
    "import time"
   ]
  },
  {
   "cell_type": "code",
   "execution_count": 30,
   "metadata": {},
   "outputs": [],
   "source": [
    "tickers = stock.get_market_ticker_list()"
   ]
  },
  {
   "cell_type": "code",
   "execution_count": 33,
   "metadata": {},
   "outputs": [
    {
     "data": {
      "text/plain": [
       "['095570', '006840', '027410', '282330']"
      ]
     },
     "execution_count": 33,
     "metadata": {},
     "output_type": "execute_result"
    }
   ],
   "source": [
    "tickers[:4]"
   ]
  },
  {
   "cell_type": "code",
   "execution_count": 35,
   "metadata": {},
   "outputs": [],
   "source": [
    "for i in tickers[:4]:\n",
    "    df = stock.get_market_ohlcv(\"20210101\", \"20220101\", i)\n",
    "    df.to_csv(i+\".csv\")\n",
    "    time.sleep(1)"
   ]
  },
  {
   "attachments": {},
   "cell_type": "markdown",
   "metadata": {},
   "source": [
    "### CAGR \n",
    "1. 연복리수익률\n",
    "2. (최종자산 / 최초자산)^(1/투자기간) - 1"
   ]
  },
  {
   "cell_type": "code",
   "execution_count": 36,
   "metadata": {},
   "outputs": [
    {
     "name": "stderr",
     "output_type": "stream",
     "text": [
      "c:\\Users\\moons\\AppData\\Local\\Programs\\Python\\Python311\\Lib\\site-packages\\openpyxl\\styles\\stylesheet.py:226: UserWarning: Workbook contains no default style, apply openpyxl's default\n",
      "  warn(\"Workbook contains no default style, apply openpyxl's default\")\n"
     ]
    }
   ],
   "source": [
    "kospi = pd.read_excel(\"../data/kospi.xlsx\", usecols=[0,1], index_col=0, parse_dates=True)\n"
   ]
  },
  {
   "cell_type": "code",
   "execution_count": 39,
   "metadata": {},
   "outputs": [
    {
     "data": {
      "text/html": [
       "<div>\n",
       "<style scoped>\n",
       "    .dataframe tbody tr th:only-of-type {\n",
       "        vertical-align: middle;\n",
       "    }\n",
       "\n",
       "    .dataframe tbody tr th {\n",
       "        vertical-align: top;\n",
       "    }\n",
       "\n",
       "    .dataframe thead th {\n",
       "        text-align: right;\n",
       "    }\n",
       "</style>\n",
       "<table border=\"1\" class=\"dataframe\">\n",
       "  <thead>\n",
       "    <tr style=\"text-align: right;\">\n",
       "      <th></th>\n",
       "      <th>종가</th>\n",
       "    </tr>\n",
       "    <tr>\n",
       "      <th>일자</th>\n",
       "      <th></th>\n",
       "    </tr>\n",
       "  </thead>\n",
       "  <tbody>\n",
       "    <tr>\n",
       "      <th>2020-01-02</th>\n",
       "      <td>2175.17</td>\n",
       "    </tr>\n",
       "    <tr>\n",
       "      <th>2020-01-03</th>\n",
       "      <td>2176.46</td>\n",
       "    </tr>\n",
       "    <tr>\n",
       "      <th>2020-01-06</th>\n",
       "      <td>2155.07</td>\n",
       "    </tr>\n",
       "    <tr>\n",
       "      <th>2020-01-07</th>\n",
       "      <td>2175.54</td>\n",
       "    </tr>\n",
       "    <tr>\n",
       "      <th>2020-01-08</th>\n",
       "      <td>2151.31</td>\n",
       "    </tr>\n",
       "  </tbody>\n",
       "</table>\n",
       "</div>"
      ],
      "text/plain": [
       "                 종가\n",
       "일자                 \n",
       "2020-01-02  2175.17\n",
       "2020-01-03  2176.46\n",
       "2020-01-06  2155.07\n",
       "2020-01-07  2175.54\n",
       "2020-01-08  2151.31"
      ]
     },
     "execution_count": 39,
     "metadata": {},
     "output_type": "execute_result"
    }
   ],
   "source": [
    "kospi = kospi.sort_index()\n",
    "kospi.head()"
   ]
  },
  {
   "cell_type": "code",
   "execution_count": 40,
   "metadata": {},
   "outputs": [
    {
     "data": {
      "text/plain": [
       "1.4708137754750203"
      ]
     },
     "execution_count": 40,
     "metadata": {},
     "output_type": "execute_result"
    }
   ],
   "source": [
    "수익율 = kospi.iloc[-1, 0] / kospi.iloc[0, 0]\n",
    "수익율"
   ]
  },
  {
   "cell_type": "code",
   "execution_count": 41,
   "metadata": {},
   "outputs": [
    {
     "data": {
      "text/plain": [
       "Timedelta('607 days 00:00:00')"
      ]
     },
     "execution_count": 41,
     "metadata": {},
     "output_type": "execute_result"
    }
   ],
   "source": [
    "diff = kospi.index[-1] - kospi.index[0]\n",
    "diff"
   ]
  },
  {
   "cell_type": "code",
   "execution_count": 43,
   "metadata": {},
   "outputs": [
    {
     "name": "stdout",
     "output_type": "stream",
     "text": [
      "26.111719470122587\n"
     ]
    }
   ],
   "source": [
    "투자기간 = diff.days / 365 \n",
    "CARG = 수익율 ** ( 1 / 투자기간 ) - 1\n",
    "print(CARG * 100)"
   ]
  },
  {
   "cell_type": "code",
   "execution_count": null,
   "metadata": {},
   "outputs": [],
   "source": []
  }
 ],
 "metadata": {
  "kernelspec": {
   "display_name": "Python 3",
   "language": "python",
   "name": "python3"
  },
  "language_info": {
   "codemirror_mode": {
    "name": "ipython",
    "version": 3
   },
   "file_extension": ".py",
   "mimetype": "text/x-python",
   "name": "python",
   "nbconvert_exporter": "python",
   "pygments_lexer": "ipython3",
   "version": "3.11.1 (tags/v3.11.1:a7a450f, Dec  6 2022, 19:58:39) [MSC v.1934 64 bit (AMD64)]"
  },
  "orig_nbformat": 4,
  "vscode": {
   "interpreter": {
    "hash": "9b5f1854d503dd71c3856bf3749ce047b3ad1e5d370827a8e1d34b45663952a6"
   }
  }
 },
 "nbformat": 4,
 "nbformat_minor": 2
}
