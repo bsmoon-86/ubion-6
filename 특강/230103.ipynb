{
 "cells": [
  {
   "attachments": {},
   "cell_type": "markdown",
   "metadata": {},
   "source": [
    "### 함수에서 사용되는 변수들\n",
    "1. 전역 변수\n",
    "    - 어디서든 사용이 가능한 변수\n",
    "    - 어디서든 사용이 가능하기에 함수 내에서도 사용이 가능\n",
    "    - 전역 변수의 값을 변경이 어렵다. \n",
    "2. 지역 변수\n",
    "    - 특정한 지역에서 사용이 가능한 변수\n",
    "    - 지역을 벗어나면 사용이 불가능하다. \n",
    "    - 함수의 경우에는 함수가 실행될때만 변수에 데이터가 저장 함수의 실행이 종료가 되면 변수 역시 삭제(매개변수와 같은 특징)\n",
    "3. 매개 변수\n",
    "    - 특정한 지역에서 사용이 가능한 변수\n",
    "    - 매개변수는 특정한 지역이 함수에서만 국한된다. \n",
    "    - 함수를 생성하는 경우에 필요에 의해서 생성\n",
    "    - 지역 변수와 마찬가지로 지역에서 벗어나면 사용이 불가능"
   ]
  },
  {
   "cell_type": "code",
   "execution_count": 3,
   "metadata": {},
   "outputs": [],
   "source": [
    "# 전역 변수 a를 생성해서 10이라는 값을 대입\n",
    "a = 10\n"
   ]
  },
  {
   "cell_type": "code",
   "execution_count": 5,
   "metadata": {},
   "outputs": [
    {
     "name": "stdout",
     "output_type": "stream",
     "text": [
      "11\n"
     ]
    }
   ],
   "source": [
    "def test():\n",
    "    b = a + 1\n",
    "    print(b)\n",
    "\n",
    "test()"
   ]
  },
  {
   "cell_type": "code",
   "execution_count": 8,
   "metadata": {},
   "outputs": [
    {
     "name": "stdout",
     "output_type": "stream",
     "text": [
      "mmmmmm\n"
     ]
    }
   ],
   "source": [
    "def test1():\n",
    "    name = \"mmmmmm\"\n",
    "\n",
    "    def test2():\n",
    "        print(name)\n",
    "\n",
    "    test2()\n",
    "\n",
    "test1()"
   ]
  },
  {
   "cell_type": "code",
   "execution_count": 9,
   "metadata": {},
   "outputs": [],
   "source": [
    "## 매개변수\n",
    "## a라는 매개변수에 대입을 할수 있는 데이터의 타입\n",
    "## 숫자 / 문자 / 리스트 / 딕셔너리 / 함수? / 클래스 / 튜플 / .....\n",
    "def func_1(a):\n",
    "    print(a)\n"
   ]
  },
  {
   "cell_type": "code",
   "execution_count": 13,
   "metadata": {},
   "outputs": [
    {
     "data": {
      "text/plain": [
       "'Hello'"
      ]
     },
     "execution_count": 13,
     "metadata": {},
     "output_type": "execute_result"
    }
   ],
   "source": [
    "def func_2(a):\n",
    "    return a\n",
    "def func_3(b):\n",
    "    return func_2(b) \n",
    "\n",
    "func_3(\"Hello\")"
   ]
  },
  {
   "cell_type": "code",
   "execution_count": 14,
   "metadata": {},
   "outputs": [],
   "source": [
    "class Test:\n",
    "    def __init__(self, _x, _y):\n",
    "        self.x = _x\n",
    "        self.y = _y\n",
    "    \n",
    "    def add(self):\n",
    "        return self.x + self.y\n",
    "\n",
    "    def change_x(self, _x):\n",
    "        self.x = _x"
   ]
  },
  {
   "cell_type": "code",
   "execution_count": 15,
   "metadata": {},
   "outputs": [],
   "source": [
    "class_test = Test(5, 3)"
   ]
  },
  {
   "cell_type": "code",
   "execution_count": 16,
   "metadata": {},
   "outputs": [
    {
     "data": {
      "text/plain": [
       "8"
      ]
     },
     "execution_count": 16,
     "metadata": {},
     "output_type": "execute_result"
    }
   ],
   "source": [
    "class_test.add()"
   ]
  },
  {
   "cell_type": "code",
   "execution_count": 17,
   "metadata": {},
   "outputs": [
    {
     "data": {
      "text/plain": [
       "13"
      ]
     },
     "execution_count": 17,
     "metadata": {},
     "output_type": "execute_result"
    }
   ],
   "source": [
    "class_test.change_x(10)\n",
    "class_test.add()"
   ]
  },
  {
   "cell_type": "code",
   "execution_count": 24,
   "metadata": {},
   "outputs": [
    {
     "name": "stdout",
     "output_type": "stream",
     "text": [
      "53\n",
      "53\n"
     ]
    }
   ],
   "source": [
    "def class_change():\n",
    "    print(class_test.add())\n",
    "    class_test.change_x(50)\n",
    "    print(class_test.add())\n"
   ]
  },
  {
   "cell_type": "code",
   "execution_count": 19,
   "metadata": {},
   "outputs": [
    {
     "name": "stdout",
     "output_type": "stream",
     "text": [
      "13\n",
      "53\n"
     ]
    }
   ],
   "source": [
    "class_change(class_test, 50)"
   ]
  },
  {
   "cell_type": "code",
   "execution_count": 20,
   "metadata": {},
   "outputs": [],
   "source": [
    "def test(a, b):\n",
    "    return a + b\n"
   ]
  },
  {
   "cell_type": "code",
   "execution_count": 23,
   "metadata": {},
   "outputs": [
    {
     "data": {
      "text/plain": [
       "8"
      ]
     },
     "execution_count": 23,
     "metadata": {},
     "output_type": "execute_result"
    }
   ],
   "source": [
    "# test(5, 3)\n",
    "5+3"
   ]
  },
  {
   "cell_type": "code",
   "execution_count": null,
   "metadata": {},
   "outputs": [],
   "source": []
  }
 ],
 "metadata": {
  "kernelspec": {
   "display_name": "Python 3",
   "language": "python",
   "name": "python3"
  },
  "language_info": {
   "codemirror_mode": {
    "name": "ipython",
    "version": 3
   },
   "file_extension": ".py",
   "mimetype": "text/x-python",
   "name": "python",
   "nbconvert_exporter": "python",
   "pygments_lexer": "ipython3",
   "version": "3.11.1 (tags/v3.11.1:a7a450f, Dec  6 2022, 19:58:39) [MSC v.1934 64 bit (AMD64)]"
  },
  "orig_nbformat": 4,
  "vscode": {
   "interpreter": {
    "hash": "9b5f1854d503dd71c3856bf3749ce047b3ad1e5d370827a8e1d34b45663952a6"
   }
  }
 },
 "nbformat": 4,
 "nbformat_minor": 2
}
