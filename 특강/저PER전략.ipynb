{
 "cells": [
  {
   "attachments": {},
   "cell_type": "markdown",
   "metadata": {},
   "source": [
    "- BPS : 주가수익배수\n",
    "- PER : 주가수익비율\n",
    "- PBR : 주가순자산비율\n",
    "- EPS : 주당순이익\n",
    "- DPS : 주당배당금"
   ]
  },
  {
   "cell_type": "code",
   "execution_count": null,
   "metadata": {},
   "outputs": [],
   "source": [
    "import pandas as pd"
   ]
  },
  {
   "cell_type": "code",
   "execution_count": null,
   "metadata": {},
   "outputs": [],
   "source": [
    "df = pd.read_excel(\n",
    "    \"./data_kosdaq_20210401_per.xlsx\", \n",
    "    engine='openpyxl', \n",
    "    index_col= 0, \n",
    "    usecols=[0,1,6,8]\n",
    ")"
   ]
  },
  {
   "cell_type": "code",
   "execution_count": null,
   "metadata": {},
   "outputs": [],
   "source": [
    "df.head()"
   ]
  },
  {
   "cell_type": "code",
   "execution_count": null,
   "metadata": {},
   "outputs": [],
   "source": [
    "import numpy as np"
   ]
  },
  {
   "cell_type": "code",
   "execution_count": null,
   "metadata": {},
   "outputs": [],
   "source": [
    "df.replace(\"-\", np.nan, inplace=True)"
   ]
  },
  {
   "cell_type": "code",
   "execution_count": null,
   "metadata": {},
   "outputs": [],
   "source": [
    "df.head()"
   ]
  },
  {
   "cell_type": "code",
   "execution_count": null,
   "metadata": {},
   "outputs": [],
   "source": [
    "df2 = pd.read_excel(\n",
    "    \"./data_kosdaq_20210401_sise.xlsx\", \n",
    "    engine=\"openpyxl\", \n",
    "    index_col=0\n",
    ")"
   ]
  },
  {
   "cell_type": "code",
   "execution_count": null,
   "metadata": {},
   "outputs": [],
   "source": [
    "df2[[\"거래량\"]]"
   ]
  },
  {
   "cell_type": "code",
   "execution_count": null,
   "metadata": {},
   "outputs": [],
   "source": [
    "df2 = df.join(other=df2[[\"거래량\"]])\n",
    "df2.head()"
   ]
  },
  {
   "cell_type": "code",
   "execution_count": null,
   "metadata": {},
   "outputs": [],
   "source": [
    "df_change = pd.read_excel(\n",
    "    \"./data_kosdaq_change_2021.xlsx\", \n",
    "    engine = \"openpyxl\", \n",
    "    index_col=0, \n",
    "    usecols=[0,5]\n",
    ")"
   ]
  },
  {
   "cell_type": "code",
   "execution_count": null,
   "metadata": {},
   "outputs": [],
   "source": [
    "df_change.head(1)"
   ]
  },
  {
   "cell_type": "code",
   "execution_count": null,
   "metadata": {},
   "outputs": [],
   "source": [
    "df3 = df2.join(other=df_change)\n",
    "df3.head(1)"
   ]
  },
  {
   "cell_type": "code",
   "execution_count": 20,
   "metadata": {},
   "outputs": [],
   "source": [
    "# 거래량이 0인 종목 -> 거래정지 된 목록 -> 제외\n",
    "cond = df3[\"거래량\"] != 0\n",
    "df4 = df3.loc[cond]"
   ]
  },
  {
   "cell_type": "code",
   "execution_count": null,
   "metadata": {},
   "outputs": [],
   "source": [
    "# PER을 기준으로 오름차순 정렬\n",
    "df4.sort_values(\"PER\", inplace=True)\n",
    "df4.reset_index(inplace=True)\n",
    "df4.head(10)"
   ]
  },
  {
   "cell_type": "code",
   "execution_count": 22,
   "metadata": {},
   "outputs": [
    {
     "data": {
      "text/plain": [
       "14.45"
      ]
     },
     "execution_count": 22,
     "metadata": {},
     "output_type": "execute_result"
    }
   ],
   "source": [
    "# 저 PER을 기준으로 하위 30개를 출력\n",
    "low_per30 = df4.head(30)\n",
    "low_per30[\"등락률\"].mean()"
   ]
  },
  {
   "cell_type": "code",
   "execution_count": 23,
   "metadata": {},
   "outputs": [
    {
     "name": "stderr",
     "output_type": "stream",
     "text": [
      "C:\\Users\\moons\\AppData\\Local\\Temp\\ipykernel_6408\\2449474840.py:2: SettingWithCopyWarning: \n",
      "A value is trying to be set on a copy of a slice from a DataFrame.\n",
      "Try using .loc[row_indexer,col_indexer] = value instead\n",
      "\n",
      "See the caveats in the documentation: https://pandas.pydata.org/pandas-docs/stable/user_guide/indexing.html#returning-a-view-versus-a-copy\n",
      "  df4['group'] = pd.cut(df4.index, bins=20, labels=False)\n"
     ]
    }
   ],
   "source": [
    "# 20개씩 데이터의 그룹을 생성 \n",
    "df4['group'] = pd.cut(df4.index, bins=20, labels=False)"
   ]
  },
  {
   "cell_type": "code",
   "execution_count": 27,
   "metadata": {},
   "outputs": [
    {
     "data": {
      "text/plain": [
       "0     70\n",
       "4     70\n",
       "14    70\n",
       "9     70\n",
       "19    70\n",
       "5     69\n",
       "6     69\n",
       "7     69\n",
       "8     69\n",
       "3     69\n",
       "1     69\n",
       "11    69\n",
       "12    69\n",
       "13    69\n",
       "2     69\n",
       "15    69\n",
       "16    69\n",
       "17    69\n",
       "18    69\n",
       "10    69\n",
       "Name: group, dtype: int64"
      ]
     },
     "execution_count": 27,
     "metadata": {},
     "output_type": "execute_result"
    }
   ],
   "source": [
    "df4['group'].value_counts()"
   ]
  },
  {
   "cell_type": "code",
   "execution_count": 29,
   "metadata": {},
   "outputs": [],
   "source": [
    "df5 = df4.groupby('group')[['등락률']].mean()"
   ]
  },
  {
   "cell_type": "code",
   "execution_count": 30,
   "metadata": {},
   "outputs": [
    {
     "data": {
      "image/png": "[encoded data removed]",
      "text/plain": [
       "<Figure size 1400x600 with 1 Axes>"
      ]
     },
     "metadata": {},
     "output_type": "display_data"
    }
   ],
   "source": [
    "import matplotlib.pyplot as plt\n",
    "import platform\n",
    "if platform.system() == \"Darwin\":\n",
    "    plt.rc(\"font\", family=\"AppleGothic\")\n",
    "else:\n",
    "    plt.rc(\"font\", family='Malgun Gothic')\n",
    "\n",
    "plt.figure(figsize=(14, 6))\n",
    "plt.bar(df5.index, df5['등락률'], width=0.4)\n",
    "plt.title(\"PER 그룹별 등락률\")\n",
    "plt.xlabel(\"PER 그룹\")\n",
    "plt.ylabel(\"수익률\")\n",
    "plt.show()"
   ]
  },
  {
   "cell_type": "code",
   "execution_count": null,
   "metadata": {},
   "outputs": [],
   "source": []
  }
 ],
 "metadata": {
  "kernelspec": {
   "display_name": "Python 3",
   "language": "python",
   "name": "python3"
  },
  "language_info": {
   "codemirror_mode": {
    "name": "ipython",
    "version": 3
   },
   "file_extension": ".py",
   "mimetype": "text/x-python",
   "name": "python",
   "nbconvert_exporter": "python",
   "pygments_lexer": "ipython3",
   "version": "3.11.1"
  },
  "orig_nbformat": 4,
  "vscode": {
   "interpreter": {
    "hash": "9b5f1854d503dd71c3856bf3749ce047b3ad1e5d370827a8e1d34b45663952a6"
   }
  }
 },
 "nbformat": 4,
 "nbformat_minor": 2
}
