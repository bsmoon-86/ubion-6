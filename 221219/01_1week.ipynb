{
 "cells": [
  {
   "attachments": {},
   "cell_type": "markdown",
   "metadata": {},
   "source": [
    "> 변수\n",
    "데이터를 저장하는 공간 -> 이름을 부여\n",
    "1. 변수를 선언할때는 사용할 변수의 이름 = 변수에 들어갈 데이터\n",
    "2. 데이터의 타입 여러가지 \n",
    "3. python만의 특징 -> 대부분 언어는 변수을 생성 데이터 타입을 지정 python에서는 자동으로 지정"
   ]
  },
  {
   "cell_type": "code",
   "execution_count": 1,
   "metadata": {},
   "outputs": [
    {
     "name": "stdout",
     "output_type": "stream",
     "text": [
      "<class 'str'>\n",
      "<class 'int'>\n"
     ]
    }
   ],
   "source": [
    "a = \"test\"\n",
    "b = 1234\n",
    "print(type(a))\n",
    "print(type(b))"
   ]
  },
  {
   "cell_type": "code",
   "execution_count": 2,
   "metadata": {},
   "outputs": [
    {
     "name": "stdout",
     "output_type": "stream",
     "text": [
      "test\n",
      "1234\n"
     ]
    }
   ],
   "source": [
    "c = \"test\"\n",
    "print(c)\n",
    "c = 1234\n",
    "print(c)"
   ]
  },
  {
   "attachments": {},
   "cell_type": "markdown",
   "metadata": {},
   "source": [
    "> 연산자\n",
    "1. 일반적인 사칙연산\n",
    "    - +(덧셈), -(뺄셈), *(곱셈), /(나눗셈), //(몫), %(나머지), **(제곱)\n",
    "2. 대입 연산자\n",
    "    - +=, -=, *=, /+, //=, %=, **=\n",
    "    - ex) a += b  -->  a = a + b\n",
    "3. 비교 연산자\n",
    "    - 두개의 값을 비교하여 참/거짓의 형태로 출력\n",
    "    - 주로 사용되는 곳은 조건문, 반복문에서 사용\n",
    "    - ==(두 값을 값이 같다), !=(같지 않다), >, <, >=, <=\n",
    "    - 비교를 해야되는 조건이 2개 이상인 경우 \n",
    "        - and : 두 가지의 조건이 모두 참인 경우 참 그 외에는 모두 거짓(&)\n",
    "        - or : 두 가지의 조건 중 하나만 참이여도 참, 모두 거짓인 경우에만 거짓(|)\n",
    "        - not : 참은 거짓으로 거짓은 참으로 출력(!, ~)"
   ]
  },
  {
   "cell_type": "code",
   "execution_count": 3,
   "metadata": {},
   "outputs": [
    {
     "name": "stdout",
     "output_type": "stream",
     "text": [
      "False\n",
      "True\n"
     ]
    }
   ],
   "source": [
    "x = 10\n",
    "y = 5\n",
    "print(x == y)\n",
    "print(x != y)"
   ]
  },
  {
   "cell_type": "code",
   "execution_count": 4,
   "metadata": {},
   "outputs": [
    {
     "name": "stdout",
     "output_type": "stream",
     "text": [
      "True\n",
      "False\n",
      "True\n",
      "False\n"
     ]
    }
   ],
   "source": [
    "print(True and True)\n",
    "print(True and False)\n",
    "print(True or False)\n",
    "print(not(True))"
   ]
  },
  {
   "attachments": {},
   "cell_type": "markdown",
   "metadata": {},
   "source": [
    "> 조건문(if문)\n",
    "1. 조건에 맞춰서 컴퓨터에게 지시를 내리기 위한 방법\n",
    "2. 조건식이 참인 경우 실행 할 코드 작성 \n",
    "3. 조건식이 거짓인 경우 실행 할 코드를 작성\n",
    "4. python 특징 : 실행 할 코드를 python에서는 {}(중괄호)를 사용하지 않기 때문에 들여쓰기로 작성"
   ]
  },
  {
   "cell_type": "code",
   "execution_count": 6,
   "metadata": {},
   "outputs": [
    {
     "name": "stdout",
     "output_type": "stream",
     "text": [
      "a는 20보다 작거나 같다\n"
     ]
    }
   ],
   "source": [
    "a = 10\n",
    "\n",
    "if a > 20:\n",
    "    ## if 조건식이 참인 경우 실행 할 코드 \n",
    "    print(\"a는 20보다 크다\")\n",
    "else:\n",
    "    print(\"a는 20보다 작거나 같다\")"
   ]
  },
  {
   "attachments": {},
   "cell_type": "markdown",
   "metadata": {},
   "source": [
    "- input() : 유저가 입력한 값을 가지고 오기 위한 함수"
   ]
  },
  {
   "attachments": {},
   "cell_type": "markdown",
   "metadata": {},
   "source": [
    "### 연습문제\n",
    "1. input함수를 이용하여 유저에게서 데이터를 받아오는 변수 하나 생성\n",
    "2. 유저가 입력한 데이터가 90 이상이면 \"A\" 출력\n",
    "3. 90미만 80이상 이면 \"B\"\n",
    "4. 80미만 70이상 이면 \"C\"\n",
    "5. 데이터의 타입이 int가 아니면 \"type error\" 출력\n",
    "6. 그 외의 경우에는 \"F\" 출력"
   ]
  },
  {
   "cell_type": "code",
   "execution_count": 10,
   "metadata": {},
   "outputs": [
    {
     "name": "stdout",
     "output_type": "stream",
     "text": [
      "F\n"
     ]
    }
   ],
   "source": [
    "score = int(input(\"점수를 입력하시오 : \"))\n",
    "\n",
    "if score >= 90:\n",
    "    print(\"A\")\n",
    "elif score >=80:\n",
    "    print(\"B\")\n",
    "elif score >= 70:\n",
    "    print(\"C\")\n",
    "elif type(score) != int:\n",
    "    print(\"type error\")\n",
    "else:\n",
    "    print(\"F\")"
   ]
  },
  {
   "attachments": {},
   "cell_type": "markdown",
   "metadata": {},
   "source": [
    "> 반복문 \n",
    "1. for문\n",
    "    - for 변수명 in list형태의 데이터 (range(시작값, 종료값, 증감값))\n",
    "    - 리스트의 길이만큼 반복\n",
    "    - 리스트 항목의 값들은 변수명에 담아서 아래의 코드에 대입하여 실행\n",
    "2. while문\n",
    "    - 초기값을 지정하는 변수를 생성\n",
    "    - while 조건식 \n",
    "    - 조건식이 참인 경우에 초기값을 증감 시켜서 조건식이 거짓이 될때까지 반복 실행"
   ]
  },
  {
   "cell_type": "code",
   "execution_count": 12,
   "metadata": {},
   "outputs": [
    {
     "name": "stdout",
     "output_type": "stream",
     "text": [
      "1,2,3,4,5,6,7,8,9\n"
     ]
    }
   ],
   "source": [
    "## for문 (range 함수를 이용하는 방법)\n",
    "for i in range(1, 10, 1):\n",
    "    if i == 9:\n",
    "        print(i)\n",
    "    else:\n",
    "        print(i, end=\",\")"
   ]
  },
  {
   "cell_type": "code",
   "execution_count": 13,
   "metadata": {},
   "outputs": [
    {
     "name": "stdout",
     "output_type": "stream",
     "text": [
      "A\n",
      "B\n",
      "C\n",
      "D\n"
     ]
    }
   ],
   "source": [
    "## for문 (list형태의 데이터를 이용하는 방법)\n",
    "list = [\"A\", \"B\", \"C\", \"D\"]\n",
    "for i in list:\n",
    "    print(i)"
   ]
  },
  {
   "cell_type": "code",
   "execution_count": 17,
   "metadata": {},
   "outputs": [
    {
     "name": "stdout",
     "output_type": "stream",
     "text": [
      "1,3,2,4,5,6,7,8,9,"
     ]
    }
   ],
   "source": [
    "list_2 = [[1,3], [2,4], [5,6], [7,8], '9']\n",
    "## for문을 이용하여 1, 3, 2, 4, 5, 6, 7, 8, 을 출력하시오\n",
    "## hint : 다중 for문\n",
    "for i in list_2:\n",
    "    # print(i)\n",
    "    for j in i:\n",
    "        print(j, end=\",\")"
   ]
  },
  {
   "cell_type": "code",
   "execution_count": 19,
   "metadata": {},
   "outputs": [
    {
     "name": "stdout",
     "output_type": "stream",
     "text": [
      "55\n"
     ]
    }
   ],
   "source": [
    "## while문 \n",
    "\n",
    "x = 1\n",
    "sum = 0 \n",
    "\n",
    "while x <= 10:\n",
    "    sum += x\n",
    "    x += 1\n",
    "print(sum)"
   ]
  },
  {
   "attachments": {},
   "cell_type": "markdown",
   "metadata": {},
   "source": [
    "1. tuple\n",
    "    - 여러 형태의 데이터를 담는 데이터\n",
    "    - 가장 기본적인 형태 \n",
    "    - 각 항목의 추가, 삭제, 수정이 불가능\n",
    "    - () 묶여서 표기\n",
    "2. list\n",
    "    - tuple과 흡사하지만 항목의 추가, 삭제, 수정이 가능\n",
    "    - [] 묶여서 표기"
   ]
  },
  {
   "cell_type": "code",
   "execution_count": 21,
   "metadata": {},
   "outputs": [
    {
     "name": "stdout",
     "output_type": "stream",
     "text": [
      "(1, 2)\n",
      "(1, 2, 3)\n"
     ]
    }
   ],
   "source": [
    "a = (1,2)\n",
    "print(a)\n",
    "a = (1,2,3)\n",
    "print(a)"
   ]
  },
  {
   "cell_type": "code",
   "execution_count": 22,
   "metadata": {},
   "outputs": [
    {
     "name": "stdout",
     "output_type": "stream",
     "text": [
      "[1, 2, 3]\n"
     ]
    }
   ],
   "source": [
    "list_b = [1,2,3]\n",
    "print(list_b)"
   ]
  },
  {
   "cell_type": "code",
   "execution_count": 23,
   "metadata": {},
   "outputs": [
    {
     "name": "stdout",
     "output_type": "stream",
     "text": [
      "[1, 2, 3, 4]\n"
     ]
    }
   ],
   "source": [
    "## 4 라는 항목을 추가 \n",
    "list_b.append(4)\n",
    "print(list_b)"
   ]
  },
  {
   "cell_type": "code",
   "execution_count": 25,
   "metadata": {},
   "outputs": [
    {
     "name": "stdout",
     "output_type": "stream",
     "text": [
      "False\n"
     ]
    }
   ],
   "source": [
    "## list 안의 항목에 존재하는가?\n",
    "## list_b안에 3이 존재하는가?\n",
    "\n",
    "result = False\n",
    "for i in list_b:\n",
    "    if i == 5:\n",
    "        result = True\n",
    "print(result)"
   ]
  },
  {
   "cell_type": "code",
   "execution_count": 26,
   "metadata": {},
   "outputs": [
    {
     "data": {
      "text/plain": [
       "True"
      ]
     },
     "execution_count": 26,
     "metadata": {},
     "output_type": "execute_result"
    }
   ],
   "source": [
    "3 in list_b"
   ]
  },
  {
   "attachments": {},
   "cell_type": "markdown",
   "metadata": {},
   "source": [
    "### 함수 \n",
    "1. 고정된 데이터의 값이 아니라 실행 할 코드를 저장하여 매개변수에 따라 결과 값을 돌려주는 코드 \n",
    "2. def 키워드를 이용하여 함수 생성\n",
    "3. 함수명(인자) 함수 호출\n",
    "4. 일반적인 경우에는 매개변수의 개수와 인자의 개수가 동일 해야한다. "
   ]
  },
  {
   "cell_type": "code",
   "execution_count": 27,
   "metadata": {},
   "outputs": [
    {
     "name": "stdout",
     "output_type": "stream",
     "text": [
      "25\n",
      "9\n"
     ]
    }
   ],
   "source": [
    "def func_1(x):\n",
    "    result = x ** 2\n",
    "    return result\n",
    "\n",
    "\n",
    "print(func_1(5))\n",
    "print(func_1(3))"
   ]
  },
  {
   "attachments": {},
   "cell_type": "markdown",
   "metadata": {},
   "source": [
    "### 연습문제 \n",
    "1. 비어있는 리스트를 하나 생성\n",
    "2. 함수 생성\n",
    "    - 매개변수 1개\n",
    "    - 받아온 인자값을 비어있는 리스트에 추가 \n",
    "    - 조건 : 리스트안에 인자값이 존재하면 추가 X, 존재하지 않으면 추가 O\n",
    "3. 단락 실행해서 비어있는 리스트와 함수를 생성\n",
    "4. 다음 단락에서 input()함수를 이용하여 2번과정에서 만든 함수를 실행, print(비어있는 리스트의 변수명)을 이용하여 리스트가 추가가 되는 과정을 확인"
   ]
  },
  {
   "cell_type": "code",
   "execution_count": 11,
   "metadata": {},
   "outputs": [],
   "source": [
    "## 비어있는 리스트\n",
    "result = []\n",
    "## 함수 생성\n",
    "def add_list(x):\n",
    "    if type(x) != str:\n",
    "        x = str(x)\n",
    "    if not(x in result):\n",
    "        result.append(x)\n",
    "    else:\n",
    "        print(\"리스트 안에 값이 존재합니다.\")\n",
    "    return result"
   ]
  },
  {
   "cell_type": "code",
   "execution_count": 12,
   "metadata": {},
   "outputs": [
    {
     "name": "stdout",
     "output_type": "stream",
     "text": [
      "['1']\n"
     ]
    }
   ],
   "source": [
    "## input()함수를 이용하여 함수를 실행\n",
    "add_value = input(\"값을 입력하시오 : \")\n",
    "print(add_list(add_value))"
   ]
  },
  {
   "cell_type": "code",
   "execution_count": 13,
   "metadata": {},
   "outputs": [
    {
     "name": "stdout",
     "output_type": "stream",
     "text": [
      "리스트 안에 값이 존재합니다.\n"
     ]
    },
    {
     "data": {
      "text/plain": [
       "['1']"
      ]
     },
     "execution_count": 13,
     "metadata": {},
     "output_type": "execute_result"
    }
   ],
   "source": [
    "add_list(1)"
   ]
  },
  {
   "attachments": {},
   "cell_type": "markdown",
   "metadata": {},
   "source": [
    "### 외부 라이브러리\n",
    "    - 라이브러리 설치 명령어 -> !pip install 라이브러리명\n",
    "    - 외부 라이브러리 로드 명령어 -> import 라이브러리명 as 별칭 / from 라이브러리명 import 라이브러리 내부의 함수나 클래스, 변수 as 별칭"
   ]
  },
  {
   "cell_type": "markdown",
   "metadata": {},
   "source": []
  },
  {
   "cell_type": "code",
   "execution_count": null,
   "metadata": {},
   "outputs": [],
   "source": []
  }
 ],
 "metadata": {
  "kernelspec": {
   "display_name": "Python 3",
   "language": "python",
   "name": "python3"
  },
  "language_info": {
   "codemirror_mode": {
    "name": "ipython",
    "version": 3
   },
   "file_extension": ".py",
   "mimetype": "text/x-python",
   "name": "python",
   "nbconvert_exporter": "python",
   "pygments_lexer": "ipython3",
   "version": "3.6.8"
  },
  "orig_nbformat": 4,
  "vscode": {
   "interpreter": {
    "hash": "187f19b7e1a6c9dce315ccb3b0d07c5b7aeed6681cd1ee8ee772db2198b62651"
   }
  }
 },
 "nbformat": 4,
 "nbformat_minor": 2
}
