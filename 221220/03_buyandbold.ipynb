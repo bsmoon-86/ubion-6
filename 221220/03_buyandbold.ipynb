{
 "cells": [
  {
   "cell_type": "code",
   "execution_count": null,
   "metadata": {},
   "outputs": [],
   "source": [
    "import pandas as pd\n",
    "import numpy as np"
   ]
  },
  {
   "attachments": {},
   "cell_type": "markdown",
   "metadata": {},
   "source": [
    "### buy and hold\n",
    "1. 결측치 및 이상치를 조회 및 삭제\n",
    "2. 종가를 기준으로 수익율 측정 \n",
    "3. 일별 수익율 파생변수 \n",
    "4. CAGR, MDD, VOL, sharpe를 출력"
   ]
  },
  {
   "cell_type": "code",
   "execution_count": null,
   "metadata": {},
   "outputs": [],
   "source": [
    "## 데이터 로드 \n",
    "df = pd.read_csv(\"../csv/AAPL.csv\", index_col='Date')\n",
    "df.head(2)"
   ]
  },
  {
   "cell_type": "code",
   "execution_count": null,
   "metadata": {},
   "outputs": [],
   "source": [
    "## 결측치 및 이상치를 조회\n",
    "df[df.isin([np.nan, np.inf, -np.inf]).any(1)]"
   ]
  },
  {
   "cell_type": "code",
   "execution_count": 7,
   "metadata": {},
   "outputs": [],
   "source": [
    "## 결측치 및 이상치를 제외한 데이터를 출력\n",
    "df = df[~df.isin([np.nan, np.inf, -np.inf]).any(1)]"
   ]
  },
  {
   "cell_type": "code",
   "execution_count": 12,
   "metadata": {},
   "outputs": [],
   "source": [
    "## 종가만 사용 (Adj Close) \n",
    "\n",
    "#case1\n",
    "# df[[\"Adj Close\"]]\n",
    "\n",
    "#case2\n",
    "price_df = df.loc[:, [\"Adj Close\"]]"
   ]
  },
  {
   "cell_type": "code",
   "execution_count": 13,
   "metadata": {},
   "outputs": [
    {
     "data": {
      "text/plain": [
       "<AxesSubplot:xlabel='Date'>"
      ]
     },
     "execution_count": 13,
     "metadata": {},
     "output_type": "execute_result"
    },
    {
     "data": {
      "image/png": "[encoded data removed]",
      "text/plain": [
       "<Figure size 432x288 with 1 Axes>"
      ]
     },
     "metadata": {
      "needs_background": "light"
     },
     "output_type": "display_data"
    }
   ],
   "source": [
    "price_df.plot()"
   ]
  },
  {
   "cell_type": "code",
   "execution_count": 18,
   "metadata": {},
   "outputs": [],
   "source": [
    "## 일별 수익율 생성\n",
    "## (오늘 날짜의 종가 - 어제 날짜의 종가) / 어제 날짜의 종가\n",
    "# daily_rtn 파생변수로 생성\n",
    "\n",
    "# case1 diff(), shift()\n",
    "price_df['Adj Close'].diff() / price_df['Adj Close'].shift()\n",
    "\n",
    "# case2 shift()\n",
    "(price_df['Adj Close'] - price_df[\"Adj Close\"].shift()) / price_df['Adj Close'].shift()\n",
    "\n",
    "# case3 pct_change()\n",
    "price_df['daily_rtn'] = price_df['Adj Close'].pct_change()"
   ]
  },
  {
   "cell_type": "code",
   "execution_count": 19,
   "metadata": {},
   "outputs": [
    {
     "data": {
      "text/html": [
       "<div>\n",
       "<style scoped>\n",
       "    .dataframe tbody tr th:only-of-type {\n",
       "        vertical-align: middle;\n",
       "    }\n",
       "\n",
       "    .dataframe tbody tr th {\n",
       "        vertical-align: top;\n",
       "    }\n",
       "\n",
       "    .dataframe thead th {\n",
       "        text-align: right;\n",
       "    }\n",
       "</style>\n",
       "<table border=\"1\" class=\"dataframe\">\n",
       "  <thead>\n",
       "    <tr style=\"text-align: right;\">\n",
       "      <th></th>\n",
       "      <th>Adj Close</th>\n",
       "      <th>daily_rtn</th>\n",
       "    </tr>\n",
       "    <tr>\n",
       "      <th>Date</th>\n",
       "      <th></th>\n",
       "      <th></th>\n",
       "    </tr>\n",
       "  </thead>\n",
       "  <tbody>\n",
       "    <tr>\n",
       "      <th>1980-12-12</th>\n",
       "      <td>0.410525</td>\n",
       "      <td>NaN</td>\n",
       "    </tr>\n",
       "    <tr>\n",
       "      <th>1980-12-15</th>\n",
       "      <td>0.389106</td>\n",
       "      <td>-0.052175</td>\n",
       "    </tr>\n",
       "    <tr>\n",
       "      <th>1980-12-16</th>\n",
       "      <td>0.360548</td>\n",
       "      <td>-0.073394</td>\n",
       "    </tr>\n",
       "    <tr>\n",
       "      <th>1980-12-17</th>\n",
       "      <td>0.369472</td>\n",
       "      <td>0.024751</td>\n",
       "    </tr>\n",
       "    <tr>\n",
       "      <th>1980-12-18</th>\n",
       "      <td>0.380182</td>\n",
       "      <td>0.028987</td>\n",
       "    </tr>\n",
       "    <tr>\n",
       "      <th>1980-12-19</th>\n",
       "      <td>0.403385</td>\n",
       "      <td>0.061031</td>\n",
       "    </tr>\n",
       "    <tr>\n",
       "      <th>1980-12-22</th>\n",
       "      <td>0.423019</td>\n",
       "      <td>0.048673</td>\n",
       "    </tr>\n",
       "    <tr>\n",
       "      <th>1980-12-23</th>\n",
       "      <td>0.440868</td>\n",
       "      <td>0.042194</td>\n",
       "    </tr>\n",
       "    <tr>\n",
       "      <th>1980-12-24</th>\n",
       "      <td>0.464072</td>\n",
       "      <td>0.052633</td>\n",
       "    </tr>\n",
       "    <tr>\n",
       "      <th>1980-12-26</th>\n",
       "      <td>0.506909</td>\n",
       "      <td>0.092307</td>\n",
       "    </tr>\n",
       "  </tbody>\n",
       "</table>\n",
       "</div>"
      ],
      "text/plain": [
       "            Adj Close  daily_rtn\n",
       "Date                            \n",
       "1980-12-12   0.410525        NaN\n",
       "1980-12-15   0.389106  -0.052175\n",
       "1980-12-16   0.360548  -0.073394\n",
       "1980-12-17   0.369472   0.024751\n",
       "1980-12-18   0.380182   0.028987\n",
       "1980-12-19   0.403385   0.061031\n",
       "1980-12-22   0.423019   0.048673\n",
       "1980-12-23   0.440868   0.042194\n",
       "1980-12-24   0.464072   0.052633\n",
       "1980-12-26   0.506909   0.092307"
      ]
     },
     "execution_count": 19,
     "metadata": {},
     "output_type": "execute_result"
    }
   ],
   "source": [
    "price_df.head(10)"
   ]
  },
  {
   "cell_type": "code",
   "execution_count": 22,
   "metadata": {},
   "outputs": [],
   "source": [
    "## 일별 수익율 가지고 총 수익율을 구하려면?\n",
    "## 누적곱 cumprod()\n",
    "## st_rtn 파생변수 생성\n",
    "price_df['st_rtn'] = (1 + price_df['daily_rtn']).cumprod()"
   ]
  },
  {
   "cell_type": "code",
   "execution_count": null,
   "metadata": {},
   "outputs": [],
   "source": [
    "price_df.head(10)"
   ]
  },
  {
   "cell_type": "code",
   "execution_count": 24,
   "metadata": {},
   "outputs": [
    {
     "data": {
      "text/plain": [
       "<AxesSubplot:xlabel='Date'>"
      ]
     },
     "execution_count": 24,
     "metadata": {},
     "output_type": "execute_result"
    },
    {
     "data": {
      "image/png": "[encoded data removed]",
      "text/plain": [
       "<Figure size 432x288 with 1 Axes>"
      ]
     },
     "metadata": {
      "needs_background": "light"
     },
     "output_type": "display_data"
    }
   ],
   "source": [
    "price_df['st_rtn'].plot()"
   ]
  },
  {
   "cell_type": "code",
   "execution_count": 28,
   "metadata": {},
   "outputs": [
    {
     "data": {
      "text/plain": [
       "485.15924243346933"
      ]
     },
     "execution_count": 28,
     "metadata": {},
     "output_type": "execute_result"
    }
   ],
   "source": [
    "## 종가를 기준으로 수익율 계산\n",
    "# 마지막 데이터의 종가 / 처음 데이터의 종가\n",
    "# 데이터프레임.index --> list 형태의 데이터가 출력\n",
    "# list형태의 데이터에서 첫번째 원소가 구매일, list 마지막 원소가 판매일\n",
    "# 데이터프레임 필터링 판매일에 종가 / 구매일의 종가 --> 수익율 \n",
    "price_df.index\n",
    "first_date = price_df.index[0]\n",
    "last_date = price_df.index[-1]\n",
    "\n",
    "## 구매일에 종가 출력\n",
    "price_df.loc[last_date, 'Adj Close'] / price_df.loc[first_date, 'Adj Close']\n"
   ]
  },
  {
   "cell_type": "code",
   "execution_count": 29,
   "metadata": {},
   "outputs": [
    {
     "data": {
      "text/plain": [
       "485.15924243347024"
      ]
     },
     "execution_count": 29,
     "metadata": {},
     "output_type": "execute_result"
    }
   ],
   "source": [
    "\n",
    "## 누적 수익율 출력\n",
    "price_df.loc[last_date, 'st_rtn']"
   ]
  },
  {
   "cell_type": "code",
   "execution_count": 25,
   "metadata": {},
   "outputs": [
    {
     "name": "stdout",
     "output_type": "stream",
     "text": [
      "1\n",
      "5\n"
     ]
    }
   ],
   "source": [
    "a = [1,2,3,4,5]\n",
    "## 변수명[index] --> index 위치의 데이터가 출력\n",
    "# list 데이터에서 첫번째 값 출력\n",
    "print(a[0])\n",
    "# list 데이터에서 마지막 값 출력\n",
    "print(a[-1])"
   ]
  },
  {
   "cell_type": "code",
   "execution_count": 30,
   "metadata": {},
   "outputs": [
    {
     "data": {
      "text/plain": [
       "<AxesSubplot:xlabel='Date'>"
      ]
     },
     "execution_count": 30,
     "metadata": {},
     "output_type": "execute_result"
    },
    {
     "data": {
      "image/png": "[encoded data removed]",
      "text/plain": [
       "<Figure size 432x288 with 1 Axes>"
      ]
     },
     "metadata": {
      "needs_background": "light"
     },
     "output_type": "display_data"
    }
   ],
   "source": [
    "# backtesting \n",
    "\n",
    "# cummax() - 기준 값에서 최고가 저장\n",
    "# cummin() - 기준 값에서 최저가 저장\n",
    "\n",
    "historical_max = price_df['Adj Close'].cummax()\n",
    "daily_drawdown = price_df[\"Adj Close\"] / historical_max - 1.0\n",
    "## 최대 낙폭 \n",
    "historical_min =  daily_drawdown.cummin()\n",
    "historical_min.plot()"
   ]
  },
  {
   "cell_type": "code",
   "execution_count": 31,
   "metadata": {},
   "outputs": [],
   "source": [
    "## CAGR, MDD, VOL, sharpe 출력\n",
    "## CAGR : 일별 date 사용 -> \n",
    "# 전체 연도를 계산하는 경우 영업일 기간을 252일 기준으로 나눈 역수 제곱한 후 -1\n",
    "## MDD : 최대 낙폭\n",
    "## VOL : 연 주가 수익율 표준편차 = 일별 주가 수익율 * 252일 제곱근\n",
    "## sharpe : 총 위험 1단위당 초과 수익율\n",
    "CAGR = price_df.loc[last_date, 'st_rtn'] ** (252/len(price_df)) - 1\n",
    "MDD = historical_min.min()\n",
    "VOL = np.std(price_df[\"daily_rtn\"] * np.sqrt(252))\n",
    "sharpe = np.mean(price_df[\"daily_rtn\"])/\\\n",
    "    np.std(price_df[\"daily_rtn\"])*np.sqrt(252)"
   ]
  },
  {
   "cell_type": "code",
   "execution_count": 32,
   "metadata": {},
   "outputs": [
    {
     "name": "stdout",
     "output_type": "stream",
     "text": [
      "CAGR :  17.4 %\n",
      "Sharpe :  0.58\n",
      "VOL :  45.7 %\n",
      "MDD :  81.8 %\n"
     ]
    }
   ],
   "source": [
    "print('CAGR : ', round(CAGR*100, 2), '%')\n",
    "print('Sharpe : ', round(sharpe, 2))\n",
    "print('VOL : ', round(VOL*100, 2), '%')\n",
    "print('MDD : ', round(-1*MDD*100, 2), '%')"
   ]
  },
  {
   "cell_type": "code",
   "execution_count": 33,
   "metadata": {},
   "outputs": [
    {
     "data": {
      "text/plain": [
       "0.4570483127920231"
      ]
     },
     "execution_count": 33,
     "metadata": {},
     "output_type": "execute_result"
    }
   ],
   "source": [
    "VOL"
   ]
  },
  {
   "cell_type": "code",
   "execution_count": 41,
   "metadata": {},
   "outputs": [
    {
     "data": {
      "text/plain": [
       "<module 'buy_and_hold' from 'g:\\\\ubion\\\\금융 빅데이터 6기\\\\221220\\\\buy_and_hold\\\\__init__.py'>"
      ]
     },
     "execution_count": 41,
     "metadata": {},
     "output_type": "execute_result"
    }
   ],
   "source": [
    "import buy_and_hold as bah\n",
    "import imp\n",
    "imp.reload(bah)"
   ]
  },
  {
   "cell_type": "code",
   "execution_count": 35,
   "metadata": {},
   "outputs": [],
   "source": [
    "## 데이터프레임 로드 \n",
    "df_2 = pd.read_csv(\"../csv/AMZN.csv\", index_col='Date')"
   ]
  },
  {
   "cell_type": "code",
   "execution_count": 36,
   "metadata": {},
   "outputs": [],
   "source": [
    "## 클래스 생성\n",
    "bh = bah.BuyAndHold(df_2, 'Adj Close')"
   ]
  },
  {
   "cell_type": "code",
   "execution_count": null,
   "metadata": {},
   "outputs": [],
   "source": [
    "bh.drop_na()"
   ]
  },
  {
   "cell_type": "code",
   "execution_count": null,
   "metadata": {},
   "outputs": [],
   "source": [
    "bh.add_col()"
   ]
  },
  {
   "cell_type": "code",
   "execution_count": 39,
   "metadata": {},
   "outputs": [
    {
     "data": {
      "text/plain": [
       "[0.3657939001986632,\n",
       " 0.8136327617304075,\n",
       " 0.6008984712355606,\n",
       " -0.944042179261863]"
      ]
     },
     "execution_count": 39,
     "metadata": {},
     "output_type": "execute_result"
    }
   ],
   "source": [
    "bh.testing()"
   ]
  },
  {
   "cell_type": "code",
   "execution_count": null,
   "metadata": {},
   "outputs": [],
   "source": [
    "print('CAGR : ', round(CAGR*100, 2), '%')\n",
    "print('Sharpe : ', round(sharpe, 2))\n",
    "print('VOL : ', round(VOL*100, 2), '%')\n",
    "print('MDD : ', round(-1*MDD*100, 2), '%')"
   ]
  },
  {
   "cell_type": "code",
   "execution_count": 42,
   "metadata": {},
   "outputs": [],
   "source": [
    "import yfinance as yf"
   ]
  },
  {
   "cell_type": "code",
   "execution_count": 46,
   "metadata": {},
   "outputs": [
    {
     "name": "stdout",
     "output_type": "stream",
     "text": [
      "[*********************100%***********************]  1 of 1 completed\n",
      "<class 'pandas.core.frame.DataFrame'>\n",
      "DatetimeIndex: 1223 entries, 2018-01-02 to 2022-12-20\n",
      "Data columns (total 6 columns):\n",
      " #   Column     Non-Null Count  Dtype  \n",
      "---  ------     --------------  -----  \n",
      " 0   Open       1223 non-null   float64\n",
      " 1   High       1223 non-null   float64\n",
      " 2   Low        1223 non-null   float64\n",
      " 3   Close      1223 non-null   float64\n",
      " 4   Adj Close  1223 non-null   float64\n",
      " 5   Volume     1223 non-null   int64  \n",
      "dtypes: float64(5), int64(1)\n",
      "memory usage: 66.9 KB\n"
     ]
    }
   ],
   "source": [
    "df_3 = yf.download('003490.KS', start='2018-01-01')\n",
    "df_3.info()"
   ]
  },
  {
   "cell_type": "code",
   "execution_count": 47,
   "metadata": {},
   "outputs": [
    {
     "data": {
      "text/html": [
       "<div>\n",
       "<style scoped>\n",
       "    .dataframe tbody tr th:only-of-type {\n",
       "        vertical-align: middle;\n",
       "    }\n",
       "\n",
       "    .dataframe tbody tr th {\n",
       "        vertical-align: top;\n",
       "    }\n",
       "\n",
       "    .dataframe thead th {\n",
       "        text-align: right;\n",
       "    }\n",
       "</style>\n",
       "<table border=\"1\" class=\"dataframe\">\n",
       "  <thead>\n",
       "    <tr style=\"text-align: right;\">\n",
       "      <th></th>\n",
       "      <th>Open</th>\n",
       "      <th>High</th>\n",
       "      <th>Low</th>\n",
       "      <th>Close</th>\n",
       "      <th>Adj Close</th>\n",
       "      <th>Volume</th>\n",
       "    </tr>\n",
       "    <tr>\n",
       "      <th>Date</th>\n",
       "      <th></th>\n",
       "      <th></th>\n",
       "      <th></th>\n",
       "      <th></th>\n",
       "      <th></th>\n",
       "      <th></th>\n",
       "    </tr>\n",
       "  </thead>\n",
       "  <tbody>\n",
       "    <tr>\n",
       "      <th>2018-01-02</th>\n",
       "      <td>34100.0</td>\n",
       "      <td>36100.0</td>\n",
       "      <td>34100.0</td>\n",
       "      <td>35900.0</td>\n",
       "      <td>35715.164062</td>\n",
       "      <td>1360084</td>\n",
       "    </tr>\n",
       "    <tr>\n",
       "      <th>2018-01-03</th>\n",
       "      <td>35950.0</td>\n",
       "      <td>36150.0</td>\n",
       "      <td>35550.0</td>\n",
       "      <td>35750.0</td>\n",
       "      <td>35565.937500</td>\n",
       "      <td>497403</td>\n",
       "    </tr>\n",
       "    <tr>\n",
       "      <th>2018-01-04</th>\n",
       "      <td>35500.0</td>\n",
       "      <td>35950.0</td>\n",
       "      <td>34900.0</td>\n",
       "      <td>34900.0</td>\n",
       "      <td>34720.312500</td>\n",
       "      <td>571308</td>\n",
       "    </tr>\n",
       "    <tr>\n",
       "      <th>2018-01-05</th>\n",
       "      <td>35250.0</td>\n",
       "      <td>35250.0</td>\n",
       "      <td>34450.0</td>\n",
       "      <td>34900.0</td>\n",
       "      <td>34720.312500</td>\n",
       "      <td>489822</td>\n",
       "    </tr>\n",
       "    <tr>\n",
       "      <th>2018-01-08</th>\n",
       "      <td>35100.0</td>\n",
       "      <td>36150.0</td>\n",
       "      <td>35100.0</td>\n",
       "      <td>36100.0</td>\n",
       "      <td>35914.136719</td>\n",
       "      <td>841491</td>\n",
       "    </tr>\n",
       "    <tr>\n",
       "      <th>...</th>\n",
       "      <td>...</td>\n",
       "      <td>...</td>\n",
       "      <td>...</td>\n",
       "      <td>...</td>\n",
       "      <td>...</td>\n",
       "      <td>...</td>\n",
       "    </tr>\n",
       "    <tr>\n",
       "      <th>2022-12-14</th>\n",
       "      <td>25500.0</td>\n",
       "      <td>25650.0</td>\n",
       "      <td>25150.0</td>\n",
       "      <td>25250.0</td>\n",
       "      <td>25250.000000</td>\n",
       "      <td>1065370</td>\n",
       "    </tr>\n",
       "    <tr>\n",
       "      <th>2022-12-15</th>\n",
       "      <td>25300.0</td>\n",
       "      <td>25500.0</td>\n",
       "      <td>24800.0</td>\n",
       "      <td>24850.0</td>\n",
       "      <td>24850.000000</td>\n",
       "      <td>1143521</td>\n",
       "    </tr>\n",
       "    <tr>\n",
       "      <th>2022-12-16</th>\n",
       "      <td>24500.0</td>\n",
       "      <td>24750.0</td>\n",
       "      <td>24200.0</td>\n",
       "      <td>24700.0</td>\n",
       "      <td>24700.000000</td>\n",
       "      <td>1245099</td>\n",
       "    </tr>\n",
       "    <tr>\n",
       "      <th>2022-12-19</th>\n",
       "      <td>24700.0</td>\n",
       "      <td>24950.0</td>\n",
       "      <td>24450.0</td>\n",
       "      <td>24600.0</td>\n",
       "      <td>24600.000000</td>\n",
       "      <td>739463</td>\n",
       "    </tr>\n",
       "    <tr>\n",
       "      <th>2022-12-20</th>\n",
       "      <td>24400.0</td>\n",
       "      <td>24900.0</td>\n",
       "      <td>24300.0</td>\n",
       "      <td>24450.0</td>\n",
       "      <td>24450.000000</td>\n",
       "      <td>868126</td>\n",
       "    </tr>\n",
       "  </tbody>\n",
       "</table>\n",
       "<p>1223 rows × 6 columns</p>\n",
       "</div>"
      ],
      "text/plain": [
       "               Open     High      Low    Close     Adj Close   Volume\n",
       "Date                                                                 \n",
       "2018-01-02  34100.0  36100.0  34100.0  35900.0  35715.164062  1360084\n",
       "2018-01-03  35950.0  36150.0  35550.0  35750.0  35565.937500   497403\n",
       "2018-01-04  35500.0  35950.0  34900.0  34900.0  34720.312500   571308\n",
       "2018-01-05  35250.0  35250.0  34450.0  34900.0  34720.312500   489822\n",
       "2018-01-08  35100.0  36150.0  35100.0  36100.0  35914.136719   841491\n",
       "...             ...      ...      ...      ...           ...      ...\n",
       "2022-12-14  25500.0  25650.0  25150.0  25250.0  25250.000000  1065370\n",
       "2022-12-15  25300.0  25500.0  24800.0  24850.0  24850.000000  1143521\n",
       "2022-12-16  24500.0  24750.0  24200.0  24700.0  24700.000000  1245099\n",
       "2022-12-19  24700.0  24950.0  24450.0  24600.0  24600.000000   739463\n",
       "2022-12-20  24400.0  24900.0  24300.0  24450.0  24450.000000   868126\n",
       "\n",
       "[1223 rows x 6 columns]"
      ]
     },
     "execution_count": 47,
     "metadata": {},
     "output_type": "execute_result"
    }
   ],
   "source": [
    "df_3"
   ]
  },
  {
   "cell_type": "code",
   "execution_count": 48,
   "metadata": {},
   "outputs": [],
   "source": [
    "bh_2 = bah.BuyAndHold(df_3, 'Close')"
   ]
  },
  {
   "cell_type": "code",
   "execution_count": 49,
   "metadata": {},
   "outputs": [
    {
     "data": {
      "text/html": [
       "<div>\n",
       "<style scoped>\n",
       "    .dataframe tbody tr th:only-of-type {\n",
       "        vertical-align: middle;\n",
       "    }\n",
       "\n",
       "    .dataframe tbody tr th {\n",
       "        vertical-align: top;\n",
       "    }\n",
       "\n",
       "    .dataframe thead th {\n",
       "        text-align: right;\n",
       "    }\n",
       "</style>\n",
       "<table border=\"1\" class=\"dataframe\">\n",
       "  <thead>\n",
       "    <tr style=\"text-align: right;\">\n",
       "      <th></th>\n",
       "      <th>Open</th>\n",
       "      <th>High</th>\n",
       "      <th>Low</th>\n",
       "      <th>Close</th>\n",
       "      <th>Adj Close</th>\n",
       "      <th>Volume</th>\n",
       "    </tr>\n",
       "    <tr>\n",
       "      <th>Date</th>\n",
       "      <th></th>\n",
       "      <th></th>\n",
       "      <th></th>\n",
       "      <th></th>\n",
       "      <th></th>\n",
       "      <th></th>\n",
       "    </tr>\n",
       "  </thead>\n",
       "  <tbody>\n",
       "    <tr>\n",
       "      <th>2018-01-02</th>\n",
       "      <td>34100.0</td>\n",
       "      <td>36100.0</td>\n",
       "      <td>34100.0</td>\n",
       "      <td>35900.0</td>\n",
       "      <td>35715.164062</td>\n",
       "      <td>1360084</td>\n",
       "    </tr>\n",
       "    <tr>\n",
       "      <th>2018-01-03</th>\n",
       "      <td>35950.0</td>\n",
       "      <td>36150.0</td>\n",
       "      <td>35550.0</td>\n",
       "      <td>35750.0</td>\n",
       "      <td>35565.937500</td>\n",
       "      <td>497403</td>\n",
       "    </tr>\n",
       "    <tr>\n",
       "      <th>2018-01-04</th>\n",
       "      <td>35500.0</td>\n",
       "      <td>35950.0</td>\n",
       "      <td>34900.0</td>\n",
       "      <td>34900.0</td>\n",
       "      <td>34720.312500</td>\n",
       "      <td>571308</td>\n",
       "    </tr>\n",
       "    <tr>\n",
       "      <th>2018-01-05</th>\n",
       "      <td>35250.0</td>\n",
       "      <td>35250.0</td>\n",
       "      <td>34450.0</td>\n",
       "      <td>34900.0</td>\n",
       "      <td>34720.312500</td>\n",
       "      <td>489822</td>\n",
       "    </tr>\n",
       "    <tr>\n",
       "      <th>2018-01-08</th>\n",
       "      <td>35100.0</td>\n",
       "      <td>36150.0</td>\n",
       "      <td>35100.0</td>\n",
       "      <td>36100.0</td>\n",
       "      <td>35914.136719</td>\n",
       "      <td>841491</td>\n",
       "    </tr>\n",
       "    <tr>\n",
       "      <th>...</th>\n",
       "      <td>...</td>\n",
       "      <td>...</td>\n",
       "      <td>...</td>\n",
       "      <td>...</td>\n",
       "      <td>...</td>\n",
       "      <td>...</td>\n",
       "    </tr>\n",
       "    <tr>\n",
       "      <th>2022-12-14</th>\n",
       "      <td>25500.0</td>\n",
       "      <td>25650.0</td>\n",
       "      <td>25150.0</td>\n",
       "      <td>25250.0</td>\n",
       "      <td>25250.000000</td>\n",
       "      <td>1065370</td>\n",
       "    </tr>\n",
       "    <tr>\n",
       "      <th>2022-12-15</th>\n",
       "      <td>25300.0</td>\n",
       "      <td>25500.0</td>\n",
       "      <td>24800.0</td>\n",
       "      <td>24850.0</td>\n",
       "      <td>24850.000000</td>\n",
       "      <td>1143521</td>\n",
       "    </tr>\n",
       "    <tr>\n",
       "      <th>2022-12-16</th>\n",
       "      <td>24500.0</td>\n",
       "      <td>24750.0</td>\n",
       "      <td>24200.0</td>\n",
       "      <td>24700.0</td>\n",
       "      <td>24700.000000</td>\n",
       "      <td>1245099</td>\n",
       "    </tr>\n",
       "    <tr>\n",
       "      <th>2022-12-19</th>\n",
       "      <td>24700.0</td>\n",
       "      <td>24950.0</td>\n",
       "      <td>24450.0</td>\n",
       "      <td>24600.0</td>\n",
       "      <td>24600.000000</td>\n",
       "      <td>739463</td>\n",
       "    </tr>\n",
       "    <tr>\n",
       "      <th>2022-12-20</th>\n",
       "      <td>24400.0</td>\n",
       "      <td>24900.0</td>\n",
       "      <td>24300.0</td>\n",
       "      <td>24450.0</td>\n",
       "      <td>24450.000000</td>\n",
       "      <td>868126</td>\n",
       "    </tr>\n",
       "  </tbody>\n",
       "</table>\n",
       "<p>1223 rows × 6 columns</p>\n",
       "</div>"
      ],
      "text/plain": [
       "               Open     High      Low    Close     Adj Close   Volume\n",
       "Date                                                                 \n",
       "2018-01-02  34100.0  36100.0  34100.0  35900.0  35715.164062  1360084\n",
       "2018-01-03  35950.0  36150.0  35550.0  35750.0  35565.937500   497403\n",
       "2018-01-04  35500.0  35950.0  34900.0  34900.0  34720.312500   571308\n",
       "2018-01-05  35250.0  35250.0  34450.0  34900.0  34720.312500   489822\n",
       "2018-01-08  35100.0  36150.0  35100.0  36100.0  35914.136719   841491\n",
       "...             ...      ...      ...      ...           ...      ...\n",
       "2022-12-14  25500.0  25650.0  25150.0  25250.0  25250.000000  1065370\n",
       "2022-12-15  25300.0  25500.0  24800.0  24850.0  24850.000000  1143521\n",
       "2022-12-16  24500.0  24750.0  24200.0  24700.0  24700.000000  1245099\n",
       "2022-12-19  24700.0  24950.0  24450.0  24600.0  24600.000000   739463\n",
       "2022-12-20  24400.0  24900.0  24300.0  24450.0  24450.000000   868126\n",
       "\n",
       "[1223 rows x 6 columns]"
      ]
     },
     "execution_count": 49,
     "metadata": {},
     "output_type": "execute_result"
    }
   ],
   "source": [
    "bh_2.drop_na()"
   ]
  },
  {
   "cell_type": "code",
   "execution_count": 50,
   "metadata": {},
   "outputs": [
    {
     "data": {
      "text/html": [
       "<div>\n",
       "<style scoped>\n",
       "    .dataframe tbody tr th:only-of-type {\n",
       "        vertical-align: middle;\n",
       "    }\n",
       "\n",
       "    .dataframe tbody tr th {\n",
       "        vertical-align: top;\n",
       "    }\n",
       "\n",
       "    .dataframe thead th {\n",
       "        text-align: right;\n",
       "    }\n",
       "</style>\n",
       "<table border=\"1\" class=\"dataframe\">\n",
       "  <thead>\n",
       "    <tr style=\"text-align: right;\">\n",
       "      <th></th>\n",
       "      <th>Open</th>\n",
       "      <th>High</th>\n",
       "      <th>Low</th>\n",
       "      <th>Close</th>\n",
       "      <th>Adj Close</th>\n",
       "      <th>Volume</th>\n",
       "      <th>daily_rtn</th>\n",
       "      <th>st_rtn</th>\n",
       "    </tr>\n",
       "    <tr>\n",
       "      <th>Date</th>\n",
       "      <th></th>\n",
       "      <th></th>\n",
       "      <th></th>\n",
       "      <th></th>\n",
       "      <th></th>\n",
       "      <th></th>\n",
       "      <th></th>\n",
       "      <th></th>\n",
       "    </tr>\n",
       "  </thead>\n",
       "  <tbody>\n",
       "    <tr>\n",
       "      <th>2018-01-02</th>\n",
       "      <td>34100.0</td>\n",
       "      <td>36100.0</td>\n",
       "      <td>34100.0</td>\n",
       "      <td>35900.0</td>\n",
       "      <td>35715.164062</td>\n",
       "      <td>1360084</td>\n",
       "      <td>NaN</td>\n",
       "      <td>NaN</td>\n",
       "    </tr>\n",
       "    <tr>\n",
       "      <th>2018-01-03</th>\n",
       "      <td>35950.0</td>\n",
       "      <td>36150.0</td>\n",
       "      <td>35550.0</td>\n",
       "      <td>35750.0</td>\n",
       "      <td>35565.937500</td>\n",
       "      <td>497403</td>\n",
       "      <td>-0.004178</td>\n",
       "      <td>0.995822</td>\n",
       "    </tr>\n",
       "    <tr>\n",
       "      <th>2018-01-04</th>\n",
       "      <td>35500.0</td>\n",
       "      <td>35950.0</td>\n",
       "      <td>34900.0</td>\n",
       "      <td>34900.0</td>\n",
       "      <td>34720.312500</td>\n",
       "      <td>571308</td>\n",
       "      <td>-0.023776</td>\n",
       "      <td>0.972145</td>\n",
       "    </tr>\n",
       "    <tr>\n",
       "      <th>2018-01-05</th>\n",
       "      <td>35250.0</td>\n",
       "      <td>35250.0</td>\n",
       "      <td>34450.0</td>\n",
       "      <td>34900.0</td>\n",
       "      <td>34720.312500</td>\n",
       "      <td>489822</td>\n",
       "      <td>0.000000</td>\n",
       "      <td>0.972145</td>\n",
       "    </tr>\n",
       "    <tr>\n",
       "      <th>2018-01-08</th>\n",
       "      <td>35100.0</td>\n",
       "      <td>36150.0</td>\n",
       "      <td>35100.0</td>\n",
       "      <td>36100.0</td>\n",
       "      <td>35914.136719</td>\n",
       "      <td>841491</td>\n",
       "      <td>0.034384</td>\n",
       "      <td>1.005571</td>\n",
       "    </tr>\n",
       "    <tr>\n",
       "      <th>...</th>\n",
       "      <td>...</td>\n",
       "      <td>...</td>\n",
       "      <td>...</td>\n",
       "      <td>...</td>\n",
       "      <td>...</td>\n",
       "      <td>...</td>\n",
       "      <td>...</td>\n",
       "      <td>...</td>\n",
       "    </tr>\n",
       "    <tr>\n",
       "      <th>2022-12-14</th>\n",
       "      <td>25500.0</td>\n",
       "      <td>25650.0</td>\n",
       "      <td>25150.0</td>\n",
       "      <td>25250.0</td>\n",
       "      <td>25250.000000</td>\n",
       "      <td>1065370</td>\n",
       "      <td>-0.011742</td>\n",
       "      <td>0.703343</td>\n",
       "    </tr>\n",
       "    <tr>\n",
       "      <th>2022-12-15</th>\n",
       "      <td>25300.0</td>\n",
       "      <td>25500.0</td>\n",
       "      <td>24800.0</td>\n",
       "      <td>24850.0</td>\n",
       "      <td>24850.000000</td>\n",
       "      <td>1143521</td>\n",
       "      <td>-0.015842</td>\n",
       "      <td>0.692201</td>\n",
       "    </tr>\n",
       "    <tr>\n",
       "      <th>2022-12-16</th>\n",
       "      <td>24500.0</td>\n",
       "      <td>24750.0</td>\n",
       "      <td>24200.0</td>\n",
       "      <td>24700.0</td>\n",
       "      <td>24700.000000</td>\n",
       "      <td>1245099</td>\n",
       "      <td>-0.006036</td>\n",
       "      <td>0.688022</td>\n",
       "    </tr>\n",
       "    <tr>\n",
       "      <th>2022-12-19</th>\n",
       "      <td>24700.0</td>\n",
       "      <td>24950.0</td>\n",
       "      <td>24450.0</td>\n",
       "      <td>24600.0</td>\n",
       "      <td>24600.000000</td>\n",
       "      <td>739463</td>\n",
       "      <td>-0.004049</td>\n",
       "      <td>0.685237</td>\n",
       "    </tr>\n",
       "    <tr>\n",
       "      <th>2022-12-20</th>\n",
       "      <td>24400.0</td>\n",
       "      <td>24900.0</td>\n",
       "      <td>24300.0</td>\n",
       "      <td>24450.0</td>\n",
       "      <td>24450.000000</td>\n",
       "      <td>868126</td>\n",
       "      <td>-0.006098</td>\n",
       "      <td>0.681058</td>\n",
       "    </tr>\n",
       "  </tbody>\n",
       "</table>\n",
       "<p>1223 rows × 8 columns</p>\n",
       "</div>"
      ],
      "text/plain": [
       "               Open     High      Low    Close     Adj Close   Volume  \\\n",
       "Date                                                                    \n",
       "2018-01-02  34100.0  36100.0  34100.0  35900.0  35715.164062  1360084   \n",
       "2018-01-03  35950.0  36150.0  35550.0  35750.0  35565.937500   497403   \n",
       "2018-01-04  35500.0  35950.0  34900.0  34900.0  34720.312500   571308   \n",
       "2018-01-05  35250.0  35250.0  34450.0  34900.0  34720.312500   489822   \n",
       "2018-01-08  35100.0  36150.0  35100.0  36100.0  35914.136719   841491   \n",
       "...             ...      ...      ...      ...           ...      ...   \n",
       "2022-12-14  25500.0  25650.0  25150.0  25250.0  25250.000000  1065370   \n",
       "2022-12-15  25300.0  25500.0  24800.0  24850.0  24850.000000  1143521   \n",
       "2022-12-16  24500.0  24750.0  24200.0  24700.0  24700.000000  1245099   \n",
       "2022-12-19  24700.0  24950.0  24450.0  24600.0  24600.000000   739463   \n",
       "2022-12-20  24400.0  24900.0  24300.0  24450.0  24450.000000   868126   \n",
       "\n",
       "            daily_rtn    st_rtn  \n",
       "Date                             \n",
       "2018-01-02        NaN       NaN  \n",
       "2018-01-03  -0.004178  0.995822  \n",
       "2018-01-04  -0.023776  0.972145  \n",
       "2018-01-05   0.000000  0.972145  \n",
       "2018-01-08   0.034384  1.005571  \n",
       "...               ...       ...  \n",
       "2022-12-14  -0.011742  0.703343  \n",
       "2022-12-15  -0.015842  0.692201  \n",
       "2022-12-16  -0.006036  0.688022  \n",
       "2022-12-19  -0.004049  0.685237  \n",
       "2022-12-20  -0.006098  0.681058  \n",
       "\n",
       "[1223 rows x 8 columns]"
      ]
     },
     "execution_count": 50,
     "metadata": {},
     "output_type": "execute_result"
    }
   ],
   "source": [
    "bh_2.add_col()"
   ]
  },
  {
   "cell_type": "code",
   "execution_count": 51,
   "metadata": {},
   "outputs": [
    {
     "data": {
      "text/plain": [
       "[-0.07609454195203713,\n",
       " 0.029661156890595602,\n",
       " 0.4177720663388616,\n",
       " -0.760603518158236]"
      ]
     },
     "execution_count": 51,
     "metadata": {},
     "output_type": "execute_result"
    }
   ],
   "source": [
    "bh_2.testing()"
   ]
  },
  {
   "cell_type": "code",
   "execution_count": 52,
   "metadata": {},
   "outputs": [
    {
     "data": {
      "text/html": [
       "<div>\n",
       "<style scoped>\n",
       "    .dataframe tbody tr th:only-of-type {\n",
       "        vertical-align: middle;\n",
       "    }\n",
       "\n",
       "    .dataframe tbody tr th {\n",
       "        vertical-align: top;\n",
       "    }\n",
       "\n",
       "    .dataframe thead th {\n",
       "        text-align: right;\n",
       "    }\n",
       "</style>\n",
       "<table border=\"1\" class=\"dataframe\">\n",
       "  <thead>\n",
       "    <tr style=\"text-align: right;\">\n",
       "      <th></th>\n",
       "      <th>Open</th>\n",
       "      <th>High</th>\n",
       "      <th>Low</th>\n",
       "      <th>Close</th>\n",
       "      <th>Adj Close</th>\n",
       "      <th>Volume</th>\n",
       "      <th>daily_rtn</th>\n",
       "      <th>st_rtn</th>\n",
       "    </tr>\n",
       "    <tr>\n",
       "      <th>Date</th>\n",
       "      <th></th>\n",
       "      <th></th>\n",
       "      <th></th>\n",
       "      <th></th>\n",
       "      <th></th>\n",
       "      <th></th>\n",
       "      <th></th>\n",
       "      <th></th>\n",
       "    </tr>\n",
       "  </thead>\n",
       "  <tbody>\n",
       "    <tr>\n",
       "      <th>2018-01-02</th>\n",
       "      <td>34100.0</td>\n",
       "      <td>36100.0</td>\n",
       "      <td>34100.0</td>\n",
       "      <td>35900.0</td>\n",
       "      <td>35715.164062</td>\n",
       "      <td>1360084</td>\n",
       "      <td>NaN</td>\n",
       "      <td>NaN</td>\n",
       "    </tr>\n",
       "    <tr>\n",
       "      <th>2018-01-03</th>\n",
       "      <td>35950.0</td>\n",
       "      <td>36150.0</td>\n",
       "      <td>35550.0</td>\n",
       "      <td>35750.0</td>\n",
       "      <td>35565.937500</td>\n",
       "      <td>497403</td>\n",
       "      <td>-0.004178</td>\n",
       "      <td>0.995822</td>\n",
       "    </tr>\n",
       "    <tr>\n",
       "      <th>2018-01-04</th>\n",
       "      <td>35500.0</td>\n",
       "      <td>35950.0</td>\n",
       "      <td>34900.0</td>\n",
       "      <td>34900.0</td>\n",
       "      <td>34720.312500</td>\n",
       "      <td>571308</td>\n",
       "      <td>-0.023776</td>\n",
       "      <td>0.972145</td>\n",
       "    </tr>\n",
       "    <tr>\n",
       "      <th>2018-01-05</th>\n",
       "      <td>35250.0</td>\n",
       "      <td>35250.0</td>\n",
       "      <td>34450.0</td>\n",
       "      <td>34900.0</td>\n",
       "      <td>34720.312500</td>\n",
       "      <td>489822</td>\n",
       "      <td>0.000000</td>\n",
       "      <td>0.972145</td>\n",
       "    </tr>\n",
       "    <tr>\n",
       "      <th>2018-01-08</th>\n",
       "      <td>35100.0</td>\n",
       "      <td>36150.0</td>\n",
       "      <td>35100.0</td>\n",
       "      <td>36100.0</td>\n",
       "      <td>35914.136719</td>\n",
       "      <td>841491</td>\n",
       "      <td>0.034384</td>\n",
       "      <td>1.005571</td>\n",
       "    </tr>\n",
       "    <tr>\n",
       "      <th>...</th>\n",
       "      <td>...</td>\n",
       "      <td>...</td>\n",
       "      <td>...</td>\n",
       "      <td>...</td>\n",
       "      <td>...</td>\n",
       "      <td>...</td>\n",
       "      <td>...</td>\n",
       "      <td>...</td>\n",
       "    </tr>\n",
       "    <tr>\n",
       "      <th>2022-12-14</th>\n",
       "      <td>25500.0</td>\n",
       "      <td>25650.0</td>\n",
       "      <td>25150.0</td>\n",
       "      <td>25250.0</td>\n",
       "      <td>25250.000000</td>\n",
       "      <td>1065370</td>\n",
       "      <td>-0.011742</td>\n",
       "      <td>0.703343</td>\n",
       "    </tr>\n",
       "    <tr>\n",
       "      <th>2022-12-15</th>\n",
       "      <td>25300.0</td>\n",
       "      <td>25500.0</td>\n",
       "      <td>24800.0</td>\n",
       "      <td>24850.0</td>\n",
       "      <td>24850.000000</td>\n",
       "      <td>1143521</td>\n",
       "      <td>-0.015842</td>\n",
       "      <td>0.692201</td>\n",
       "    </tr>\n",
       "    <tr>\n",
       "      <th>2022-12-16</th>\n",
       "      <td>24500.0</td>\n",
       "      <td>24750.0</td>\n",
       "      <td>24200.0</td>\n",
       "      <td>24700.0</td>\n",
       "      <td>24700.000000</td>\n",
       "      <td>1245099</td>\n",
       "      <td>-0.006036</td>\n",
       "      <td>0.688022</td>\n",
       "    </tr>\n",
       "    <tr>\n",
       "      <th>2022-12-19</th>\n",
       "      <td>24700.0</td>\n",
       "      <td>24950.0</td>\n",
       "      <td>24450.0</td>\n",
       "      <td>24600.0</td>\n",
       "      <td>24600.000000</td>\n",
       "      <td>739463</td>\n",
       "      <td>-0.004049</td>\n",
       "      <td>0.685237</td>\n",
       "    </tr>\n",
       "    <tr>\n",
       "      <th>2022-12-20</th>\n",
       "      <td>24400.0</td>\n",
       "      <td>24900.0</td>\n",
       "      <td>24300.0</td>\n",
       "      <td>24450.0</td>\n",
       "      <td>24450.000000</td>\n",
       "      <td>868126</td>\n",
       "      <td>-0.006098</td>\n",
       "      <td>0.681058</td>\n",
       "    </tr>\n",
       "  </tbody>\n",
       "</table>\n",
       "<p>1223 rows × 8 columns</p>\n",
       "</div>"
      ],
      "text/plain": [
       "               Open     High      Low    Close     Adj Close   Volume  \\\n",
       "Date                                                                    \n",
       "2018-01-02  34100.0  36100.0  34100.0  35900.0  35715.164062  1360084   \n",
       "2018-01-03  35950.0  36150.0  35550.0  35750.0  35565.937500   497403   \n",
       "2018-01-04  35500.0  35950.0  34900.0  34900.0  34720.312500   571308   \n",
       "2018-01-05  35250.0  35250.0  34450.0  34900.0  34720.312500   489822   \n",
       "2018-01-08  35100.0  36150.0  35100.0  36100.0  35914.136719   841491   \n",
       "...             ...      ...      ...      ...           ...      ...   \n",
       "2022-12-14  25500.0  25650.0  25150.0  25250.0  25250.000000  1065370   \n",
       "2022-12-15  25300.0  25500.0  24800.0  24850.0  24850.000000  1143521   \n",
       "2022-12-16  24500.0  24750.0  24200.0  24700.0  24700.000000  1245099   \n",
       "2022-12-19  24700.0  24950.0  24450.0  24600.0  24600.000000   739463   \n",
       "2022-12-20  24400.0  24900.0  24300.0  24450.0  24450.000000   868126   \n",
       "\n",
       "            daily_rtn    st_rtn  \n",
       "Date                             \n",
       "2018-01-02        NaN       NaN  \n",
       "2018-01-03  -0.004178  0.995822  \n",
       "2018-01-04  -0.023776  0.972145  \n",
       "2018-01-05   0.000000  0.972145  \n",
       "2018-01-08   0.034384  1.005571  \n",
       "...               ...       ...  \n",
       "2022-12-14  -0.011742  0.703343  \n",
       "2022-12-15  -0.015842  0.692201  \n",
       "2022-12-16  -0.006036  0.688022  \n",
       "2022-12-19  -0.004049  0.685237  \n",
       "2022-12-20  -0.006098  0.681058  \n",
       "\n",
       "[1223 rows x 8 columns]"
      ]
     },
     "execution_count": 52,
     "metadata": {},
     "output_type": "execute_result"
    }
   ],
   "source": [
    "bh_2.df"
   ]
  },
  {
   "cell_type": "code",
   "execution_count": null,
   "metadata": {},
   "outputs": [],
   "source": []
  }
 ],
 "metadata": {
  "kernelspec": {
   "display_name": "Python 3",
   "language": "python",
   "name": "python3"
  },
  "language_info": {
   "codemirror_mode": {
    "name": "ipython",
    "version": 3
   },
   "file_extension": ".py",
   "mimetype": "text/x-python",
   "name": "python",
   "nbconvert_exporter": "python",
   "pygments_lexer": "ipython3",
   "version": "3.6.8"
  },
  "orig_nbformat": 4,
  "vscode": {
   "interpreter": {
    "hash": "187f19b7e1a6c9dce315ccb3b0d07c5b7aeed6681cd1ee8ee772db2198b62651"
   }
  }
 },
 "nbformat": 4,
 "nbformat_minor": 2
}
