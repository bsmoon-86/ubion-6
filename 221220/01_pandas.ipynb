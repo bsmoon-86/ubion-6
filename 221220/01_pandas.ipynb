{
 "cells": [
  {
   "attachments": {},
   "cell_type": "markdown",
   "metadata": {},
   "source": [
    "### pandas \n",
    "1. 외부의 csv 파일을 가지고 오는 함수의 이름은?\n",
    "    - read_csv(파일 경로)\n",
    "2. 데이터프레임에서 컬럼의 이름을 변경하는 방법?\n",
    "    - 데이터프레임명.columns -> 데이터프레임에 컬럼들이 리스트 형태의 데이터로 출력\n",
    "    - 데이터프레임명.columns = [변경할 컬럼들이 리스트] -> 컬럼의 이름들이 변경\n",
    "3. 특정 컬럼을 추출하는 방법?\n",
    "    - 단일 컬럼 추출 -> 데이터프레임명[\"컬럼명\"] -> 데이터형태는? -> 스리즈\n",
    "    - 여러개의 컬럼을 추출 -> 데이터프레임명[[\"컬럼명1\", \"컬럼명2]] -> 데이터의 형태는? -> 데이터프레임\n",
    "4. 스리즈 형태의 데이터를 리스트 형태로 변경\n",
    "    - 스리즈명.tolist()\n",
    "5. 컬럼의 값을 기준으로 하여 정렬을 변경하는 함수?\n",
    "    - sort_values(기준이 되는 컬럼)\n",
    "    - ascending : 오름차순, 내림차순 지정 (기본값 : 오름차순)\n",
    "    - inplace : 기준이 되는 데이터를 수정할지 여부 (기본값 : False)\n",
    "6. 정렬은 변경 한 후에 인덱스의 값은 재지정하는 함수?\n",
    "    - reset_index()\n",
    "    - drop : 기존의 인덱스 삭제 여부 (기본값 : False)\n",
    "    - inplace : 기준이 되는 데이터를 수정할지 여부 (기본값 : False)\n",
    "7. 결측치\n",
    "    - isna() : 결측치인지 판단하는 함수\n",
    "    - isna().sum() : 각 컬럼 별로 결측치의 개수를 출력\n",
    "    - fillna(값) : 결측치의 값을 대체하는 함수\n",
    "8. 특정 컬럼의 값을 기준으로 그룹화 함수\n",
    "    - 데이터프레임명.groupby(기준이 되는 컬럼)\n",
    "    - sum() : 그룹화한 데이터들의 합계\n",
    "    - mean() : 그룹화한 데이터들의 평균\n",
    "    - min() : 그룹화한 데이터들의 최소값\n",
    "    - max() : 그룹화한 데이터들의 최대값\n",
    "    - count() : 그룹화한 데이터의 개수 ( value_count()함수와 유사 )\n",
    "    - agg() : 데이터들의 연산을 한줄로 처리하기 위한 함수 (데이터프레임명.groupby(\"컬럼명\").agg(['sum', 'min', 'max', 'mean']))\n",
    "9. 데이터프레임에 통계 요약 정보 출력하는 함수\n",
    "    - describe()\n",
    "10. 데이터 간의 차이를 구하는 함수 \n",
    "    - diff(n)\n",
    "        - 현재의 행의 데이터와 이동한 행의 데이터의 차이 \n",
    "        - ex) 데이터프레임명[\"컬럼명\"].diff(n)\n",
    "    - shift(n)\n",
    "        - 현재의 행의 위치에서 n만큼 행을 이동한 데이터의 값\n",
    "        - ex) 데이터프레임명[\"컬럼명\"] - 데이터프레임명[\"컬럼명\"].shift(n)\n",
    "11. 데이터프레임을 결합하는 함수\n",
    "    - concat()\n",
    "        - 단순하게 데이터프레임을 행이나 열로 결합\n",
    "        - ex) pd.concat([\"데이터프레임명1\", \"데이터프레임명2\"], axis=(행, 열))\n",
    "    - merge()\n",
    "        - 특정한 조건을 가지고 데이터프레임을 결합\n",
    "        - pd.merge(\"데이터프레임명1\", \"데이터프레임명2\")\n",
    "        - on : 특정 컬럼명(조건식) 컬럼의 값이 같은 경우\n",
    "        - how : 결합 방식 지정, SQL에 있는 JOIN 형식 유사 (left, right, inner, outer)\n",
    "12. apply()\n",
    "    - 데이터프레임에 있는 각 원소들을 apply(함수) 함수에 대입하여 결과값을 출력\n",
    "    - ex) apply(일반함수), apply(lambda함수)\n",
    "13. lambda함수\n",
    "    - 일반 함수와 다르게 함수를 선언과 동시에 호출을 하는 함수\n",
    "    - 간단한 작업을 하는 함수에서는 lambda 함수를 자주 사용\n",
    "14. map함수\n",
    "    - apply()와 유사한 기능\n",
    "    - list 데이터에 각 원소들을 함수에 대입한 결과 출력    "
   ]
  },
  {
   "cell_type": "code",
   "execution_count": 1,
   "metadata": {},
   "outputs": [
    {
     "name": "stdout",
     "output_type": "stream",
     "text": [
      "[1, 4, 9, 16]\n"
     ]
    }
   ],
   "source": [
    "##map 함수\n",
    "def func_1(x):\n",
    "    result = x ** 2\n",
    "    return result\n",
    "\n",
    "list_a = [1,2,3,4]\n",
    "\n",
    "print(list(map(func_1, list_a)))"
   ]
  },
  {
   "cell_type": "code",
   "execution_count": null,
   "metadata": {},
   "outputs": [],
   "source": []
  }
 ],
 "metadata": {
  "kernelspec": {
   "display_name": "Python 3",
   "language": "python",
   "name": "python3"
  },
  "language_info": {
   "codemirror_mode": {
    "name": "ipython",
    "version": 3
   },
   "file_extension": ".py",
   "mimetype": "text/x-python",
   "name": "python",
   "nbconvert_exporter": "python",
   "pygments_lexer": "ipython3",
   "version": "3.6.8"
  },
  "orig_nbformat": 4,
  "vscode": {
   "interpreter": {
    "hash": "187f19b7e1a6c9dce315ccb3b0d07c5b7aeed6681cd1ee8ee772db2198b62651"
   }
  }
 },
 "nbformat": 4,
 "nbformat_minor": 2
}
