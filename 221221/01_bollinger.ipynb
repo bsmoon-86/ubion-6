{
 "cells": [
  {
   "attachments": {},
   "cell_type": "markdown",
   "metadata": {},
   "source": [
    "### 볼린저 밴드 \n",
    "1. 파일 로드 \n",
    "2. 결측치와 이상치를 확인 및 제거 \n",
    "3. 시간과 종가만의 데이터프레임으로 변경\n",
    "4. 이동 평균선 : 데이터 20개의 평균을 구해서 새로운 파생변수에 대입\n",
    "5. 상단 밴드 : 이동 평균선 + (2 * 데이터 20개의 표준편차)\n",
    "6. 하단 밴드 : 이동 평균선 - (2 * 데이터 20개의 표준편차)\n",
    "7. 구매 상태를 확인하는 파생변수 생성\n",
    "8. 구매 상태를 입력\n",
    "9. 수익율 계산"
   ]
  },
  {
   "cell_type": "code",
   "execution_count": null,
   "metadata": {},
   "outputs": [],
   "source": [
    "import pandas as pd\n",
    "import numpy as np"
   ]
  },
  {
   "cell_type": "code",
   "execution_count": null,
   "metadata": {},
   "outputs": [],
   "source": [
    "df = pd.read_csv(\"../csv/BND.csv\", index_col='Date')\n",
    "df.head()"
   ]
  },
  {
   "cell_type": "code",
   "execution_count": null,
   "metadata": {},
   "outputs": [],
   "source": [
    "## 결측치와 이상치를 확인\n",
    "df[df.isin([np.nan, np.inf, -np.inf]).any(1)]"
   ]
  },
  {
   "cell_type": "code",
   "execution_count": null,
   "metadata": {},
   "outputs": [],
   "source": [
    "## 결측치와 이상치를 제외한 데이터 생성\n",
    "df = df[~df.isin([np.nan, np.inf, -np.inf]).any(1)]"
   ]
  },
  {
   "cell_type": "code",
   "execution_count": null,
   "metadata": {},
   "outputs": [],
   "source": [
    "## 시간과 종가만으로 이루어져있는 데이터프레임 생성\n",
    "\n",
    "# price_df = df.loc[ : , [\"Adj Close\"]]\n",
    "\n",
    "price_df = df[[\"Adj Close\"]]"
   ]
  },
  {
   "cell_type": "code",
   "execution_count": null,
   "metadata": {},
   "outputs": [],
   "source": [
    "\n",
    "def bol(x):\n",
    "\n",
    "    # if i >= 19:\n",
    "    #     result = price_df.iloc[i-19:i].mean()\n",
    "    #     return result\n",
    "    # print(x , end = \" \")\n",
    "\n",
    "price_df.apply(bol, axis=1, raw=1)"
   ]
  },
  {
   "cell_type": "code",
   "execution_count": null,
   "metadata": {},
   "outputs": [],
   "source": [
    "## 이동 평균선\n",
    "# 데이터양이 20개의 평균을 구해서 새로운 파생변수 대입\n",
    "# 과거의 데이터의 수가 20개가 되지 않으면 결측치로 출력\n",
    "\n",
    "price_df[\"center\"] = price_df['Adj Close'].rolling(20).mean()"
   ]
  },
  {
   "cell_type": "code",
   "execution_count": null,
   "metadata": {},
   "outputs": [],
   "source": [
    "price_df.iloc[18:25]"
   ]
  },
  {
   "cell_type": "code",
   "execution_count": null,
   "metadata": {},
   "outputs": [],
   "source": [
    "## ub 파생변수를 생성 \n",
    "## 이동평균선 + (2 * 종가 데이터 20개의 표준편차)\n",
    "price_df[\"ub\"] = \\\n",
    "    price_df[\"center\"] + ( 2 * price_df[\"Adj Close\"].rolling(20).std() )"
   ]
  },
  {
   "cell_type": "code",
   "execution_count": null,
   "metadata": {},
   "outputs": [],
   "source": [
    "## lb 파생변수 생성\n",
    "# 이동평균선 - ( 2 * 종가 데이터 20개의 표준편차 )\n",
    "price_df[\"lb\"] = \\\n",
    "    price_df['center'] - ( 2 * price_df['Adj Close'].rolling(20).std() )"
   ]
  },
  {
   "cell_type": "code",
   "execution_count": null,
   "metadata": {},
   "outputs": [],
   "source": [
    "price_df.iloc[18:25]"
   ]
  },
  {
   "cell_type": "code",
   "execution_count": null,
   "metadata": {},
   "outputs": [],
   "source": [
    "price_df.plot()"
   ]
  },
  {
   "cell_type": "code",
   "execution_count": null,
   "metadata": {},
   "outputs": [],
   "source": [
    "## 시작 시간 생성 \n",
    "start_time = '2010-01-02'\n",
    "price_df_2 = price_df.loc[start_time:]\n",
    "price_df_2.head(3)"
   ]
  },
  {
   "cell_type": "code",
   "execution_count": null,
   "metadata": {},
   "outputs": [],
   "source": [
    "## 거래 내역이라는 파생변수 생성\n",
    "## 비어있는 값을 생성\n",
    "price_df_2['trade'] = \"\"\n",
    "price_df_2.head(2)\n"
   ]
  },
  {
   "attachments": {},
   "cell_type": "markdown",
   "metadata": {},
   "source": [
    "### 구매내역 추가\n",
    "- 조건 \n",
    "    1. 상단 밴드보다 종가가 높은 경우\n",
    "        - 현재 구매 상태인 경우\n",
    "            - 매도 trade = \"\"\n",
    "        - 현재 구매 상태가 아닌 경우\n",
    "            - 아무 행동도 하지 않는다. trade = \"\"\n",
    "    2. 하단 밴드보다 종가가 낮은 경우\n",
    "        - 현재 구매 상태인 경우\n",
    "            - 구매 상태를 유지 trade = \"buy\"\n",
    "        - 현재 구매 상태가 아닌 경우\n",
    "            - 구매 trade = \"buy\"\n",
    "    3. 하단 밴드와 상단 밴드 사이에 종가가 존재하면\n",
    "        - 현재 구매 상태인 경우\n",
    "            - 구매 상태를 유지 trade = \"buy\"\n",
    "        - 현재 구매 상태가 아닌 경우\n",
    "            - 현 상태를 유지 trade = \"\""
   ]
  },
  {
   "cell_type": "code",
   "execution_count": null,
   "metadata": {},
   "outputs": [],
   "source": [
    "for i in price_df_2.index:\n",
    "    if price_df_2.loc[i, 'Adj Close'] > price_df_2.loc[i, 'ub']:\n",
    "        if price_df_2.shift(1).loc[i, 'trade'] == \"buy\":\n",
    "            price_df_2.loc[i, 'trade'] = \"\"\n",
    "        else : \n",
    "            price_df_2.loc[i, 'trade'] = \"\"\n",
    "    elif price_df_2.loc[i, 'Adj Close'] < price_df_2.loc[i, 'lb']:\n",
    "        if price_df_2.shift(1).loc[i, 'trade'] == \"buy\":\n",
    "            price_df_2.loc[i, 'trade'] = 'buy'\n",
    "        else : \n",
    "            price_df_2.loc[i, 'trade'] = 'buy'\n",
    "    elif price_df_2.loc[i, 'Adj Close'] >= price_df_2.loc[i, 'lb'] and \\\n",
    "        price_df_2.loc[i, 'Adj Close'] <= price_df_2.loc[i, 'ub']:\n",
    "        if price_df_2.shift(1).loc[i, 'trade'] == 'buy':\n",
    "            price_df_2.loc[i, 'trade'] = 'buy'\n",
    "        else:\n",
    "            price_df_2.loc[i, 'trade'] = \"\"\n"
   ]
  },
  {
   "cell_type": "code",
   "execution_count": null,
   "metadata": {},
   "outputs": [],
   "source": [
    "price_df_2['trade'].value_counts()"
   ]
  },
  {
   "cell_type": "code",
   "execution_count": null,
   "metadata": {},
   "outputs": [],
   "source": [
    "# price_df_2[price_df_2.isin([\"buy\"]).any(1)]\n",
    "# price_df_2.query(\"trade == 'buy'\")\n",
    "price_df_2[price_df_2['trade'] == 'buy']"
   ]
  },
  {
   "cell_type": "code",
   "execution_count": 74,
   "metadata": {},
   "outputs": [
    {
     "data": {
      "text/plain": [
       "       1568\n",
       "buy     816\n",
       "dtype: int64"
      ]
     },
     "execution_count": 74,
     "metadata": {},
     "output_type": "execute_result"
    }
   ],
   "source": [
    "## apply를 이용하여 구매 내역 추가\n",
    "\n",
    "def bol(x):\n",
    "    close = x[0]\n",
    "    ub = x[1]\n",
    "    lb = x[2]\n",
    "    trade = price_df_2.shift(1)[(price_df_2[\"Adj Close\"] == close) & \n",
    "                    (price_df_2[\"ub\"] == ub) & \n",
    "                    (price_df_2[\"lb\"] == lb)]['trade'].values\n",
    "    if close > ub:\n",
    "        return \"\"\n",
    "    elif close < lb:\n",
    "        return 'buy'\n",
    "    else:\n",
    "        if trade == 'buy':\n",
    "            return 'buy'\n",
    "        else : \n",
    "            return \"\"\n",
    "\n",
    "\n",
    "price_df_2[[\"Adj Close\", 'ub', 'lb']].apply(bol, axis=1, raw=1).value_counts()"
   ]
  },
  {
   "cell_type": "code",
   "execution_count": null,
   "metadata": {},
   "outputs": [],
   "source": [
    "def func(x):\n",
    "    close = x[0]\n",
    "    ub = x[1]\n",
    "    lb = x[2]\n",
    "    if price_df_2.shift(1)[(price_df_2[\"Adj Close\"] == close) & (price_df_2[\"ub\"] == ub) & (price_df_2['lb'] == lb)]['trade'] == \"\":\n",
    "        print(\"None\")\n",
    "\n",
    "price_df_2[[\"Adj Close\", 'ub', 'lb']].apply(func, axis=1, raw=1)"
   ]
  },
  {
   "attachments": {},
   "cell_type": "markdown",
   "metadata": {},
   "source": [
    "### 수익율 계산\n",
    "- 구매를 한 날의 종가\n",
    "    - trade 컬럼에서 전 행의 trade가 \"\" 현재 행 trade가 \"buy\"인 날의 종가 = 구매 가격\n",
    "- 판매를 한 날의 종가\n",
    "    - 전 행의 trade가 \"buy\"이고 현재 행 trade가 \"\" 인 날의 종가 = 판매 가격\n",
    "- 수익율 계산\n",
    "    - (판매 가격 - 구매 가격) / 구매 가격 + 1\n",
    "- 구매 가격과 판매 가격를 초기화\n",
    "- 여러개의 수익율 발생\n",
    "- 누적 수익율\n",
    "    - 수익율 누적으로 곱"
   ]
  },
  {
   "cell_type": "code",
   "execution_count": null,
   "metadata": {},
   "outputs": [],
   "source": [
    "# 손익 계산\n",
    "rtn = 1.0\n",
    "price_df_2[\"return\"] = 1\n",
    "buy = 0.0\n",
    "sell = 0.0\n",
    "for i in price_df_2.index:\n",
    "    ## 구매가를 출력\n",
    "    if price_df_2.shift(1).loc[i, \"trade\"] == '' and \\\n",
    "        price_df_2.loc[i, 'trade'] == 'buy':\n",
    "        buy = price_df_2.loc[i, 'Adj Close']\n",
    "        print('진입일 :', i, \"구매 가격 :\", buy)\n",
    "    ## 판매가를 출력\n",
    "    elif price_df_2.shift(1).loc[i, 'trade'] == 'buy' and \\\n",
    "        price_df_2.loc[i, 'trade'] == '':\n",
    "        sell = price_df_2.loc[i, 'Adj Close']\n",
    "        rtn = (sell - buy) / buy + 1\n",
    "        price_df_2.loc[i, 'return'] = rtn\n",
    "        print('청산일 :', i, \"판매 가격 :\", sell, \"수익율 :\", round(rtn, 4))\n",
    "    \n",
    "    ## buy, sell 변수를 초기화\n",
    "    if price_df_2.loc[i, 'trade'] == \"\":\n",
    "        buy = 0.0\n",
    "        sell = 0.0\n",
    "    \n",
    "    \n",
    "\n",
    "\n",
    "## for문을 이용하여 구매 가격 print, 판매 가격 print()\n",
    "# 구매인 경우 조건 : 전 행의 trade가 \"\" 이고(그리고) 현재 행의 trade가 \"buy\"\n",
    "# 판매인 경우 조건 : 전 행의 trade가 \"buy\" 이고(그리고) 현재 행의 trade가 \"\"\n",
    "# 이 두 경우에 종가를 print()"
   ]
  },
  {
   "cell_type": "code",
   "execution_count": 79,
   "metadata": {},
   "outputs": [
    {
     "name": "stderr",
     "output_type": "stream",
     "text": [
      "C:\\Users\\moons\\AppData\\Roaming\\Python\\Python36\\site-packages\\ipykernel_launcher.py:8: SettingWithCopyWarning: \n",
      "A value is trying to be set on a copy of a slice from a DataFrame.\n",
      "Try using .loc[row_indexer,col_indexer] = value instead\n",
      "\n",
      "See the caveats in the documentation: https://pandas.pydata.org/pandas-docs/stable/user_guide/indexing.html#returning-a-view-versus-a-copy\n",
      "  \n"
     ]
    },
    {
     "name": "stdout",
     "output_type": "stream",
     "text": [
      "누적 수익율 :  1.0794\n"
     ]
    }
   ],
   "source": [
    "##누적 수익율\n",
    "\n",
    "acc_rtn = 1.0\n",
    "\n",
    "for i in price_df_2.index:\n",
    "    rtn = price_df_2.loc[i, 'return']\n",
    "    acc_rtn *= rtn\n",
    "    price_df_2['acc_rtn'] = acc_rtn\n",
    "\n",
    "print(\"누적 수익율 : \", round(acc_rtn, 4))"
   ]
  },
  {
   "attachments": {},
   "cell_type": "markdown",
   "metadata": {},
   "source": [
    "### 볼린저 밴드를 함수화\n",
    "- 1번 함수 생성\n",
    "    - 매개변수 데이터프레임, 기준이되는 컬럼명, 시작 시간 생성\n",
    "    - 데이터프레임의 결측치와 이상치를 제거\n",
    "    - 기준되는 컬럼만 두고 나머지 컬럼은 삭제\n",
    "    - 이동 평균선, 상단 밴드, 하단 밴드 파생 변수 생성\n",
    "    - 시작 시간부터 마지막 시간까지 데이터프레임을 필터링 한 데이터프레임을 리턴\n",
    "- 2번 함수 생성\n",
    "    - 매개변수 데이터프레임 생성\n",
    "    - trade 컬럼을 생성 -> 값 \"\"\n",
    "    - 구매내역을 trade 컬럼 대입 후 데이터프레임 리턴\n",
    "- 3번 함수 생성\n",
    "    - 매개변수 데이터프레임 생성\n",
    "    - return 컬럼을 생성 -> 값 1\n",
    "    - 손익 계산을 하여 return 컬럼에 대입 \n",
    "    - 누적 수익율 acc_rtn 파생변수를 생성 누적 수익율 대입\n",
    "    - 누적 수익율 리턴"
   ]
  },
  {
   "attachments": {},
   "cell_type": "markdown",
   "metadata": {},
   "source": [
    "- 위의 내용이 잘 안되는 분들은 \n",
    "- 함수를 생성 \n",
    "- 매개변수 3개 (데이터프레임, 시작 시간, 컬럼명)\n",
    "- 데이터프레임에서 해당하는 컬럼명만 있는 데이터프레임 생성 (loc, [[]])\n",
    "- 시작 시간부터 마지막 데이터까지(loc[행의 조건, 열의 조건]) 출력이되는 데이터프레임을 리턴"
   ]
  },
  {
   "cell_type": "code",
   "execution_count": 83,
   "metadata": {},
   "outputs": [
    {
     "data": {
      "text/html": [
       "<div>\n",
       "<style scoped>\n",
       "    .dataframe tbody tr th:only-of-type {\n",
       "        vertical-align: middle;\n",
       "    }\n",
       "\n",
       "    .dataframe tbody tr th {\n",
       "        vertical-align: top;\n",
       "    }\n",
       "\n",
       "    .dataframe thead th {\n",
       "        text-align: right;\n",
       "    }\n",
       "</style>\n",
       "<table border=\"1\" class=\"dataframe\">\n",
       "  <thead>\n",
       "    <tr style=\"text-align: right;\">\n",
       "      <th></th>\n",
       "      <th>Adj Close</th>\n",
       "    </tr>\n",
       "    <tr>\n",
       "      <th>Date</th>\n",
       "      <th></th>\n",
       "    </tr>\n",
       "  </thead>\n",
       "  <tbody>\n",
       "    <tr>\n",
       "      <th>2010-01-04</th>\n",
       "      <td>26.782711</td>\n",
       "    </tr>\n",
       "    <tr>\n",
       "      <th>2010-01-05</th>\n",
       "      <td>26.829010</td>\n",
       "    </tr>\n",
       "    <tr>\n",
       "      <th>2010-01-06</th>\n",
       "      <td>26.402260</td>\n",
       "    </tr>\n",
       "    <tr>\n",
       "      <th>2010-01-07</th>\n",
       "      <td>26.353460</td>\n",
       "    </tr>\n",
       "    <tr>\n",
       "      <th>2010-01-08</th>\n",
       "      <td>26.528664</td>\n",
       "    </tr>\n",
       "    <tr>\n",
       "      <th>...</th>\n",
       "      <td>...</td>\n",
       "    </tr>\n",
       "    <tr>\n",
       "      <th>2019-06-18</th>\n",
       "      <td>198.449997</td>\n",
       "    </tr>\n",
       "    <tr>\n",
       "      <th>2019-06-19</th>\n",
       "      <td>197.869995</td>\n",
       "    </tr>\n",
       "    <tr>\n",
       "      <th>2019-06-20</th>\n",
       "      <td>199.460007</td>\n",
       "    </tr>\n",
       "    <tr>\n",
       "      <th>2019-06-21</th>\n",
       "      <td>198.779999</td>\n",
       "    </tr>\n",
       "    <tr>\n",
       "      <th>2019-06-24</th>\n",
       "      <td>199.169998</td>\n",
       "    </tr>\n",
       "  </tbody>\n",
       "</table>\n",
       "<p>2384 rows × 1 columns</p>\n",
       "</div>"
      ],
      "text/plain": [
       "             Adj Close\n",
       "Date                  \n",
       "2010-01-04   26.782711\n",
       "2010-01-05   26.829010\n",
       "2010-01-06   26.402260\n",
       "2010-01-07   26.353460\n",
       "2010-01-08   26.528664\n",
       "...                ...\n",
       "2019-06-18  198.449997\n",
       "2019-06-19  197.869995\n",
       "2019-06-20  199.460007\n",
       "2019-06-21  198.779999\n",
       "2019-06-24  199.169998\n",
       "\n",
       "[2384 rows x 1 columns]"
      ]
     },
     "execution_count": 83,
     "metadata": {},
     "output_type": "execute_result"
    }
   ],
   "source": [
    "def test(data, start, col):\n",
    "    result = data.loc[start : , [col]]\n",
    "    return result\n",
    "\n",
    "\n",
    "df = pd.read_csv(\"../csv/AAPL.csv\", index_col='Date')\n",
    "\n",
    "test(df, '2010-01-01', 'Adj Close')"
   ]
  },
  {
   "cell_type": "code",
   "execution_count": 84,
   "metadata": {},
   "outputs": [],
   "source": [
    "### 1번 함수 \n",
    "def first(data, col, start):\n",
    "    ## data : 데이터프레임, col : 컬럼의 이름, start : 시간\n",
    "\n",
    "    ## 결측치 , 이상치를 제거\n",
    "    result = data[~data.isin([np.nan, np.inf, -np.inf]).any(1)]\n",
    "    ## 해당 컬럼만 남기고 나머지 컬럼은 삭제\n",
    "    result = result.loc[:, [col]]\n",
    "    ## 이동 평균선, 상단 밴드, 하단 밴드 생성\n",
    "    result['center'] = result[col].rolling(20).mean()\n",
    "    result['ub'] = result['center'] + ( 2 * result[col].rolling(20).std() )\n",
    "    result['lb'] = result['center'] - ( 2 * result[col].rolling(20).std() )\n",
    "\n",
    "    result = result.loc[start :]\n",
    "\n",
    "    return result\n"
   ]
  },
  {
   "cell_type": "code",
   "execution_count": 85,
   "metadata": {},
   "outputs": [],
   "source": [
    "df = pd.read_csv(\"../csv/AAPL.csv\", index_col='Date')"
   ]
  },
  {
   "cell_type": "code",
   "execution_count": 86,
   "metadata": {},
   "outputs": [
    {
     "data": {
      "text/html": [
       "<div>\n",
       "<style scoped>\n",
       "    .dataframe tbody tr th:only-of-type {\n",
       "        vertical-align: middle;\n",
       "    }\n",
       "\n",
       "    .dataframe tbody tr th {\n",
       "        vertical-align: top;\n",
       "    }\n",
       "\n",
       "    .dataframe thead th {\n",
       "        text-align: right;\n",
       "    }\n",
       "</style>\n",
       "<table border=\"1\" class=\"dataframe\">\n",
       "  <thead>\n",
       "    <tr style=\"text-align: right;\">\n",
       "      <th></th>\n",
       "      <th>Close</th>\n",
       "      <th>center</th>\n",
       "      <th>ub</th>\n",
       "      <th>lb</th>\n",
       "    </tr>\n",
       "    <tr>\n",
       "      <th>Date</th>\n",
       "      <th></th>\n",
       "      <th></th>\n",
       "      <th></th>\n",
       "      <th></th>\n",
       "    </tr>\n",
       "  </thead>\n",
       "  <tbody>\n",
       "    <tr>\n",
       "      <th>2010-01-04</th>\n",
       "      <td>30.572857</td>\n",
       "      <td>28.580929</td>\n",
       "      <td>30.874244</td>\n",
       "      <td>26.287614</td>\n",
       "    </tr>\n",
       "    <tr>\n",
       "      <th>2010-01-05</th>\n",
       "      <td>30.625713</td>\n",
       "      <td>28.731357</td>\n",
       "      <td>31.149766</td>\n",
       "      <td>26.312948</td>\n",
       "    </tr>\n",
       "    <tr>\n",
       "      <th>2010-01-06</th>\n",
       "      <td>30.138571</td>\n",
       "      <td>28.888643</td>\n",
       "      <td>31.239205</td>\n",
       "      <td>26.538081</td>\n",
       "    </tr>\n",
       "    <tr>\n",
       "      <th>2010-01-07</th>\n",
       "      <td>30.082857</td>\n",
       "      <td>29.036571</td>\n",
       "      <td>31.289988</td>\n",
       "      <td>26.783154</td>\n",
       "    </tr>\n",
       "    <tr>\n",
       "      <th>2010-01-08</th>\n",
       "      <td>30.282858</td>\n",
       "      <td>29.137857</td>\n",
       "      <td>31.425605</td>\n",
       "      <td>26.850109</td>\n",
       "    </tr>\n",
       "    <tr>\n",
       "      <th>...</th>\n",
       "      <td>...</td>\n",
       "      <td>...</td>\n",
       "      <td>...</td>\n",
       "      <td>...</td>\n",
       "    </tr>\n",
       "    <tr>\n",
       "      <th>2019-06-18</th>\n",
       "      <td>198.449997</td>\n",
       "      <td>185.432500</td>\n",
       "      <td>201.032574</td>\n",
       "      <td>169.832427</td>\n",
       "    </tr>\n",
       "    <tr>\n",
       "      <th>2019-06-19</th>\n",
       "      <td>197.869995</td>\n",
       "      <td>185.996000</td>\n",
       "      <td>202.558154</td>\n",
       "      <td>169.433846</td>\n",
       "    </tr>\n",
       "    <tr>\n",
       "      <th>2019-06-20</th>\n",
       "      <td>199.460007</td>\n",
       "      <td>186.830000</td>\n",
       "      <td>204.361771</td>\n",
       "      <td>169.298229</td>\n",
       "    </tr>\n",
       "    <tr>\n",
       "      <th>2019-06-21</th>\n",
       "      <td>198.779999</td>\n",
       "      <td>187.786000</td>\n",
       "      <td>205.751400</td>\n",
       "      <td>169.820600</td>\n",
       "    </tr>\n",
       "    <tr>\n",
       "      <th>2019-06-24</th>\n",
       "      <td>199.169998</td>\n",
       "      <td>188.796000</td>\n",
       "      <td>206.944862</td>\n",
       "      <td>170.647138</td>\n",
       "    </tr>\n",
       "  </tbody>\n",
       "</table>\n",
       "<p>2384 rows × 4 columns</p>\n",
       "</div>"
      ],
      "text/plain": [
       "                 Close      center          ub          lb\n",
       "Date                                                      \n",
       "2010-01-04   30.572857   28.580929   30.874244   26.287614\n",
       "2010-01-05   30.625713   28.731357   31.149766   26.312948\n",
       "2010-01-06   30.138571   28.888643   31.239205   26.538081\n",
       "2010-01-07   30.082857   29.036571   31.289988   26.783154\n",
       "2010-01-08   30.282858   29.137857   31.425605   26.850109\n",
       "...                ...         ...         ...         ...\n",
       "2019-06-18  198.449997  185.432500  201.032574  169.832427\n",
       "2019-06-19  197.869995  185.996000  202.558154  169.433846\n",
       "2019-06-20  199.460007  186.830000  204.361771  169.298229\n",
       "2019-06-21  198.779999  187.786000  205.751400  169.820600\n",
       "2019-06-24  199.169998  188.796000  206.944862  170.647138\n",
       "\n",
       "[2384 rows x 4 columns]"
      ]
     },
     "execution_count": 86,
     "metadata": {},
     "output_type": "execute_result"
    }
   ],
   "source": [
    "first(df, 'Close' ,'2010-01-01')"
   ]
  },
  {
   "cell_type": "code",
   "execution_count": null,
   "metadata": {},
   "outputs": [],
   "source": []
  }
 ],
 "metadata": {
  "kernelspec": {
   "display_name": "Python 3",
   "language": "python",
   "name": "python3"
  },
  "language_info": {
   "codemirror_mode": {
    "name": "ipython",
    "version": 3
   },
   "file_extension": ".py",
   "mimetype": "text/x-python",
   "name": "python",
   "nbconvert_exporter": "python",
   "pygments_lexer": "ipython3",
   "version": "3.6.8"
  },
  "orig_nbformat": 4,
  "vscode": {
   "interpreter": {
    "hash": "187f19b7e1a6c9dce315ccb3b0d07c5b7aeed6681cd1ee8ee772db2198b62651"
   }
  }
 },
 "nbformat": 4,
 "nbformat_minor": 2
}
