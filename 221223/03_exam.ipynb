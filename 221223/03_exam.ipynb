{
 "cells": [
  {
   "cell_type": "code",
   "execution_count": null,
   "metadata": {},
   "outputs": [],
   "source": [
    "import pandas as pd\n",
    "import seaborn as sns"
   ]
  },
  {
   "cell_type": "code",
   "execution_count": null,
   "metadata": {},
   "outputs": [],
   "source": [
    "tips = sns.load_dataset('tips')\n",
    "tips.head()"
   ]
  },
  {
   "attachments": {},
   "cell_type": "markdown",
   "metadata": {},
   "source": [
    "### tips\n",
    "1. 컬럼의 이름을 변경 -> [총 금액, 팁, 성별, 흡연 여부, 요일, 시간, 인원]\n",
    "2. 총 금액, 팁 소수점 첫째짜리는 유지하고 나머지 값은 반올림하여 올려준다. \n",
    "3. 식사 인원,성별에 따른(그룹화) 팁의 비율의 평균의 값을 구하고 시각화(바 그래프)"
   ]
  },
  {
   "cell_type": "code",
   "execution_count": null,
   "metadata": {},
   "outputs": [],
   "source": [
    "tips.columns = ['총 금액','팁', '성별', '흡연 여부', '요일', '시간', '인원']"
   ]
  },
  {
   "cell_type": "code",
   "execution_count": null,
   "metadata": {},
   "outputs": [],
   "source": [
    "tips[['총 금액', '팁']] = tips[['총 금액', '팁']].round(1)"
   ]
  },
  {
   "cell_type": "code",
   "execution_count": null,
   "metadata": {},
   "outputs": [],
   "source": [
    "## 팁 비율 = 팁 / (총 금액 - 팁) * 100\n",
    "\n",
    "tips['팁 비율'] = tips['팁'] / ( tips['총 금액'] - tips['팁'] ) * 100"
   ]
  },
  {
   "cell_type": "code",
   "execution_count": null,
   "metadata": {},
   "outputs": [],
   "source": [
    "## 그룹화 \n",
    "## 인원, 성별\n",
    "group_tip = tips.groupby(['인원', '성별']).mean()['팁 비율']"
   ]
  },
  {
   "cell_type": "code",
   "execution_count": null,
   "metadata": {},
   "outputs": [],
   "source": [
    "group_tip.plot.barh()"
   ]
  },
  {
   "cell_type": "code",
   "execution_count": null,
   "metadata": {},
   "outputs": [],
   "source": [
    "group_tip.index"
   ]
  },
  {
   "cell_type": "code",
   "execution_count": null,
   "metadata": {},
   "outputs": [],
   "source": [
    "import matplotlib.pyplot as plt"
   ]
  },
  {
   "cell_type": "code",
   "execution_count": null,
   "metadata": {},
   "outputs": [],
   "source": [
    "len(group_tip.index)"
   ]
  },
  {
   "cell_type": "code",
   "execution_count": null,
   "metadata": {},
   "outputs": [],
   "source": [
    "list(range(0, len(group_tip.index), 1))"
   ]
  },
  {
   "cell_type": "code",
   "execution_count": null,
   "metadata": {},
   "outputs": [],
   "source": [
    "x = list(range(0, len(group_tip.index), 1))\n",
    "y = group_tip\n",
    "\n",
    "plt.barh(x, y)\n",
    "plt.yticks(x, group_tip.index)\n",
    "plt.show()"
   ]
  },
  {
   "cell_type": "code",
   "execution_count": null,
   "metadata": {},
   "outputs": [],
   "source": [
    "group_tip.index"
   ]
  },
  {
   "cell_type": "code",
   "execution_count": null,
   "metadata": {},
   "outputs": [],
   "source": [
    "group_data = tips.groupby(['인원', '성별']).mean()[[\"팁 비율\"]]"
   ]
  },
  {
   "cell_type": "code",
   "execution_count": null,
   "metadata": {},
   "outputs": [],
   "source": [
    "male_data = pd.DataFrame()\n",
    "female_data = pd.DataFrame()\n",
    "\n",
    "for i in group_data.index:\n",
    "    if i[1] == \"Male\":\n",
    "        data = group_data.loc[[i]]\n",
    "        male_data = pd.concat([male_data, data])\n",
    "    else:\n",
    "        data = group_data.loc[[i]]\n",
    "        female_data = pd.concat([female_data, data])\n",
    "\n"
   ]
  },
  {
   "cell_type": "code",
   "execution_count": null,
   "metadata": {},
   "outputs": [],
   "source": [
    "male_data"
   ]
  },
  {
   "cell_type": "code",
   "execution_count": null,
   "metadata": {},
   "outputs": [],
   "source": [
    "x = list(range(len(male_data)))\n",
    "x2 = list(1, range(len(male_data)+1, 1))\n",
    "y1 = male_data['팁 비율']\n",
    "y2 = female_data['팁 비율']\n",
    "\n",
    "plt.bar(x, y1, width=0.3)\n",
    "plt.bar(x2, y2, width=0.3)\n",
    "plt.show()"
   ]
  },
  {
   "cell_type": "code",
   "execution_count": null,
   "metadata": {},
   "outputs": [],
   "source": [
    "a = [1,2,3]"
   ]
  },
  {
   "cell_type": "code",
   "execution_count": null,
   "metadata": {},
   "outputs": [],
   "source": [
    "a + 0.5"
   ]
  },
  {
   "cell_type": "code",
   "execution_count": null,
   "metadata": {},
   "outputs": [],
   "source": [
    "titanic = sns.load_dataset('titanic')\\\n",
    "    [['age', 'sex', 'class', 'fare', 'survived']]\n",
    "titanic.head(1)"
   ]
  },
  {
   "attachments": {},
   "cell_type": "markdown",
   "metadata": {},
   "source": [
    "### pivot_table\n",
    "1. 그룹화\n",
    "2. 행 인덱스 \n",
    "3. 열 인덱스\n",
    "4. 데이터 값\n",
    "5. 데이터의 집계"
   ]
  },
  {
   "cell_type": "code",
   "execution_count": null,
   "metadata": {},
   "outputs": [],
   "source": [
    "pv1 = pd.pivot_table(titanic,   ## 기준이 되는 데이터프레임 \n",
    "                    index = 'class',    ## 등급별로 그룹화 \n",
    "                    columns= 'sex',     ## 성별로 분할\n",
    "                    values= 'age',      ## 그룹화된 데이터들의 나이를 선택\n",
    "                    aggfunc= 'mean')    ## 나이의 평균\n",
    "pv1"
   ]
  },
  {
   "cell_type": "code",
   "execution_count": null,
   "metadata": {},
   "outputs": [],
   "source": [
    "## 등급별, 성별 생존자의 수\n",
    "\n",
    "titanic.groupby(['class', 'sex']).sum()['survived']"
   ]
  },
  {
   "cell_type": "code",
   "execution_count": null,
   "metadata": {},
   "outputs": [],
   "source": [
    "pv2 = pd.pivot_table(titanic, \n",
    "                    index = 'class', \n",
    "                    columns='sex', \n",
    "                    values= 'survived', \n",
    "                    aggfunc= sum)\n",
    "pv2"
   ]
  },
  {
   "cell_type": "code",
   "execution_count": null,
   "metadata": {},
   "outputs": [],
   "source": [
    "## 자리등급과 성별에 (index)\n",
    "# 따라서 생존자와 사망자의 (columns)\n",
    "# 나이의 평균\n",
    "pv3 = pd.pivot_table(titanic, \n",
    "                    index = ['class', 'sex'], \n",
    "                    columns= 'survived', \n",
    "                    values= 'age', \n",
    "                    aggfunc= ['mean', 'sum'])\n",
    "pv3"
   ]
  },
  {
   "cell_type": "code",
   "execution_count": null,
   "metadata": {},
   "outputs": [],
   "source": [
    "pv3.loc[('First', 'male')]"
   ]
  },
  {
   "cell_type": "code",
   "execution_count": null,
   "metadata": {},
   "outputs": [],
   "source": [
    "pv3.xs('male', level='sex')"
   ]
  },
  {
   "cell_type": "code",
   "execution_count": null,
   "metadata": {},
   "outputs": [],
   "source": []
  }
 ],
 "metadata": {
  "kernelspec": {
   "display_name": "Python 3",
   "language": "python",
   "name": "python3"
  },
  "language_info": {
   "codemirror_mode": {
    "name": "ipython",
    "version": 3
   },
   "file_extension": ".py",
   "mimetype": "text/x-python",
   "name": "python",
   "nbconvert_exporter": "python",
   "pygments_lexer": "ipython3",
   "version": "3.6.8"
  },
  "orig_nbformat": 4,
  "vscode": {
   "interpreter": {
    "hash": "187f19b7e1a6c9dce315ccb3b0d07c5b7aeed6681cd1ee8ee772db2198b62651"
   }
  }
 },
 "nbformat": 4,
 "nbformat_minor": 2
}
