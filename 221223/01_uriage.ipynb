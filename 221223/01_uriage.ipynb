{
 "cells": [
  {
   "attachments": {},
   "cell_type": "markdown",
   "metadata": {},
   "source": [
    "### 복습\n",
    "1. uriage.csv 파일 로드 \n",
    "2. 결측치 조회\n",
    "3. purchase_date 컬럼의 값을 시계열데이터 변경\n",
    "4. item_name의 값들을 전부 대문자로 변환\n",
    "5. item_name의 값들의 공백을 전부 제거 (글자 사이의 공백도 제거)\n",
    "6. item_name을 기준으로 오름차순 정렬\n",
    "7. 인덱스 값을 재지정(리셋 기존의 인덱스는 삭제)"
   ]
  },
  {
   "cell_type": "code",
   "execution_count": 1,
   "metadata": {},
   "outputs": [],
   "source": [
    "import pandas as pd"
   ]
  },
  {
   "cell_type": "code",
   "execution_count": 2,
   "metadata": {},
   "outputs": [
    {
     "data": {
      "text/html": [
       "<div>\n",
       "<style scoped>\n",
       "    .dataframe tbody tr th:only-of-type {\n",
       "        vertical-align: middle;\n",
       "    }\n",
       "\n",
       "    .dataframe tbody tr th {\n",
       "        vertical-align: top;\n",
       "    }\n",
       "\n",
       "    .dataframe thead th {\n",
       "        text-align: right;\n",
       "    }\n",
       "</style>\n",
       "<table border=\"1\" class=\"dataframe\">\n",
       "  <thead>\n",
       "    <tr style=\"text-align: right;\">\n",
       "      <th></th>\n",
       "      <th>purchase_date</th>\n",
       "      <th>item_name</th>\n",
       "      <th>item_price</th>\n",
       "      <th>customer_name</th>\n",
       "    </tr>\n",
       "  </thead>\n",
       "  <tbody>\n",
       "    <tr>\n",
       "      <th>0</th>\n",
       "      <td>2019-06-13 18:02</td>\n",
       "      <td>상품A</td>\n",
       "      <td>100.0</td>\n",
       "      <td>김가온</td>\n",
       "    </tr>\n",
       "    <tr>\n",
       "      <th>1</th>\n",
       "      <td>2019-07-13 13:05</td>\n",
       "      <td>상 품 S</td>\n",
       "      <td>NaN</td>\n",
       "      <td>김우찬</td>\n",
       "    </tr>\n",
       "    <tr>\n",
       "      <th>2</th>\n",
       "      <td>2019-05-11 19:42</td>\n",
       "      <td>상 품 a</td>\n",
       "      <td>NaN</td>\n",
       "      <td>김유찬</td>\n",
       "    </tr>\n",
       "    <tr>\n",
       "      <th>3</th>\n",
       "      <td>2019-02-12 23:40</td>\n",
       "      <td>상품Z</td>\n",
       "      <td>2600.0</td>\n",
       "      <td>김재현</td>\n",
       "    </tr>\n",
       "    <tr>\n",
       "      <th>4</th>\n",
       "      <td>2019-04-22 3:09</td>\n",
       "      <td>상품a</td>\n",
       "      <td>NaN</td>\n",
       "      <td>김강현</td>\n",
       "    </tr>\n",
       "  </tbody>\n",
       "</table>\n",
       "</div>"
      ],
      "text/plain": [
       "      purchase_date item_name  item_price customer_name\n",
       "0  2019-06-13 18:02       상품A       100.0           김가온\n",
       "1  2019-07-13 13:05     상 품 S         NaN           김우찬\n",
       "2  2019-05-11 19:42     상 품 a         NaN           김유찬\n",
       "3  2019-02-12 23:40       상품Z      2600.0           김재현\n",
       "4   2019-04-22 3:09       상품a         NaN           김강현"
      ]
     },
     "execution_count": 2,
     "metadata": {},
     "output_type": "execute_result"
    }
   ],
   "source": [
    "## 파일 로드 \n",
    "df = pd.read_csv(\"../csv/uriage.csv\")\n",
    "df.head()"
   ]
  },
  {
   "cell_type": "code",
   "execution_count": 4,
   "metadata": {},
   "outputs": [],
   "source": [
    "## purchase_date 컬럼의 값을 시계열데이터 변경\n",
    "df['purchase_date'] = pd.to_datetime(df['purchase_date'], format=\"%Y-%m-%d %H:%M\")"
   ]
  },
  {
   "cell_type": "code",
   "execution_count": 5,
   "metadata": {},
   "outputs": [
    {
     "name": "stdout",
     "output_type": "stream",
     "text": [
      "<class 'pandas.core.frame.DataFrame'>\n",
      "RangeIndex: 2999 entries, 0 to 2998\n",
      "Data columns (total 4 columns):\n",
      " #   Column         Non-Null Count  Dtype         \n",
      "---  ------         --------------  -----         \n",
      " 0   purchase_date  2999 non-null   datetime64[ns]\n",
      " 1   item_name      2999 non-null   object        \n",
      " 2   item_price     2612 non-null   float64       \n",
      " 3   customer_name  2999 non-null   object        \n",
      "dtypes: datetime64[ns](1), float64(1), object(2)\n",
      "memory usage: 93.8+ KB\n"
     ]
    }
   ],
   "source": [
    "df.info()"
   ]
  },
  {
   "cell_type": "code",
   "execution_count": 7,
   "metadata": {},
   "outputs": [
    {
     "data": {
      "text/html": [
       "<div>\n",
       "<style scoped>\n",
       "    .dataframe tbody tr th:only-of-type {\n",
       "        vertical-align: middle;\n",
       "    }\n",
       "\n",
       "    .dataframe tbody tr th {\n",
       "        vertical-align: top;\n",
       "    }\n",
       "\n",
       "    .dataframe thead th {\n",
       "        text-align: right;\n",
       "    }\n",
       "</style>\n",
       "<table border=\"1\" class=\"dataframe\">\n",
       "  <thead>\n",
       "    <tr style=\"text-align: right;\">\n",
       "      <th></th>\n",
       "      <th>purchase_date</th>\n",
       "      <th>item_name</th>\n",
       "      <th>item_price</th>\n",
       "      <th>customer_name</th>\n",
       "    </tr>\n",
       "  </thead>\n",
       "  <tbody>\n",
       "    <tr>\n",
       "      <th>0</th>\n",
       "      <td>2019-06-13 18:02:00</td>\n",
       "      <td>상품A</td>\n",
       "      <td>100.0</td>\n",
       "      <td>김가온</td>\n",
       "    </tr>\n",
       "    <tr>\n",
       "      <th>1</th>\n",
       "      <td>2019-07-13 13:05:00</td>\n",
       "      <td>상 품 S</td>\n",
       "      <td>NaN</td>\n",
       "      <td>김우찬</td>\n",
       "    </tr>\n",
       "    <tr>\n",
       "      <th>2</th>\n",
       "      <td>2019-05-11 19:42:00</td>\n",
       "      <td>상 품 A</td>\n",
       "      <td>NaN</td>\n",
       "      <td>김유찬</td>\n",
       "    </tr>\n",
       "    <tr>\n",
       "      <th>3</th>\n",
       "      <td>2019-02-12 23:40:00</td>\n",
       "      <td>상품Z</td>\n",
       "      <td>2600.0</td>\n",
       "      <td>김재현</td>\n",
       "    </tr>\n",
       "    <tr>\n",
       "      <th>4</th>\n",
       "      <td>2019-04-22 03:09:00</td>\n",
       "      <td>상품A</td>\n",
       "      <td>NaN</td>\n",
       "      <td>김강현</td>\n",
       "    </tr>\n",
       "  </tbody>\n",
       "</table>\n",
       "</div>"
      ],
      "text/plain": [
       "        purchase_date item_name  item_price customer_name\n",
       "0 2019-06-13 18:02:00       상품A       100.0           김가온\n",
       "1 2019-07-13 13:05:00     상 품 S         NaN           김우찬\n",
       "2 2019-05-11 19:42:00     상 품 A         NaN           김유찬\n",
       "3 2019-02-12 23:40:00       상품Z      2600.0           김재현\n",
       "4 2019-04-22 03:09:00       상품A         NaN           김강현"
      ]
     },
     "execution_count": 7,
     "metadata": {},
     "output_type": "execute_result"
    }
   ],
   "source": [
    "## item_name의 값들을 전부 대문자로 변환\n",
    "df['item_name'] = df['item_name'].str.upper()\n",
    "df.head()"
   ]
  },
  {
   "cell_type": "code",
   "execution_count": 12,
   "metadata": {},
   "outputs": [],
   "source": [
    "## item_name의 값들의 공백을 모두 제거\n",
    "# case1\n",
    "df['item_name'].str.replace(\" \", \"\")\n",
    "# case2\n",
    "df['item_name'].apply(lambda x : x.replace(\" \", \"\"))\n",
    "# case3\n",
    "def change(x):\n",
    "    x = x.upper()\n",
    "    x = x.replace(\" \", \"\")\n",
    "    return x\n",
    "df['item_name'] = df['item_name'].apply(change)"
   ]
  },
  {
   "cell_type": "code",
   "execution_count": 14,
   "metadata": {},
   "outputs": [],
   "source": [
    "## item_name 값을 기준으로 오름차순 정렬\n",
    "df = df.sort_values(\"item_name\")"
   ]
  },
  {
   "cell_type": "code",
   "execution_count": 16,
   "metadata": {},
   "outputs": [],
   "source": [
    "## 인덱스의 값을 재지정(기존의 인덱스는 삭제)\n",
    "df.reset_index(drop=True, inplace=True)"
   ]
  },
  {
   "cell_type": "code",
   "execution_count": 17,
   "metadata": {},
   "outputs": [],
   "source": [
    "## datetime을 이용하여 요일 출력\n",
    "## dt.weekday\n",
    "## 0 : 월 , ..., 6 : 일\n",
    "## 요일 컬럼의 생성\n",
    "df[\"요일\"] = df['purchase_date'].dt.weekday"
   ]
  },
  {
   "cell_type": "code",
   "execution_count": 18,
   "metadata": {},
   "outputs": [
    {
     "data": {
      "text/html": [
       "<div>\n",
       "<style scoped>\n",
       "    .dataframe tbody tr th:only-of-type {\n",
       "        vertical-align: middle;\n",
       "    }\n",
       "\n",
       "    .dataframe tbody tr th {\n",
       "        vertical-align: top;\n",
       "    }\n",
       "\n",
       "    .dataframe thead th {\n",
       "        text-align: right;\n",
       "    }\n",
       "</style>\n",
       "<table border=\"1\" class=\"dataframe\">\n",
       "  <thead>\n",
       "    <tr style=\"text-align: right;\">\n",
       "      <th></th>\n",
       "      <th>purchase_date</th>\n",
       "      <th>item_name</th>\n",
       "      <th>item_price</th>\n",
       "      <th>customer_name</th>\n",
       "      <th>요일</th>\n",
       "    </tr>\n",
       "  </thead>\n",
       "  <tbody>\n",
       "    <tr>\n",
       "      <th>0</th>\n",
       "      <td>2019-06-13 18:02:00</td>\n",
       "      <td>상품A</td>\n",
       "      <td>100.0</td>\n",
       "      <td>김가온</td>\n",
       "      <td>3</td>\n",
       "    </tr>\n",
       "    <tr>\n",
       "      <th>1</th>\n",
       "      <td>2019-05-19 20:22:00</td>\n",
       "      <td>상품A</td>\n",
       "      <td>100.0</td>\n",
       "      <td>김시훈</td>\n",
       "      <td>6</td>\n",
       "    </tr>\n",
       "    <tr>\n",
       "      <th>2</th>\n",
       "      <td>2019-06-25 08:13:00</td>\n",
       "      <td>상품A</td>\n",
       "      <td>100.0</td>\n",
       "      <td>김유진</td>\n",
       "      <td>1</td>\n",
       "    </tr>\n",
       "    <tr>\n",
       "      <th>3</th>\n",
       "      <td>2019-06-13 16:03:00</td>\n",
       "      <td>상품A</td>\n",
       "      <td>100.0</td>\n",
       "      <td>김건희</td>\n",
       "      <td>3</td>\n",
       "    </tr>\n",
       "    <tr>\n",
       "      <th>4</th>\n",
       "      <td>2019-02-10 00:28:00</td>\n",
       "      <td>상품A</td>\n",
       "      <td>100.0</td>\n",
       "      <td>김하랑</td>\n",
       "      <td>6</td>\n",
       "    </tr>\n",
       "  </tbody>\n",
       "</table>\n",
       "</div>"
      ],
      "text/plain": [
       "        purchase_date item_name  item_price customer_name  요일\n",
       "0 2019-06-13 18:02:00       상품A       100.0           김가온   3\n",
       "1 2019-05-19 20:22:00       상품A       100.0           김시훈   6\n",
       "2 2019-06-25 08:13:00       상품A       100.0           김유진   1\n",
       "3 2019-06-13 16:03:00       상품A       100.0           김건희   3\n",
       "4 2019-02-10 00:28:00       상품A       100.0           김하랑   6"
      ]
     },
     "execution_count": 18,
     "metadata": {},
     "output_type": "execute_result"
    }
   ],
   "source": [
    "df.head()"
   ]
  },
  {
   "cell_type": "code",
   "execution_count": 22,
   "metadata": {},
   "outputs": [
    {
     "data": {
      "text/plain": [
       "0       목\n",
       "1       일\n",
       "2       화\n",
       "3       목\n",
       "4       일\n",
       "       ..\n",
       "2994    월\n",
       "2995    화\n",
       "2996    목\n",
       "2997    화\n",
       "2998    화\n",
       "Name: 요일, Length: 2999, dtype: object"
      ]
     },
     "execution_count": 22,
     "metadata": {},
     "output_type": "execute_result"
    }
   ],
   "source": [
    "## 요일 컬럼의 데이터를 \n",
    "## 0 -> 월 , .... 6 -> 일 의 형태로 데이터를 변환\n",
    "## \n",
    "def week_name(x):\n",
    "    if x == 0:\n",
    "        return '월'\n",
    "    elif x == 1:\n",
    "        return '화'\n",
    "    elif x == 2 : \n",
    "        return '수'\n",
    "    elif x == 3 : \n",
    "        return '목'\n",
    "    elif x == 4 : \n",
    "        return '금'\n",
    "    elif x == 5 : \n",
    "        return '토'\n",
    "    elif x == 6 :\n",
    "        return '일'\n",
    "    else :\n",
    "        return 'error'\n",
    "df['요일'].apply(week_name)"
   ]
  },
  {
   "cell_type": "code",
   "execution_count": 24,
   "metadata": {},
   "outputs": [
    {
     "data": {
      "text/plain": [
       "0       Thursday\n",
       "1         Sunday\n",
       "2        Tuesday\n",
       "3       Thursday\n",
       "4         Sunday\n",
       "          ...   \n",
       "2994      Monday\n",
       "2995     Tuesday\n",
       "2996    Thursday\n",
       "2997     Tuesday\n",
       "2998     Tuesday\n",
       "Name: purchase_date, Length: 2999, dtype: object"
      ]
     },
     "execution_count": 24,
     "metadata": {},
     "output_type": "execute_result"
    }
   ],
   "source": [
    "df['purchase_date'].dt.day_name()"
   ]
  },
  {
   "cell_type": "code",
   "execution_count": null,
   "metadata": {},
   "outputs": [],
   "source": []
  }
 ],
 "metadata": {
  "kernelspec": {
   "display_name": "Python 3",
   "language": "python",
   "name": "python3"
  },
  "language_info": {
   "codemirror_mode": {
    "name": "ipython",
    "version": 3
   },
   "file_extension": ".py",
   "mimetype": "text/x-python",
   "name": "python",
   "nbconvert_exporter": "python",
   "pygments_lexer": "ipython3",
   "version": "3.6.8"
  },
  "orig_nbformat": 4,
  "vscode": {
   "interpreter": {
    "hash": "187f19b7e1a6c9dce315ccb3b0d07c5b7aeed6681cd1ee8ee772db2198b62651"
   }
  }
 },
 "nbformat": 4,
 "nbformat_minor": 2
}
