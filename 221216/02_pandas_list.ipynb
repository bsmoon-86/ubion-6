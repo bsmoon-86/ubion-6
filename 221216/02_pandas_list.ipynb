{
 "cells": [
  {
   "cell_type": "code",
   "execution_count": null,
   "metadata": {},
   "outputs": [],
   "source": [
    "### 파일의 목록 출력\n",
    "import os"
   ]
  },
  {
   "cell_type": "code",
   "execution_count": 4,
   "metadata": {},
   "outputs": [],
   "source": [
    "file_list = os.listdir(\"../csv/2017\")"
   ]
  },
  {
   "cell_type": "code",
   "execution_count": 5,
   "metadata": {},
   "outputs": [],
   "source": [
    "import pandas as pd"
   ]
  },
  {
   "cell_type": "code",
   "execution_count": 14,
   "metadata": {},
   "outputs": [],
   "source": [
    "## 파일 리스트는 출력 성공\n",
    "## 파일이 12개가 존재 \n",
    "## 12개의 파일을 하나의 데이터프레임에 결합\n",
    "\n",
    "# \"../csv/2017/\"+file_name\n",
    "\n",
    "file_path = \"../csv/2017/\"\n",
    "# pd.read_csv(file_path+file_list[0])\n",
    "# 비어있는 데이터프레임 생성\n",
    "df = pd.DataFrame()"
   ]
  },
  {
   "cell_type": "code",
   "execution_count": 15,
   "metadata": {},
   "outputs": [],
   "source": [
    "## 파일 리스트, path 지정해놓은 변수\n",
    "## 반복문 사용 \n",
    "## 어떠한 값을 가지고 반복을 할것인가? -> 파일 리스트의 값들을 반복\n",
    "## concat() 사용할 데이터프레임을 로드\n",
    "## 비어있는 데이터프레임에 로드한 데이터프레임을 결합\n",
    "\n",
    "# for i in range(0, len(file_list), 1):\n",
    "#     data = pd.read_csv(file_path+file_list[i])\n",
    "#     df = pd.concat([df, data], axis='rows', ignore_index=True)\n",
    "\n",
    "## 리스트를 바로 for문에서 사용\n",
    "for i in file_list:\n",
    "    data = pd.read_csv(file_path+i)\n",
    "    df = pd.concat([df, data], axis='rows').reset_index(drop=True)"
   ]
  },
  {
   "cell_type": "code",
   "execution_count": 17,
   "metadata": {},
   "outputs": [],
   "source": [
    "## file_path_2, file_list_2 생성\n",
    "file_path_2 = \"../csv/2018/\"\n",
    "file_list_2 = os.listdir(file_path_2)\n",
    "\n",
    "for i in file_list_2:\n",
    "    data = pd.read_csv(file_path_2+i)\n",
    "    df = pd.concat([df, data], axis=0, ignore_index=True)"
   ]
  },
  {
   "cell_type": "code",
   "execution_count": null,
   "metadata": {},
   "outputs": [],
   "source": [
    "df.info()"
   ]
  },
  {
   "cell_type": "code",
   "execution_count": null,
   "metadata": {},
   "outputs": [],
   "source": [
    "## json 파일 로드 \n",
    "json_data = pd.read_json(\"../csv/2019/201901_expense_list.json\")\n",
    "json_data.head(1)"
   ]
  },
  {
   "cell_type": "code",
   "execution_count": null,
   "metadata": {},
   "outputs": [],
   "source": [
    "## excel 파일 로드 \n",
    "excel_data = pd.read_excel(\"../csv/2020/202001_expense_list.xlsx\")"
   ]
  },
  {
   "cell_type": "code",
   "execution_count": 21,
   "metadata": {},
   "outputs": [
    {
     "name": "stdout",
     "output_type": "stream",
     "text": [
      "Requirement already satisfied: openpyxl in c:\\users\\moons\\appdata\\local\\programs\\python\\python36\\lib\\site-packages (3.0.9)\n",
      "Collecting et-xmlfile\n",
      "  Using cached et_xmlfile-1.1.0-py3-none-any.whl (4.7 kB)\n",
      "Installing collected packages: et-xmlfile\n",
      "Successfully installed et-xmlfile-1.1.0\n"
     ]
    }
   ],
   "source": [
    "## xlsx 파일을 로드하기위한 라이브러리 하나 설치 (엔진)\n",
    "!pip install openpyxl"
   ]
  },
  {
   "cell_type": "code",
   "execution_count": 22,
   "metadata": {},
   "outputs": [
    {
     "data": {
      "text/html": [
       "<div>\n",
       "<style scoped>\n",
       "    .dataframe tbody tr th:only-of-type {\n",
       "        vertical-align: middle;\n",
       "    }\n",
       "\n",
       "    .dataframe tbody tr th {\n",
       "        vertical-align: top;\n",
       "    }\n",
       "\n",
       "    .dataframe thead th {\n",
       "        text-align: right;\n",
       "    }\n",
       "</style>\n",
       "<table border=\"1\" class=\"dataframe\">\n",
       "  <thead>\n",
       "    <tr style=\"text-align: right;\">\n",
       "      <th></th>\n",
       "      <th>nid</th>\n",
       "      <th>title</th>\n",
       "      <th>url</th>\n",
       "      <th>dept_nm_lvl_1</th>\n",
       "      <th>dept_nm_lvl_2</th>\n",
       "      <th>dept_nm_lvl_3</th>\n",
       "      <th>dept_nm_lvl_4</th>\n",
       "      <th>dept_nm_lvl_5</th>\n",
       "      <th>exec_yr</th>\n",
       "      <th>exec_month</th>\n",
       "      <th>expense_budget</th>\n",
       "      <th>expense_execution</th>\n",
       "      <th>category</th>\n",
       "      <th>dept_nm_full</th>\n",
       "      <th>exec_dt</th>\n",
       "      <th>exec_loc</th>\n",
       "      <th>exec_purpose</th>\n",
       "      <th>target_nm</th>\n",
       "      <th>payment_method</th>\n",
       "      <th>exec_amount</th>\n",
       "    </tr>\n",
       "  </thead>\n",
       "  <tbody>\n",
       "    <tr>\n",
       "      <th>0</th>\n",
       "      <td>21789676</td>\n",
       "      <td>2020년 1월 사업소 서울식물원 시설운영과 업무추진비 - 부서운영</td>\n",
       "      <td>http://opengov.seoul.go.kr/public/21789676</td>\n",
       "      <td>사업소</td>\n",
       "      <td>서울식물원</td>\n",
       "      <td>시설운영과</td>\n",
       "      <td>NaN</td>\n",
       "      <td>NaN</td>\n",
       "      <td>2020</td>\n",
       "      <td>1</td>\n",
       "      <td>NaN</td>\n",
       "      <td>NaN</td>\n",
       "      <td>NaN</td>\n",
       "      <td>푸른도시국 서울식물원 시설운영과</td>\n",
       "      <td>2020-01-22 10:25</td>\n",
       "      <td>코코호도마곡나루역점(강서구 마곡중앙5로 6)</td>\n",
       "      <td>부서 전출직원 간담회 비용</td>\n",
       "      <td>이형선 외 3인</td>\n",
       "      <td>카드</td>\n",
       "      <td>30000</td>\n",
       "    </tr>\n",
       "  </tbody>\n",
       "</table>\n",
       "</div>"
      ],
      "text/plain": [
       "        nid                                  title  \\\n",
       "0  21789676  2020년 1월 사업소 서울식물원 시설운영과 업무추진비 - 부서운영   \n",
       "\n",
       "                                          url dept_nm_lvl_1 dept_nm_lvl_2  \\\n",
       "0  http://opengov.seoul.go.kr/public/21789676           사업소         서울식물원   \n",
       "\n",
       "  dept_nm_lvl_3 dept_nm_lvl_4 dept_nm_lvl_5  exec_yr  exec_month  \\\n",
       "0         시설운영과           NaN           NaN     2020           1   \n",
       "\n",
       "   expense_budget  expense_execution category       dept_nm_full  \\\n",
       "0             NaN                NaN      NaN  푸른도시국 서울식물원 시설운영과   \n",
       "\n",
       "            exec_dt                  exec_loc    exec_purpose target_nm  \\\n",
       "0  2020-01-22 10:25  코코호도마곡나루역점(강서구 마곡중앙5로 6)  부서 전출직원 간담회 비용  이형선 외 3인   \n",
       "\n",
       "  payment_method  exec_amount  \n",
       "0             카드        30000  "
      ]
     },
     "execution_count": 22,
     "metadata": {},
     "output_type": "execute_result"
    }
   ],
   "source": [
    "excel_data = pd.read_excel(\"../csv/2020/202001_expense_list.xlsx\", \n",
    "                            engine=\"openpyxl\")\n",
    "excel_data.head(1)"
   ]
  },
  {
   "cell_type": "code",
   "execution_count": 24,
   "metadata": {},
   "outputs": [],
   "source": [
    "files = os.listdir(\"../csv/2021/\")"
   ]
  },
  {
   "cell_type": "code",
   "execution_count": 31,
   "metadata": {},
   "outputs": [
    {
     "data": {
      "text/plain": [
       "'.csv'"
      ]
     },
     "execution_count": 31,
     "metadata": {},
     "output_type": "execute_result"
    }
   ],
   "source": [
    "a = \"123456789.csv\"\n",
    "b = \"1234.csv\"\n",
    "\n",
    "## a 문자열에 1만 출력\n",
    "b[-4:]"
   ]
  },
  {
   "cell_type": "code",
   "execution_count": null,
   "metadata": {},
   "outputs": [],
   "source": [
    "files_2 = []\n",
    "for i in files:\n",
    "    # if i[-4:] == '.csv':\n",
    "    #     files_2.append(i)\n",
    "    if i.endswith(\".csv\"):\n",
    "        files_2.append(i)\n",
    "\n",
    "files_2"
   ]
  },
  {
   "cell_type": "code",
   "execution_count": 34,
   "metadata": {},
   "outputs": [
    {
     "data": {
      "text/plain": [
       "['202101_expense_list.csv',\n",
       " '202102_expense_list.csv',\n",
       " '202103_expense_list.csv',\n",
       " '202104_expense_list.csv',\n",
       " '202105_expense_list.csv',\n",
       " '202106_expense_list.csv',\n",
       " '202107_expense_list.csv',\n",
       " '202108_expense_list.csv',\n",
       " '202109_expense_list.csv',\n",
       " '202110_expense_list.csv',\n",
       " '202111_expense_list.csv',\n",
       " '202112_expense_list.csv']"
      ]
     },
     "execution_count": 34,
     "metadata": {},
     "output_type": "execute_result"
    }
   ],
   "source": [
    "file_3 = [i for i in files if i.endswith(\".csv\")]\n",
    "file_3"
   ]
  },
  {
   "cell_type": "code",
   "execution_count": null,
   "metadata": {},
   "outputs": [],
   "source": []
  }
 ],
 "metadata": {
  "kernelspec": {
   "display_name": "Python 3",
   "language": "python",
   "name": "python3"
  },
  "language_info": {
   "codemirror_mode": {
    "name": "ipython",
    "version": 3
   },
   "file_extension": ".py",
   "mimetype": "text/x-python",
   "name": "python",
   "nbconvert_exporter": "python",
   "pygments_lexer": "ipython3",
   "version": "3.6.8"
  },
  "orig_nbformat": 4,
  "vscode": {
   "interpreter": {
    "hash": "187f19b7e1a6c9dce315ccb3b0d07c5b7aeed6681cd1ee8ee772db2198b62651"
   }
  }
 },
 "nbformat": 4,
 "nbformat_minor": 2
}
