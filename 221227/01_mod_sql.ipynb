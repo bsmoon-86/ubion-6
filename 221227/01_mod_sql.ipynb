{
 "cells": [
  {
   "attachments": {},
   "cell_type": "markdown",
   "metadata": {},
   "source": [
    "### mod_sql 모듈\n",
    "1. mod_sql 모듈 로드 \n",
    "2. class를 생성\n",
    "    - 대면 : host(172.16.12.149) user(ubion) password(1234)\n",
    "    - 비대면 : host(darkpreist.iptime.org) user(ubion) password(1234)\n",
    "3. select문을 만들어서 executeAll 함수를 이용해서 결과값 리턴\n",
    "    - corona 데이터를 select \n",
    "    - 데이터의 개수는 10개\n",
    "4. insert문을 이용하여 데이터의 삽입\n",
    "    - user_list 테이블에 id와 password를 입력\n",
    "    - id는 자기 자신의 이름, password 랜덤하게 입력\n",
    "5. commit(), close() 해서 데이터베이스와의 접속 종료"
   ]
  },
  {
   "cell_type": "code",
   "execution_count": 2,
   "metadata": {},
   "outputs": [
    {
     "data": {
      "text/plain": [
       "<module 'mod_sql' from 'g:\\\\ubion\\\\금융 빅데이터 6기\\\\221227\\\\mod_sql\\\\__init__.py'>"
      ]
     },
     "execution_count": 2,
     "metadata": {},
     "output_type": "execute_result"
    }
   ],
   "source": [
    "## 모듈 로드 \n",
    "import mod_sql as ms\n",
    "## 모듈 수정 후 리로드\n",
    "import imp\n",
    "imp.reload(ms)"
   ]
  },
  {
   "cell_type": "code",
   "execution_count": 4,
   "metadata": {},
   "outputs": [],
   "source": [
    "### class 생성\n",
    "db_class = ms.Database(\"darkpreist.iptime.org\", \"ubion\", \"1234\")\n",
    "db_class_2 = ms.Database(\"172.16.12.149\", 'ubion', '1234')"
   ]
  },
  {
   "cell_type": "code",
   "execution_count": null,
   "metadata": {},
   "outputs": [],
   "source": [
    "sql = \"\"\"\n",
    "        select \n",
    "        * \n",
    "        from \n",
    "        corona\n",
    "\"\"\"\n",
    "db_class.executeAll(sql, [], 10)"
   ]
  },
  {
   "cell_type": "code",
   "execution_count": null,
   "metadata": {},
   "outputs": [],
   "source": [
    "db_class_2.executeAll(sql, _limit = 10)"
   ]
  },
  {
   "cell_type": "code",
   "execution_count": 10,
   "metadata": {},
   "outputs": [
    {
     "data": {
      "text/plain": [
       "()"
      ]
     },
     "execution_count": 10,
     "metadata": {},
     "output_type": "execute_result"
    }
   ],
   "source": [
    "insert_sql = \"\"\"\n",
    "        insert into \n",
    "        user_list \n",
    "        values \n",
    "        (%s, %s)\n",
    "\"\"\"\n",
    "_id = input(\"id : \")\n",
    "_pass = input(\"password : \")\n",
    "\n",
    "db_class.execute(insert_sql, [_id, _pass])"
   ]
  },
  {
   "cell_type": "code",
   "execution_count": 11,
   "metadata": {},
   "outputs": [
    {
     "data": {
      "text/plain": [
       "'commit complete'"
      ]
     },
     "execution_count": 11,
     "metadata": {},
     "output_type": "execute_result"
    }
   ],
   "source": [
    "db_class.commit()"
   ]
  },
  {
   "cell_type": "code",
   "execution_count": 12,
   "metadata": {},
   "outputs": [
    {
     "data": {
      "text/plain": [
       "()"
      ]
     },
     "execution_count": 12,
     "metadata": {},
     "output_type": "execute_result"
    }
   ],
   "source": [
    "db_class_2.execute(insert_sql, [_id, _pass])"
   ]
  },
  {
   "cell_type": "code",
   "execution_count": 13,
   "metadata": {},
   "outputs": [
    {
     "data": {
      "text/plain": [
       "'commit complete'"
      ]
     },
     "execution_count": 13,
     "metadata": {},
     "output_type": "execute_result"
    }
   ],
   "source": [
    "db_class_2.commit()"
   ]
  },
  {
   "cell_type": "code",
   "execution_count": null,
   "metadata": {},
   "outputs": [],
   "source": [
    "db_class.close()"
   ]
  },
  {
   "cell_type": "code",
   "execution_count": 14,
   "metadata": {},
   "outputs": [
    {
     "data": {
      "text/plain": [
       "()"
      ]
     },
     "execution_count": 14,
     "metadata": {},
     "output_type": "execute_result"
    }
   ],
   "source": [
    "delete_sql = \"\"\"\n",
    "    delete \n",
    "    from \n",
    "    user_list \n",
    "    where \n",
    "    `id` = %s\n",
    "\"\"\"\n",
    "value = 'test'\n",
    "db_class_2.execute(delete_sql, [value])"
   ]
  },
  {
   "cell_type": "code",
   "execution_count": 15,
   "metadata": {},
   "outputs": [
    {
     "data": {
      "text/plain": [
       "'commit complete'"
      ]
     },
     "execution_count": 15,
     "metadata": {},
     "output_type": "execute_result"
    }
   ],
   "source": [
    "db_class_2.commit()"
   ]
  },
  {
   "cell_type": "code",
   "execution_count": 17,
   "metadata": {},
   "outputs": [
    {
     "data": {
      "text/html": [
       "<div>\n",
       "<style scoped>\n",
       "    .dataframe tbody tr th:only-of-type {\n",
       "        vertical-align: middle;\n",
       "    }\n",
       "\n",
       "    .dataframe tbody tr th {\n",
       "        vertical-align: top;\n",
       "    }\n",
       "\n",
       "    .dataframe thead th {\n",
       "        text-align: right;\n",
       "    }\n",
       "</style>\n",
       "<table border=\"1\" class=\"dataframe\">\n",
       "  <thead>\n",
       "    <tr style=\"text-align: right;\">\n",
       "      <th></th>\n",
       "      <th>id</th>\n",
       "      <th>password</th>\n",
       "    </tr>\n",
       "  </thead>\n",
       "  <tbody>\n",
       "    <tr>\n",
       "      <th>0</th>\n",
       "      <td>hong</td>\n",
       "      <td>1234</td>\n",
       "    </tr>\n",
       "    <tr>\n",
       "      <th>1</th>\n",
       "      <td>기지훈</td>\n",
       "      <td>1234</td>\n",
       "    </tr>\n",
       "    <tr>\n",
       "      <th>2</th>\n",
       "      <td>김정우</td>\n",
       "      <td>1234</td>\n",
       "    </tr>\n",
       "    <tr>\n",
       "      <th>3</th>\n",
       "      <td>서선우</td>\n",
       "      <td>1234</td>\n",
       "    </tr>\n",
       "    <tr>\n",
       "      <th>4</th>\n",
       "      <td>홍성일</td>\n",
       "      <td>1234</td>\n",
       "    </tr>\n",
       "  </tbody>\n",
       "</table>\n",
       "</div>"
      ],
      "text/plain": [
       "     id password\n",
       "0  hong     1234\n",
       "1   기지훈     1234\n",
       "2   김정우     1234\n",
       "3   서선우     1234\n",
       "4   홍성일     1234"
      ]
     },
     "execution_count": 17,
     "metadata": {},
     "output_type": "execute_result"
    }
   ],
   "source": [
    "## user_list 테이블에서 password가 1234인 데이터를 출력\n",
    "## values를 사용하여 출력\n",
    "select_sql = \"\"\"\n",
    "        select \n",
    "        * \n",
    "        from \n",
    "        user_list \n",
    "        where \n",
    "        `password` = %s\n",
    "\"\"\"\n",
    "value = '1234'\n",
    "db_class_2.executeAll(select_sql, [value])"
   ]
  },
  {
   "cell_type": "code",
   "execution_count": 18,
   "metadata": {},
   "outputs": [
    {
     "data": {
      "text/html": [
       "<div>\n",
       "<style scoped>\n",
       "    .dataframe tbody tr th:only-of-type {\n",
       "        vertical-align: middle;\n",
       "    }\n",
       "\n",
       "    .dataframe tbody tr th {\n",
       "        vertical-align: top;\n",
       "    }\n",
       "\n",
       "    .dataframe thead th {\n",
       "        text-align: right;\n",
       "    }\n",
       "</style>\n",
       "<table border=\"1\" class=\"dataframe\">\n",
       "  <thead>\n",
       "    <tr style=\"text-align: right;\">\n",
       "      <th></th>\n",
       "      <th>id</th>\n",
       "      <th>password</th>\n",
       "    </tr>\n",
       "  </thead>\n",
       "  <tbody>\n",
       "    <tr>\n",
       "      <th>0</th>\n",
       "      <td>이호성</td>\n",
       "      <td>1234</td>\n",
       "    </tr>\n",
       "  </tbody>\n",
       "</table>\n",
       "</div>"
      ],
      "text/plain": [
       "    id password\n",
       "0  이호성     1234"
      ]
     },
     "execution_count": 18,
     "metadata": {},
     "output_type": "execute_result"
    }
   ],
   "source": [
    "db_class.executeAll(select_sql, [value])"
   ]
  },
  {
   "attachments": {},
   "cell_type": "markdown",
   "metadata": {},
   "source": [
    "### data의 확인\n",
    "1. id, password의 값을 받아오는 작업(input)\n",
    "2. user_list 테이블에서 받아온 id, password의 값이 존재하는지 체크\n",
    "3. 존재한다면 '성공' 존재하지 않으면 '실패' 메시지의 리턴"
   ]
  },
  {
   "cell_type": "code",
   "execution_count": 20,
   "metadata": {},
   "outputs": [],
   "source": [
    "sql_class = ms.Database('darkpreist.iptime.org', 'ubion', '1234')"
   ]
  },
  {
   "cell_type": "code",
   "execution_count": 29,
   "metadata": {},
   "outputs": [
    {
     "name": "stdout",
     "output_type": "stream",
     "text": [
      "성공\n"
     ]
    }
   ],
   "source": [
    "_id = input(\"id : \")\n",
    "_pass = input(\"password : \")\n",
    "\n",
    "sql = \"\"\"\n",
    "        select \n",
    "        * \n",
    "        from \n",
    "        user_list \n",
    "        where \n",
    "        `id` = %s \n",
    "        and \n",
    "        `password` = %s\n",
    "\"\"\"\n",
    "\n",
    "result = sql_class.execute(sql, [_id, _pass])\n",
    "## result 값을 예상\n",
    "## 성공 -> id와 password의 값이 데이터 안에 존재\n",
    "## -> result 안에 데이터의 형태는 [{'id':xxx, 'password':xxxx}]\n",
    "## -> 성공시 리스트 안에 항목은 1개 이유는? -> id가 primary key이기 때문에\n",
    "## 유니크 속성과 not null의 속성을 가진다. \n",
    "## id로 검색하는 경우에는 1개의 데이터 이상을 가질 수 없다.\n",
    "## 실패 -> id와 password의 값이 존재하지 않는 경우 id와 password 중 하나만 틀려도 실패\n",
    "## -> result 안에 데이터의 형태는 ()\n",
    "\n",
    "## 데이터의 존재 유무 \n",
    "\n",
    "# CASE1\n",
    "# if result == ():\n",
    "#     print(\"실패\")\n",
    "# else : \n",
    "#     print(\"성공\")\n",
    "\n",
    "# case2\n",
    "# if result == [{'id': _id, 'password': _pass}] :\n",
    "#     print(\"성공\")\n",
    "# else : \n",
    "#     print(\"실패\")\n",
    "if result:\n",
    "    print(\"성공\")\n",
    "else : \n",
    "    print(\"실패\")"
   ]
  },
  {
   "attachments": {},
   "cell_type": "markdown",
   "metadata": {},
   "source": [
    "### api형식의 데이터를 보내기\n",
    "1. id, password의 데이터가 존재하면 (로그인이 성공하면)\n",
    "2. 성공시에는 corona 데이터를 데이터프레임으로 출력\n",
    "3. 실패시에는 '로그인 실패' 출력"
   ]
  },
  {
   "cell_type": "code",
   "execution_count": null,
   "metadata": {},
   "outputs": [],
   "source": [
    "_id = input(\"id : \")\n",
    "_pass = input(\"password : \")\n",
    "sql = \"\"\"\n",
    "        select \n",
    "        * \n",
    "        from \n",
    "        user_list \n",
    "        where \n",
    "        `id` = %s \n",
    "        and \n",
    "        `password` = %s\n",
    "\"\"\"\n",
    "result = sql_class.execute(sql, [_id, _pass])\n",
    "\n",
    "corona_sql = \"\"\"\n",
    "        select \n",
    "        * \n",
    "        from \n",
    "        corona\n",
    "\"\"\"\n",
    "\n",
    "if result : \n",
    "    ## corona data 출력\n",
    "    result2 = sql_class.executeAll(corona_sql)\n",
    "else:\n",
    "    result2 = \"로그인 실패\"\n",
    "\n",
    "result2"
   ]
  },
  {
   "cell_type": "code",
   "execution_count": 33,
   "metadata": {},
   "outputs": [
    {
     "data": {
      "text/plain": [
       "'로그인 실패'"
      ]
     },
     "execution_count": 33,
     "metadata": {},
     "output_type": "execute_result"
    }
   ],
   "source": [
    "## 위의 코드를 함수 형태로 변환\n",
    "\n",
    "# case1\n",
    "_id = input(\"id : \")\n",
    "_pass = input(\"password : \")\n",
    "sql = \"\"\"\n",
    "        select \n",
    "        * \n",
    "        from \n",
    "        user_list \n",
    "        where \n",
    "        `id` = %s\n",
    "        and \n",
    "        `password` = %s\n",
    "\"\"\"\n",
    "def login(input_sql, input_id, input_pass):\n",
    "    result = sql_class.execute(input_sql, [input_id, input_pass])\n",
    "    if result : \n",
    "        corona_sql = \"\"\"\n",
    "            select \n",
    "            * \n",
    "            from \n",
    "            corona\n",
    "        \"\"\"\n",
    "        return sql_class.executeAll(corona_sql)\n",
    "    else : \n",
    "        return \"로그인 실패\"\n",
    "\n",
    "login(sql, _id, _pass)"
   ]
  },
  {
   "cell_type": "code",
   "execution_count": null,
   "metadata": {},
   "outputs": [],
   "source": [
    "def login2():\n",
    "    _id = input(\"id : \")\n",
    "    _pass = input(\"password : \")\n",
    "    sql = \"\"\"\n",
    "        select \n",
    "        * \n",
    "        from \n",
    "        user_list \n",
    "        where \n",
    "        `id` = %s \n",
    "        and \n",
    "        `password` = %s\n",
    "    \"\"\"\n",
    "    result = sql_class.execute(sql, [_id, _pass])\n",
    "    if result : \n",
    "        corona_sql = \"\"\"\n",
    "            select \n",
    "            * \n",
    "            from \n",
    "            corona\n",
    "        \"\"\"\n",
    "        return sql_class.executeAll(corona_sql)\n",
    "    else : \n",
    "        return \"로그인 실패\"\n",
    "\n",
    "login2()"
   ]
  },
  {
   "attachments": {},
   "cell_type": "markdown",
   "metadata": {},
   "source": [
    "### 연습문제 \n",
    "1. login() 함수를 변형\n",
    "2. 매개변수가 3개에서 4개 증가\n",
    "3. sql, id, password외의 table 매개변수 생성\n",
    "4. table 매개변수 -> sql에 있는 table 이름\n",
    "5. 예시 : table이 sales records이면 sales records 데이터를 리턴\n",
    "6. 대면 : 함수가 완성되면 sales records 인자 값에 넣어서 확인 \n",
    "7. 비대면 : sales 인자값을 넣어서 확인"
   ]
  },
  {
   "cell_type": "code",
   "execution_count": null,
   "metadata": {},
   "outputs": [],
   "source": []
  }
 ],
 "metadata": {
  "kernelspec": {
   "display_name": "Python 3",
   "language": "python",
   "name": "python3"
  },
  "language_info": {
   "codemirror_mode": {
    "name": "ipython",
    "version": 3
   },
   "file_extension": ".py",
   "mimetype": "text/x-python",
   "name": "python",
   "nbconvert_exporter": "python",
   "pygments_lexer": "ipython3",
   "version": "3.6.8"
  },
  "orig_nbformat": 4,
  "vscode": {
   "interpreter": {
    "hash": "187f19b7e1a6c9dce315ccb3b0d07c5b7aeed6681cd1ee8ee772db2198b62651"
   }
  }
 },
 "nbformat": 4,
 "nbformat_minor": 2
}
