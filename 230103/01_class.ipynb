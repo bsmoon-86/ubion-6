{
 "cells": [
  {
   "attachments": {},
   "cell_type": "markdown",
   "metadata": {},
   "source": [
    "### class 생성\n",
    "1. class 이름은 User\n",
    "2. 생성자 함수(\\__init__) 유저 정보 이름, 휴대폰 번호, 생년월일\n",
    "3. info()함수를 생성 유저의 정보를 출력(print) 하는 함수 생성\n",
    "- test : user1 = User(\"test\", \"01012345678\", \"800101\"), user2 = User(\"test2\", \"01098765432\", \"900101\")"
   ]
  },
  {
   "cell_type": "code",
   "execution_count": 1,
   "metadata": {},
   "outputs": [],
   "source": [
    "class User:\n",
    "    # 새로운 클래스를 생성하는 경우에 클래스 안에 변수들을 지정\n",
    "    def __init__(self, _name, _phone, _birth):\n",
    "        self.name = _name\n",
    "        self.phone = _phone\n",
    "        self.birth = _birth\n",
    "    # 유저의 정보를 출력하는 함수\n",
    "    def info(self):\n",
    "        self.result = [self.name, self.phone, self.birth]\n",
    "        print(self.result)"
   ]
  },
  {
   "cell_type": "code",
   "execution_count": 2,
   "metadata": {},
   "outputs": [],
   "source": [
    "user1 = User('test', '01012345678', '800101')\n",
    "user2 = User('test2', '01098765432', '900101')"
   ]
  },
  {
   "cell_type": "code",
   "execution_count": 5,
   "metadata": {},
   "outputs": [
    {
     "name": "stdout",
     "output_type": "stream",
     "text": [
      "['test2', '01098765432', '900101']\n"
     ]
    }
   ],
   "source": [
    "user2.info()"
   ]
  },
  {
   "cell_type": "code",
   "execution_count": 6,
   "metadata": {},
   "outputs": [
    {
     "data": {
      "text/plain": [
       "'test'"
      ]
     },
     "execution_count": 6,
     "metadata": {},
     "output_type": "execute_result"
    }
   ],
   "source": [
    "user1.name"
   ]
  },
  {
   "attachments": {},
   "cell_type": "markdown",
   "metadata": {},
   "source": [
    "### 지갑 클래스 생성\n",
    "1. 클래스의 이름은 Wallet\n",
    "2. 클래스 생성자 함수 소유자, 지갑 브랜드, 지갑의 가치, 잔액\n",
    "3. 잔액은 0\n",
    "4. work() 함수 생성 : 일의 종류는 'TM', 'alba', 'serving' TM은 잔액이 500 증가, alba는 잔액이 300증가, serving은 400증가\n",
    "5. buy() 함수 생성 : 'dinner'의 경우 잔액이 100 감소, 'notebook'의 경우 1000 감소, 'moniter'의 경우 400 감소 --> 구매 실패의 조건 -> 구매하려는 제품의 가격보다 잔액이 적은 경우는 구매 실패 메시지를 출력\n",
    "6. wallet_info() 함수 생성 : 현재 소유자의 이름과 잔액을 출력"
   ]
  },
  {
   "cell_type": "code",
   "execution_count": 48,
   "metadata": {},
   "outputs": [],
   "source": [
    "class Wallet(User):\n",
    "    # 생성자 함수 소유자, 브랜드, 가치, 잔액\n",
    "    def __init__(self, _name, _phone, _birth,  _brand, _value):\n",
    "        super().__init__(_name, _phone, _birth)\n",
    "        self.brand = _brand\n",
    "        self.value = _value\n",
    "        self.balance = 0\n",
    "    \n",
    "    # 일을 한다는 행동을 하는 함수 \n",
    "    def work(self, _work_type):\n",
    "        if _work_type == \"TM\":\n",
    "            self.cost = 50000\n",
    "        elif _work_type == \"alba\":\n",
    "            self.cost = 30000\n",
    "        elif _work_type == \"serving\":\n",
    "            self.cost = 40000\n",
    "        else : \n",
    "            return \"work_type이 맞지 않습니다.\"\n",
    "        self.balance += self.cost\n",
    "        return f\"{_work_type} 일을 성공하였습니다. 현재 잔액은 {self.balance}입니다.\"\n",
    "    \n",
    "    # 구매를 하는 함수\n",
    "    def buy(self, _goods):\n",
    "        if _goods == \"dinner\":\n",
    "            self.cost = 100\n",
    "        elif _goods == \"notebook\":\n",
    "            self.cost = 1000\n",
    "        elif _goods == \"moniter\":\n",
    "            self.cost = 400\n",
    "        else :\n",
    "            return \"구매 상품의 종류가 존재하지 않습니다.\"\n",
    "        \n",
    "        if self.balance >= self.cost:\n",
    "            self.balance -= self.cost\n",
    "            return f\"{_goods} 상품 구매가 완료되었습니다. 현재 잔액은 {self.balance}\"\n",
    "        else :\n",
    "            return f\"{_goods} 상품 구매가 실패하였습니다.\"\n",
    "    \n",
    "    # 식당 정보를 가지고 구매를 하는 함수\n",
    "    def diner_buy(self, _name, _menu):\n",
    "        # cost를 출력\n",
    "        # _name는 Diner() 클래스\n",
    "        # _menu는 해당하는 클래스의 메뉴의 이름(키값)\n",
    "        self.cost = _name.menu_price(_menu)\n",
    "        if self.cost == 0 :\n",
    "            return \"메뉴가 존재하지 않습니다.\"\n",
    "        elif self.balance >= self.cost:\n",
    "            self.balance -= self.cost\n",
    "            return f\"{_menu}를 구매하였습니다.\"\n",
    "        else : \n",
    "            return f\"{_menu} 구매가 실패하였습니다.\"\n",
    "    \n",
    "    # 지갑의 정보를 출력하는 함수\n",
    "    def wallet_info(self):\n",
    "        print(f\"지갑의 소유자는 {self.name}\")\n",
    "        print(f\"현재 잔액은 {self.balance}\")\n",
    "\n",
    "    # 오버라이딩 -> info()라는 함수가 하는 행동을 변경해서 사용\n",
    "    def info(self):\n",
    "        print(f\"소유자의 이름은 {self.name}\")\n",
    "        print(f\"지갑의 브랜드는 {self.brand}\")\n",
    "        print(f\"지갑의 가치는 {self.value}\")\n",
    "            \n"
   ]
  },
  {
   "cell_type": "code",
   "execution_count": 49,
   "metadata": {},
   "outputs": [],
   "source": [
    "wallet1 = Wallet(\"test\", \"01012345678\", \"900101\", \"gucci\", 2000)"
   ]
  },
  {
   "cell_type": "code",
   "execution_count": 50,
   "metadata": {},
   "outputs": [
    {
     "data": {
      "text/plain": [
       "'work_type이 맞지 않습니다.'"
      ]
     },
     "execution_count": 50,
     "metadata": {},
     "output_type": "execute_result"
    }
   ],
   "source": [
    "wallet1.work(\"TM\")\n",
    "wallet1.work(\"alba\")\n",
    "wallet1.work(\"serving\")\n",
    "wallet1.work(\"teaching\")"
   ]
  },
  {
   "cell_type": "code",
   "execution_count": 17,
   "metadata": {},
   "outputs": [
    {
     "data": {
      "text/plain": [
       "'TM 일을 성공하였습니다. 현재 잔액은 1700입니다.'"
      ]
     },
     "execution_count": 17,
     "metadata": {},
     "output_type": "execute_result"
    }
   ],
   "source": [
    "wallet1.work(\"TM\")"
   ]
  },
  {
   "cell_type": "code",
   "execution_count": 19,
   "metadata": {},
   "outputs": [
    {
     "data": {
      "text/plain": [
       "'dinner 상품 구매가 완료되었습니다. 현재 잔액은 1500'"
      ]
     },
     "execution_count": 19,
     "metadata": {},
     "output_type": "execute_result"
    }
   ],
   "source": [
    "wallet1.buy(\"dinner\")"
   ]
  },
  {
   "cell_type": "code",
   "execution_count": 51,
   "metadata": {},
   "outputs": [
    {
     "name": "stdout",
     "output_type": "stream",
     "text": [
      "지갑의 소유자는 test\n",
      "현재 잔액은 120000\n"
     ]
    }
   ],
   "source": [
    "wallet1.wallet_info()"
   ]
  },
  {
   "cell_type": "code",
   "execution_count": 26,
   "metadata": {},
   "outputs": [
    {
     "name": "stdout",
     "output_type": "stream",
     "text": [
      "소유자의 이름은 test\n",
      "지갑의 브랜드는 gucci\n",
      "지갑의 가치는 2000\n"
     ]
    }
   ],
   "source": [
    "## 소유자의 정보만 확인\n",
    "wallet1.info()"
   ]
  },
  {
   "cell_type": "code",
   "execution_count": 27,
   "metadata": {},
   "outputs": [],
   "source": [
    "user1 = User(\"test2\", \"01078945612\", \"800101\")"
   ]
  },
  {
   "cell_type": "code",
   "execution_count": 28,
   "metadata": {},
   "outputs": [
    {
     "name": "stdout",
     "output_type": "stream",
     "text": [
      "['test2', '01078945612', '800101']\n"
     ]
    }
   ],
   "source": [
    "user1.info()"
   ]
  },
  {
   "cell_type": "code",
   "execution_count": 29,
   "metadata": {},
   "outputs": [],
   "source": [
    "dict_a = {\n",
    "    'a' : 1, \n",
    "    'b' : 2\n",
    "    }"
   ]
  },
  {
   "cell_type": "code",
   "execution_count": 30,
   "metadata": {},
   "outputs": [],
   "source": [
    "## 딕셔너리 데이터에서 새로운 키 값과 벨류의 값을 추가하려면?\n",
    "dict_a['c'] = 3"
   ]
  },
  {
   "cell_type": "code",
   "execution_count": 31,
   "metadata": {},
   "outputs": [
    {
     "data": {
      "text/plain": [
       "{'a': 1, 'b': 2, 'c': 3}"
      ]
     },
     "execution_count": 31,
     "metadata": {},
     "output_type": "execute_result"
    }
   ],
   "source": [
    "dict_a"
   ]
  },
  {
   "cell_type": "code",
   "execution_count": 32,
   "metadata": {},
   "outputs": [
    {
     "data": {
      "text/plain": [
       "1"
      ]
     },
     "execution_count": 32,
     "metadata": {},
     "output_type": "execute_result"
    }
   ],
   "source": [
    "dict_a['a']"
   ]
  },
  {
   "cell_type": "code",
   "execution_count": 33,
   "metadata": {},
   "outputs": [],
   "source": [
    "del dict_a['b']"
   ]
  },
  {
   "cell_type": "code",
   "execution_count": 34,
   "metadata": {},
   "outputs": [
    {
     "data": {
      "text/plain": [
       "{'a': 1, 'c': 3}"
      ]
     },
     "execution_count": 34,
     "metadata": {},
     "output_type": "execute_result"
    }
   ],
   "source": [
    "dict_a"
   ]
  },
  {
   "cell_type": "code",
   "execution_count": 36,
   "metadata": {},
   "outputs": [
    {
     "data": {
      "text/plain": [
       "dict_keys(['a', 'c'])"
      ]
     },
     "execution_count": 36,
     "metadata": {},
     "output_type": "execute_result"
    }
   ],
   "source": [
    "dict_a.keys()"
   ]
  },
  {
   "cell_type": "code",
   "execution_count": 40,
   "metadata": {},
   "outputs": [
    {
     "data": {
      "text/plain": [
       "True"
      ]
     },
     "execution_count": 40,
     "metadata": {},
     "output_type": "execute_result"
    }
   ],
   "source": [
    "'a' in dict_a"
   ]
  },
  {
   "attachments": {},
   "cell_type": "markdown",
   "metadata": {},
   "source": [
    "### 식당 class 생성\n",
    "1. class 이름은 Diner\n",
    "2. 생성자 함수 식당 연락처, 메뉴는 비어있는 dict 데이터 생성\n",
    "3. 기존의 메뉴가 존재하면 추가하지 않는다.  메뉴를 추가하는 함수(menu_add()) -> 메뉴의 이름과 메뉴의 가격 추가 \n",
    "4. 메뉴를 삭제하는 함수(menu_del()) -> 메뉴를 삭제\n",
    "5. 지정한 메뉴의 가격을 return (menu_price()) -> 선택한 메뉴의 가격을 리턴\n"
   ]
  },
  {
   "cell_type": "code",
   "execution_count": 41,
   "metadata": {},
   "outputs": [],
   "source": [
    "class Diner:\n",
    "    def __init__(self, _tel, _menu={}):\n",
    "        self.tel = _tel\n",
    "        # self.menu = dict()\n",
    "        self.menu = _menu\n",
    "    # 메뉴 추가 \n",
    "    def menu_add(self, _name, _price):\n",
    "        # self.menu에 추가하려는 key 값이 없는 경우\n",
    "        if _name not in self.menu:\n",
    "            self.menu[_name] = _price\n",
    "            print(f\"{_name} 메뉴가 추가되었습니다.\")\n",
    "        else:\n",
    "            print(f\"{_name} 메뉴가 존재합니다.\")\n",
    "    # 메뉴 삭제\n",
    "    def menu_del(self, _name):\n",
    "        if _name in self.menu:\n",
    "            del self.menu[_name]\n",
    "            print(f\"{_name} 메뉴가 삭제되었습니다.\")\n",
    "        else :\n",
    "            print(f\"{_name} 메뉴가 존재하지 않습니다.\")\n",
    "    # 선택한 메뉴의 가격을 return\n",
    "    def menu_price(self, _name):\n",
    "        if _name in self.menu:\n",
    "            return self.menu[_name]\n",
    "        else : \n",
    "            print(f\"{_name} 메뉴가 존재하지 않습니다.\")\n",
    "            return 0"
   ]
  },
  {
   "cell_type": "code",
   "execution_count": 42,
   "metadata": {},
   "outputs": [],
   "source": [
    "샤오바오 = Diner('0212345678')"
   ]
  },
  {
   "cell_type": "code",
   "execution_count": 55,
   "metadata": {},
   "outputs": [
    {
     "name": "stdout",
     "output_type": "stream",
     "text": [
      "꿔바로우 메뉴가 존재합니다.\n",
      "우육면 메뉴가 존재합니다.\n",
      "볶음면 메뉴가 추가되었습니다.\n"
     ]
    }
   ],
   "source": [
    "샤오바오.menu_add(\"꿔바로우\", 11000)\n",
    "샤오바오.menu_add(\"우육면\", 10000)\n",
    "샤오바오.menu_add(\"볶음면\", 12000)"
   ]
  },
  {
   "cell_type": "code",
   "execution_count": 44,
   "metadata": {},
   "outputs": [
    {
     "data": {
      "text/plain": [
       "{'꿔바로우': 11000, '우육면': 10000, '볶음면': 12000}"
      ]
     },
     "execution_count": 44,
     "metadata": {},
     "output_type": "execute_result"
    }
   ],
   "source": [
    "샤오바오.menu"
   ]
  },
  {
   "cell_type": "code",
   "execution_count": 45,
   "metadata": {},
   "outputs": [
    {
     "name": "stdout",
     "output_type": "stream",
     "text": [
      "볶음면 메뉴가 삭제되었습니다.\n"
     ]
    }
   ],
   "source": [
    "샤오바오.menu_del(\"볶음면\")"
   ]
  },
  {
   "cell_type": "code",
   "execution_count": 47,
   "metadata": {},
   "outputs": [
    {
     "name": "stdout",
     "output_type": "stream",
     "text": [
      "볶음면 메뉴가 존재하지 않습니다.\n"
     ]
    },
    {
     "data": {
      "text/plain": [
       "0"
      ]
     },
     "execution_count": 47,
     "metadata": {},
     "output_type": "execute_result"
    }
   ],
   "source": [
    "샤오바오.menu_price(\"볶음면\")"
   ]
  },
  {
   "cell_type": "code",
   "execution_count": 56,
   "metadata": {},
   "outputs": [
    {
     "data": {
      "text/plain": [
       "'볶음면를 구매하였습니다.'"
      ]
     },
     "execution_count": 56,
     "metadata": {},
     "output_type": "execute_result"
    }
   ],
   "source": [
    "wallet1.diner_buy(샤오바오, '볶음면')"
   ]
  },
  {
   "cell_type": "code",
   "execution_count": 53,
   "metadata": {},
   "outputs": [
    {
     "name": "stdout",
     "output_type": "stream",
     "text": [
      "지갑의 소유자는 test\n",
      "현재 잔액은 110000\n"
     ]
    }
   ],
   "source": [
    "wallet1.wallet_info()"
   ]
  },
  {
   "cell_type": "code",
   "execution_count": null,
   "metadata": {},
   "outputs": [],
   "source": []
  }
 ],
 "metadata": {
  "kernelspec": {
   "display_name": "Python 3",
   "language": "python",
   "name": "python3"
  },
  "language_info": {
   "codemirror_mode": {
    "name": "ipython",
    "version": 3
   },
   "file_extension": ".py",
   "mimetype": "text/x-python",
   "name": "python",
   "nbconvert_exporter": "python",
   "pygments_lexer": "ipython3",
   "version": "3.11.1"
  },
  "orig_nbformat": 4,
  "vscode": {
   "interpreter": {
    "hash": "9b5f1854d503dd71c3856bf3749ce047b3ad1e5d370827a8e1d34b45663952a6"
   }
  }
 },
 "nbformat": 4,
 "nbformat_minor": 2
}
