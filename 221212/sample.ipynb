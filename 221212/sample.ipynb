{
 "cells": [
  {
   "cell_type": "markdown",
   "metadata": {},
   "source": [
    "### 변수"
   ]
  },
  {
   "cell_type": "code",
   "execution_count": null,
   "metadata": {},
   "outputs": [],
   "source": [
    "a = 10\n",
    "b = \"Hello World\"\n",
    "print(a)\n",
    "print(b)\n",
    "print(type(a))\n",
    "print(type(b))"
   ]
  },
  {
   "cell_type": "code",
   "execution_count": null,
   "metadata": {},
   "outputs": [],
   "source": [
    "c = \"10\"\n",
    "print(c)\n",
    "print(type(c))"
   ]
  },
  {
   "cell_type": "markdown",
   "metadata": {},
   "source": [
    "### 연산자 \n",
    "1. 대입연산자\n",
    "2. 비교연산자"
   ]
  },
  {
   "cell_type": "code",
   "execution_count": null,
   "metadata": {},
   "outputs": [],
   "source": [
    "# 주석 \n",
    "# 언어로써 실행X \n",
    "# 설명 부분\n",
    "## 산술연산자\n",
    "x = 5\n",
    "y = 3\n",
    "print(x+y, x-y, x*y, x/y, x//y, x%y, x**y)"
   ]
  },
  {
   "cell_type": "code",
   "execution_count": null,
   "metadata": {},
   "outputs": [],
   "source": [
    "## 대입연산자 \n",
    "## +=, -=, *=, .....\n",
    "## a += 1 -> a = a + 1\n",
    "## x의 값은 ? 5\n",
    "## x += 1의 값은 ? x가 6\n",
    "x += 1\n",
    "print(x)"
   ]
  },
  {
   "cell_type": "code",
   "execution_count": null,
   "metadata": {},
   "outputs": [],
   "source": [
    "print(x + 1)"
   ]
  },
  {
   "cell_type": "code",
   "execution_count": null,
   "metadata": {},
   "outputs": [],
   "source": [
    "## 현재 x의 값은 ? 19\n",
    "x -= 3\n",
    "print(x)\n",
    "## 결과값은 ? 16"
   ]
  },
  {
   "cell_type": "code",
   "execution_count": null,
   "metadata": {},
   "outputs": [],
   "source": [
    "## 비교 연산자\n",
    "## 결과값이 논리값 -> True, False\n",
    "a = 5\n",
    "b = 3\n",
    "print(a == b, a != b, a > b, a < b, a >= b, a <= b)\n",
    "## 결과값은 ? False, True, True, False, True, False"
   ]
  },
  {
   "cell_type": "code",
   "execution_count": null,
   "metadata": {},
   "outputs": [],
   "source": [
    "## and, or, not \n",
    "## and -> 두 조건식이 참인 경우에만 참, 그 외에는 거짓\n",
    "## or -> 두 조건식 중에 하나만 참이면 참, 두 조건식이 모두 거짓인 경우 거짓\n",
    "## not -> 참인 경우에는 거짓, 거짓인 경우에는 참\n",
    "print( (a > 3) and (a < 10) ) ## 참, 참 and 결과값은 ? True\n",
    "print( (a < 3) and (a < 10) ) ## 거짓, 참 and 결과값은 ? False"
   ]
  },
  {
   "cell_type": "code",
   "execution_count": null,
   "metadata": {},
   "outputs": [],
   "source": [
    "print( (a < 3) or (a < 10) ) ## 거짓, 참 or 결과값은 ? True\n",
    "print( (a > 3) or (a < 10) ) ## 참, 참 or 결과값은 ? True"
   ]
  },
  {
   "cell_type": "code",
   "execution_count": null,
   "metadata": {},
   "outputs": [],
   "source": [
    "not(False) ## not은 부정 -> 반대로 출력 False -> True"
   ]
  },
  {
   "cell_type": "markdown",
   "metadata": {},
   "source": [
    "### if 문\n",
    "1. 조건식이 참인 경우에 코드가 실행\n",
    "2. 조건식이 거짓인 경우에는 코드가 실행이 되지 않는다. \n",
    "3. 거짓인 경우 코드를 실행하려면 else 구문을 적어줘야한다. "
   ]
  },
  {
   "cell_type": "code",
   "execution_count": null,
   "metadata": {},
   "outputs": [],
   "source": [
    "a = 5\n",
    "\n",
    "## 조건식이 참? 거짓 ? -> 참 print(\"a는 10보다 작다\")  실행\n",
    "if a < 10:\n",
    "    print(\"a는 10보다 작다\")\n",
    "\n",
    "## 프로그램 종료라는 print 함수는 실행 유무? \n",
    "print(\"프로그램 종료\")"
   ]
  },
  {
   "cell_type": "code",
   "execution_count": null,
   "metadata": {},
   "outputs": [],
   "source": [
    "a = 15\n",
    "\n",
    "if a < 10 :\n",
    "    print(\"a는 10보다 작다\")\n",
    "else :\n",
    "    print(\"a는 10보다 크거나 같다\")\n",
    "\n",
    "print(\"프로그램 종료\")\n",
    "\n",
    "##이 코드 실행 결과 ? \n",
    "# \"a는 10보다 크거나 같다\"\n",
    "# \"프로그램 종료\""
   ]
  },
  {
   "cell_type": "code",
   "execution_count": null,
   "metadata": {},
   "outputs": [],
   "source": [
    "score = int(input(\"점수를 입력하시오 : \"))\n",
    "\n",
    "if score >= 90 :\n",
    "    print(\"A학점\")\n",
    "elif score >= 80 :\n",
    "    print(\"B학점\")\n",
    "elif score >= 70 :\n",
    "    print(\"C학점\")\n",
    "else : \n",
    "    print(\"F학점\")\n",
    "\n",
    "print(\"프로그램 종료\")"
   ]
  },
  {
   "cell_type": "markdown",
   "metadata": {},
   "source": [
    "### 반복문 \n",
    "1. for문\n",
    "2. while문"
   ]
  },
  {
   "cell_type": "code",
   "execution_count": null,
   "metadata": {},
   "outputs": [],
   "source": [
    "## for문\n",
    "for i in range(0, 5, 1) :\n",
    "    print(i)\n",
    "    \n",
    "print(\"반복문 종료\")"
   ]
  },
  {
   "cell_type": "code",
   "execution_count": null,
   "metadata": {},
   "outputs": [],
   "source": [
    "for i in range(5) :\n",
    "    print(i)"
   ]
  },
  {
   "cell_type": "code",
   "execution_count": null,
   "metadata": {},
   "outputs": [],
   "source": [
    "for i in range(2, 20, 2) : \n",
    "    print(i)"
   ]
  },
  {
   "cell_type": "code",
   "execution_count": null,
   "metadata": {},
   "outputs": [],
   "source": [
    "for i in range(10, 1, -1) : \n",
    "    print(i)"
   ]
  },
  {
   "cell_type": "markdown",
   "metadata": {},
   "source": [
    "## 문제\n",
    "1. for문을 이용하여 1부터 10까지의 합계 구하시오\n",
    "    - 합계라는 변수를 하나 생성 0을 지정\n",
    "    - for문에서 합계를 증가\n",
    "    - for문이 끝난 후에 합계를 출력\n",
    "2. for문을 이용하여 1부터 50까지의 짝수의 합계 구하시오"
   ]
  },
  {
   "cell_type": "code",
   "execution_count": null,
   "metadata": {},
   "outputs": [],
   "source": [
    "## 1부터 10까지의 합계\n",
    "sum = 0\n",
    "for i in range(1, 11, 1):\n",
    "    sum += i \n",
    "    # sum = sum + i\n",
    "\n",
    "print(\"1부터 10까지의 합은 %d\" %sum)"
   ]
  },
  {
   "cell_type": "code",
   "execution_count": null,
   "metadata": {},
   "outputs": [],
   "source": [
    "# sum = 0 , range(1, 51, 1) 1부터 50까지 반복\n",
    "# 짝수라는 의미는 i % 2 = 0 이면 짝수\n",
    "\n",
    "sum = 0\n",
    "\n",
    "for i in range(1, 51, 1):\n",
    "    if i % 2 == 0 :\n",
    "        sum += i\n",
    "        print(i)\n",
    "\n",
    "print(sum)"
   ]
  },
  {
   "cell_type": "code",
   "execution_count": null,
   "metadata": {},
   "outputs": [],
   "source": []
  }
 ],
 "metadata": {
  "kernelspec": {
   "display_name": "Python 3.6.8 64-bit",
   "language": "python",
   "name": "python3"
  },
  "language_info": {
   "codemirror_mode": {
    "name": "ipython",
    "version": 3
   },
   "file_extension": ".py",
   "mimetype": "text/x-python",
   "name": "python",
   "nbconvert_exporter": "python",
   "pygments_lexer": "ipython3",
   "version": "3.6.8"
  },
  "orig_nbformat": 4,
  "vscode": {
   "interpreter": {
    "hash": "187f19b7e1a6c9dce315ccb3b0d07c5b7aeed6681cd1ee8ee772db2198b62651"
   }
  }
 },
 "nbformat": 4,
 "nbformat_minor": 2
}
