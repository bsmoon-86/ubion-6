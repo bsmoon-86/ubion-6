{
 "cells": [
  {
   "cell_type": "markdown",
   "metadata": {},
   "source": [
    "### 변수"
   ]
  },
  {
   "cell_type": "code",
   "execution_count": null,
   "metadata": {},
   "outputs": [],
   "source": [
    "a = 10\n",
    "b = \"Hello World\"\n",
    "print(a)\n",
    "print(b)\n",
    "print(type(a))\n",
    "print(type(b))"
   ]
  },
  {
   "cell_type": "code",
   "execution_count": null,
   "metadata": {},
   "outputs": [],
   "source": [
    "c = \"10\"\n",
    "print(c)\n",
    "print(type(c))"
   ]
  },
  {
   "cell_type": "markdown",
   "metadata": {},
   "source": [
    "### 연산자 \n",
    "1. 대입연산자\n",
    "2. 비교연산자"
   ]
  },
  {
   "cell_type": "code",
   "execution_count": null,
   "metadata": {},
   "outputs": [],
   "source": [
    "# 주석 \n",
    "# 언어로써 실행X \n",
    "# 설명 부분\n",
    "## 산술연산자\n",
    "x = 5\n",
    "y = 3\n",
    "print(x+y, x-y, x*y, x/y, x//y, x%y, x**y)"
   ]
  },
  {
   "cell_type": "code",
   "execution_count": null,
   "metadata": {},
   "outputs": [],
   "source": [
    "## 대입연산자 \n",
    "## +=, -=, *=, .....\n",
    "## a += 1 -> a = a + 1\n",
    "## x의 값은 ? 5\n",
    "## x += 1의 값은 ? x가 6\n",
    "x += 1\n",
    "print(x)"
   ]
  },
  {
   "cell_type": "code",
   "execution_count": null,
   "metadata": {},
   "outputs": [],
   "source": [
    "print(x + 1)"
   ]
  },
  {
   "cell_type": "code",
   "execution_count": null,
   "metadata": {},
   "outputs": [],
   "source": [
    "## 현재 x의 값은 ? 19\n",
    "x -= 3\n",
    "print(x)\n",
    "## 결과값은 ? 16"
   ]
  },
  {
   "cell_type": "code",
   "execution_count": null,
   "metadata": {},
   "outputs": [],
   "source": [
    "## 비교 연산자\n",
    "## 결과값이 논리값 -> True, False\n",
    "a = 5\n",
    "b = 3\n",
    "print(a == b, a != b, a > b, a < b, a >= b, a <= b)\n",
    "## 결과값은 ? False, True, True, False, True, False"
   ]
  },
  {
   "cell_type": "code",
   "execution_count": null,
   "metadata": {},
   "outputs": [],
   "source": [
    "## and, or, not \n",
    "## and -> 두 조건식이 참인 경우에만 참, 그 외에는 거짓\n",
    "## or -> 두 조건식 중에 하나만 참이면 참, 두 조건식이 모두 거짓인 경우 거짓\n",
    "## not -> 참인 경우에는 거짓, 거짓인 경우에는 참\n",
    "print( (a > 3) and (a < 10) ) ## 참, 참 and 결과값은 ? True\n",
    "print( (a < 3) and (a < 10) ) ## 거짓, 참 and 결과값은 ? False"
   ]
  },
  {
   "cell_type": "code",
   "execution_count": null,
   "metadata": {},
   "outputs": [],
   "source": [
    "print( (a < 3) or (a < 10) ) ## 거짓, 참 or 결과값은 ? True\n",
    "print( (a > 3) or (a < 10) ) ## 참, 참 or 결과값은 ? True"
   ]
  },
  {
   "cell_type": "code",
   "execution_count": null,
   "metadata": {},
   "outputs": [],
   "source": [
    "not(False) ## not은 부정 -> 반대로 출력 False -> True"
   ]
  },
  {
   "cell_type": "markdown",
   "metadata": {},
   "source": [
    "### if 문\n",
    "1. 조건식이 참인 경우에 코드가 실행\n",
    "2. 조건식이 거짓인 경우에는 코드가 실행이 되지 않는다. \n",
    "3. 거짓인 경우 코드를 실행하려면 else 구문을 적어줘야한다. "
   ]
  },
  {
   "cell_type": "code",
   "execution_count": null,
   "metadata": {},
   "outputs": [],
   "source": [
    "a = 5\n",
    "\n",
    "## 조건식이 참? 거짓 ? -> 참 print(\"a는 10보다 작다\")  실행\n",
    "if a < 10:\n",
    "    print(\"a는 10보다 작다\")\n",
    "\n",
    "## 프로그램 종료라는 print 함수는 실행 유무? \n",
    "print(\"프로그램 종료\")"
   ]
  },
  {
   "cell_type": "code",
   "execution_count": null,
   "metadata": {},
   "outputs": [],
   "source": [
    "a = 15\n",
    "\n",
    "if a < 10 :\n",
    "    print(\"a는 10보다 작다\")\n",
    "else :\n",
    "    print(\"a는 10보다 크거나 같다\")\n",
    "\n",
    "print(\"프로그램 종료\")\n",
    "\n",
    "##이 코드 실행 결과 ? \n",
    "# \"a는 10보다 크거나 같다\"\n",
    "# \"프로그램 종료\""
   ]
  },
  {
   "cell_type": "code",
   "execution_count": null,
   "metadata": {},
   "outputs": [],
   "source": [
    "score = int(input(\"점수를 입력하시오 : \"))\n",
    "\n",
    "if score >= 90 :\n",
    "    print(\"A학점\")\n",
    "elif score >= 80 :\n",
    "    print(\"B학점\")\n",
    "elif score >= 70 :\n",
    "    print(\"C학점\")\n",
    "else : \n",
    "    print(\"F학점\")\n",
    "\n",
    "print(\"프로그램 종료\")"
   ]
  },
  {
   "cell_type": "markdown",
   "metadata": {},
   "source": [
    "### 반복문 \n",
    "1. for문\n",
    "2. while문"
   ]
  },
  {
   "cell_type": "code",
   "execution_count": null,
   "metadata": {},
   "outputs": [],
   "source": [
    "## for문\n",
    "for i in range(0, 5, 1) :\n",
    "    print(i)\n",
    "    \n",
    "print(\"반복문 종료\")"
   ]
  },
  {
   "cell_type": "code",
   "execution_count": null,
   "metadata": {},
   "outputs": [],
   "source": [
    "for i in range(5) :\n",
    "    print(i)"
   ]
  },
  {
   "cell_type": "code",
   "execution_count": null,
   "metadata": {},
   "outputs": [],
   "source": [
    "for i in range(2, 20, 2) : \n",
    "    print(i)"
   ]
  },
  {
   "cell_type": "code",
   "execution_count": null,
   "metadata": {},
   "outputs": [],
   "source": [
    "for i in range(10, 1, -1) : \n",
    "    print(i)"
   ]
  },
  {
   "cell_type": "markdown",
   "metadata": {},
   "source": [
    "## 문제\n",
    "1. for문을 이용하여 1부터 10까지의 합계 구하시오\n",
    "    - 합계라는 변수를 하나 생성 0을 지정\n",
    "    - for문에서 합계를 증가\n",
    "    - for문이 끝난 후에 합계를 출력\n",
    "2. for문을 이용하여 1부터 50까지의 짝수의 합계 구하시오"
   ]
  },
  {
   "cell_type": "code",
   "execution_count": null,
   "metadata": {},
   "outputs": [],
   "source": [
    "## 1부터 10까지의 합계\n",
    "sum = 0\n",
    "for i in range(1, 11, 1):\n",
    "    sum += i \n",
    "    # sum = sum + i\n",
    "\n",
    "print(\"1부터 10까지의 합은 %d\" %sum)"
   ]
  },
  {
   "cell_type": "code",
   "execution_count": null,
   "metadata": {},
   "outputs": [],
   "source": [
    "# sum = 0 , range(1, 51, 1) 1부터 50까지 반복\n",
    "# 짝수라는 의미는 i % 2 = 0 이면 짝수\n",
    "\n",
    "sum = 0\n",
    "\n",
    "for i in range(1, 51, 1):\n",
    "    if i % 2 == 0 :\n",
    "        sum += i\n",
    "        print(i)\n",
    "\n",
    "print(sum)"
   ]
  },
  {
   "cell_type": "markdown",
   "metadata": {},
   "source": [
    "### 문제\n",
    "1. 주사위 2개의 합이 10인 경우의 수를 출력하시오.\n",
    "    - 다중 for문을 이용\n",
    "    ```python\n",
    "    for i in range():\n",
    "        for j in range():\n",
    "            두 주사위의 합이 10인 경우에만 출력\n",
    "    ```"
   ]
  },
  {
   "cell_type": "code",
   "execution_count": null,
   "metadata": {},
   "outputs": [],
   "source": [
    "## 주사위 2개 (경우의 수는 총 36개)\n",
    "for i in range(1, 7, 1):\n",
    "    for j in range(1, 7, 1):\n",
    "        if i + j == 10:\n",
    "            print(i, j)"
   ]
  },
  {
   "cell_type": "code",
   "execution_count": null,
   "metadata": {},
   "outputs": [],
   "source": [
    "## while문\n",
    "## 변수 = 초기값\n",
    "## while 조건식:\n",
    "##  반복실행될 코드 \n",
    "##  초기값에 증감식\n",
    "i = 0 \n",
    "while i < 10 :\n",
    "    print(i)\n",
    "    ## 이 상태에서 실행을 할 경우 ? -> 무한 반복 이유는 i 값이 변하지 않기 때문에\n",
    "    i += 1\n"
   ]
  },
  {
   "cell_type": "code",
   "execution_count": null,
   "metadata": {},
   "outputs": [],
   "source": [
    "i = 0\n",
    "\n",
    "while i < 10:\n",
    "    i += 1\n",
    "    print(i)"
   ]
  },
  {
   "cell_type": "code",
   "execution_count": null,
   "metadata": {},
   "outputs": [],
   "source": [
    "## break문\n",
    "for i in range(1, 100, 1):\n",
    "    if i == 7:\n",
    "        break\n",
    "    print(i)"
   ]
  },
  {
   "cell_type": "code",
   "execution_count": null,
   "metadata": {},
   "outputs": [],
   "source": [
    "for i in range(1, 100, 1):\n",
    "    print(i)\n",
    "    if i == 7:\n",
    "        break\n"
   ]
  },
  {
   "cell_type": "markdown",
   "metadata": {},
   "source": [
    "### 1에서 1000까지의 합을 구하는데 합계가 900이 넘어가는 최초의 숫자는 무엇인가?\n",
    "1. 합계라는 변수를 하나 지정 0을 대입\n",
    "2. for, while문을 이용하여 1부터 1000까지의 합계를 구하는 반복문 생성\n",
    "3. 합계가 900이 넘어가는 지점에 i의 값을 출력\n",
    "4. i값을 출력한 후에는 반복문을 종료"
   ]
  },
  {
   "cell_type": "code",
   "execution_count": null,
   "metadata": {},
   "outputs": [],
   "source": [
    "## for문\n",
    "sum = 0 \n",
    "for k in range(1, 1001, 1):\n",
    "    sum += k\n",
    "    if sum >= 900 :\n",
    "        print(k)\n",
    "        break\n",
    "print(sum)"
   ]
  },
  {
   "cell_type": "code",
   "execution_count": null,
   "metadata": {},
   "outputs": [],
   "source": [
    "## while문\n",
    "sum = 0 \n",
    "i = 1\n",
    "while i <= 1000 :\n",
    "    sum += i\n",
    "    if sum >= 900 :\n",
    "        print(i)\n",
    "        print(sum)\n",
    "        break\n",
    "    i += 1"
   ]
  },
  {
   "cell_type": "code",
   "execution_count": null,
   "metadata": {},
   "outputs": [],
   "source": [
    "## 튜플 데이터의 형태\n",
    "a = (10, \"test\")\n",
    "b = (3, 3.14)\n",
    "c = a + b\n",
    "d = a * 3\n",
    "\n",
    "print(a, b, c, d)"
   ]
  },
  {
   "cell_type": "code",
   "execution_count": null,
   "metadata": {},
   "outputs": [],
   "source": [
    "# a라는 변수에서 10이라는 원소 값 하나만 출력\n",
    "print(a[0])"
   ]
  },
  {
   "cell_type": "code",
   "execution_count": null,
   "metadata": {},
   "outputs": [],
   "source": [
    "print(a[1][0])"
   ]
  },
  {
   "cell_type": "code",
   "execution_count": null,
   "metadata": {},
   "outputs": [],
   "source": [
    "a = (10, 20, 30, 40)"
   ]
  },
  {
   "cell_type": "code",
   "execution_count": null,
   "metadata": {},
   "outputs": [],
   "source": [
    "## a라는 튜플에서 2번째 원소부터 4번째 원소까지 출력하려면?\n",
    "print(a[1:5])\n",
    "print(a[1:])"
   ]
  },
  {
   "cell_type": "code",
   "execution_count": null,
   "metadata": {},
   "outputs": [],
   "source": [
    "## a 튜플에서 처음부터 3번째 원소까지 출력?\n",
    "print(a[:3])\n",
    "print(a[0:3])"
   ]
  },
  {
   "cell_type": "code",
   "execution_count": null,
   "metadata": {},
   "outputs": [],
   "source": [
    "## 리스트 형태\n",
    "a = [20, 10, 90, 5]\n",
    "b = [10, 20, 30, 40]"
   ]
  },
  {
   "cell_type": "code",
   "execution_count": null,
   "metadata": {},
   "outputs": [],
   "source": [
    "print(a)\n",
    "print(b)"
   ]
  },
  {
   "cell_type": "code",
   "execution_count": null,
   "metadata": {},
   "outputs": [],
   "source": [
    "## 리스트에 있는 내장함수\n",
    "## sort() -> 리스트 내부의 원소들을 오름차순으로 정렬\n",
    "a.sort()\n",
    "print(a)"
   ]
  },
  {
   "cell_type": "code",
   "execution_count": null,
   "metadata": {},
   "outputs": [],
   "source": [
    "## 역순으로 변경 -> reverse()\n",
    "b.reverse()\n",
    "print(b)"
   ]
  },
  {
   "cell_type": "code",
   "execution_count": null,
   "metadata": {},
   "outputs": [],
   "source": [
    "## append() -> 리스트 가장 마지막에 원소 추가\n",
    "a.append(22)\n",
    "print(a)"
   ]
  },
  {
   "cell_type": "code",
   "execution_count": null,
   "metadata": {},
   "outputs": [],
   "source": [
    "l = []\n",
    "print(l)\n",
    "l.append(1)\n",
    "print(l)"
   ]
  },
  {
   "cell_type": "markdown",
   "metadata": {},
   "source": [
    "### 1부터 70까지 숫자중에 3의 배수를 리스트로 만들어서 출력"
   ]
  },
  {
   "cell_type": "code",
   "execution_count": null,
   "metadata": {},
   "outputs": [],
   "source": [
    "## 비어있는 리스트 하나 생성\n",
    "a = []\n",
    "## 1부터 70까지 숫자들을 반복\n",
    "for i in range(1, 71, 1):\n",
    "    ## 반복하는 숫자들 중에 3의 배수인 경우\n",
    "    ## i % 3 == 0 인 경우\n",
    "    if i % 3 == 0:\n",
    "        a.append(i)\n",
    "\n",
    "print(a)"
   ]
  },
  {
   "cell_type": "code",
   "execution_count": null,
   "metadata": {},
   "outputs": [],
   "source": [
    "a = []\n",
    "i = 1 \n",
    "while i <= 70:\n",
    "    if i % 3 == 0:\n",
    "        a.append(i)\n",
    "    i += 1\n",
    "print(a)"
   ]
  },
  {
   "cell_type": "code",
   "execution_count": null,
   "metadata": {},
   "outputs": [],
   "source": [
    "## 딕셔너리 데이터 형태\n",
    "## 사전형 데이터 \n",
    "## {key : value}\n",
    "dict = {\"name\" : \"test\", \"age\" : 20, \"phone\" : \"01012345678\"}\n",
    "print(dict)"
   ]
  },
  {
   "cell_type": "code",
   "execution_count": null,
   "metadata": {},
   "outputs": [],
   "source": [
    "## test 단어를 출력하려면\n",
    "print(dict[\"name\"])"
   ]
  },
  {
   "cell_type": "code",
   "execution_count": null,
   "metadata": {},
   "outputs": [],
   "source": [
    "## key:value를 추가 \n",
    "## \"area\" : \"seoul\"이 값을 추가\n",
    "dict[\"area\"] = \"seoul\"\n",
    "print(dict)\n"
   ]
  },
  {
   "cell_type": "code",
   "execution_count": null,
   "metadata": {},
   "outputs": [],
   "source": [
    "## age라는 키값의 value를 30으로 변경하려면?\n",
    "dict[\"age\"] = 30\n",
    "print(dict)"
   ]
  },
  {
   "cell_type": "code",
   "execution_count": null,
   "metadata": {},
   "outputs": [],
   "source": [
    "## sql -> Database에서 데이터를 가지고올때 데이터의 형태\n",
    "## [{key1 : value1, key2 : value2}, {key1 : value3, key2 : value4}, ...]\n",
    "test_data = [\n",
    "    {\n",
    "        \"name\" : \"test\", \n",
    "        \"age\" : 20\n",
    "    }, \n",
    "    {\n",
    "        \"name\" : \"test2\", \n",
    "        \"age\" : 30\n",
    "    }, \n",
    "    {\n",
    "        \"name\" : \"test3\", \n",
    "        \"age\" : 35\n",
    "    }\n",
    "]"
   ]
  },
  {
   "cell_type": "code",
   "execution_count": null,
   "metadata": {},
   "outputs": [],
   "source": [
    "## test_data 라는 변수에서 {\"name\" : \"test\", \"age\" : 20}인 값을 출력하려면?\n",
    "print(test_data[0])"
   ]
  },
  {
   "cell_type": "code",
   "execution_count": null,
   "metadata": {},
   "outputs": [],
   "source": [
    "## test_data에서 \"test\"라는 문자열을 출력하려면?\n",
    "print(test_data[0][\"name\"])"
   ]
  },
  {
   "cell_type": "code",
   "execution_count": null,
   "metadata": {},
   "outputs": [],
   "source": [
    "## test_data에서 30이라는 숫자를 출력하려면? \n",
    "print(test_data[1][\"age\"])"
   ]
  },
  {
   "cell_type": "markdown",
   "metadata": {},
   "source": [
    "### test_data에서 나이 20, 30, 35 이 데이터를 추출해서 리스트의 형태로 출력\n",
    "0. 비어있는 리스트 생성\n",
    "1. test_data에서 각 원소별로 총 3번 반복\n",
    "2. age의 value를 추출해서 비어있는 리스트에 추가\n",
    "3. 리스트를 출력"
   ]
  },
  {
   "cell_type": "code",
   "execution_count": null,
   "metadata": {},
   "outputs": [],
   "source": [
    "## 비어있는 리스트 생성\n",
    "result = []\n",
    "## test_data에서 각 원소별 총 3번 반복 하나씩 추출\n",
    "for i in range(0, 3, 1):\n",
    "    # print(test_data[i][\"age\"])\n",
    "    result.append(test_data[i][\"age\"])\n",
    "print(result)"
   ]
  },
  {
   "cell_type": "code",
   "execution_count": null,
   "metadata": {},
   "outputs": [],
   "source": [
    "test = [10, 20, 6]\n",
    "\n",
    "for i in test:\n",
    "    print(i)"
   ]
  },
  {
   "cell_type": "code",
   "execution_count": 92,
   "metadata": {},
   "outputs": [
    {
     "data": {
      "text/plain": [
       "3"
      ]
     },
     "execution_count": 92,
     "metadata": {},
     "output_type": "execute_result"
    }
   ],
   "source": [
    "## len() 함수는 길이는 출력\n",
    "len(test)"
   ]
  },
  {
   "cell_type": "code",
   "execution_count": 93,
   "metadata": {},
   "outputs": [
    {
     "name": "stdout",
     "output_type": "stream",
     "text": [
      "10\n",
      "20\n",
      "6\n"
     ]
    }
   ],
   "source": [
    "for i in range(0, len(test), 1):\n",
    "    print(test[i])"
   ]
  },
  {
   "cell_type": "code",
   "execution_count": 96,
   "metadata": {},
   "outputs": [
    {
     "name": "stdout",
     "output_type": "stream",
     "text": [
      "[20, 30, 35]\n"
     ]
    }
   ],
   "source": [
    "## test_data의 데이터의 형태 -> 리스트 []\n",
    "result = []\n",
    "for i in test_data :\n",
    "    # print(i[\"age\"])\n",
    "    result.append(i[\"age\"])\n",
    "print(result)"
   ]
  },
  {
   "cell_type": "markdown",
   "metadata": {},
   "source": [
    "### 문자열 함수"
   ]
  },
  {
   "cell_type": "code",
   "execution_count": 97,
   "metadata": {},
   "outputs": [
    {
     "name": "stdout",
     "output_type": "stream",
     "text": [
      "HELLO WORLD\n",
      "hello world\n",
      "Hello World\n"
     ]
    }
   ],
   "source": [
    "## 대 소문자 변경\n",
    "a = \"Hello world\"\n",
    "print(a.upper())\n",
    "print(a.lower())\n",
    "print(a.title())"
   ]
  },
  {
   "cell_type": "code",
   "execution_count": 99,
   "metadata": {},
   "outputs": [
    {
     "data": {
      "text/plain": [
       "'   Hello world   '"
      ]
     },
     "execution_count": 99,
     "metadata": {},
     "output_type": "execute_result"
    }
   ],
   "source": [
    "## 공백을 제거하는 함수 \n",
    "## strip()\n",
    "## replace()\n",
    "a = \"   Hello world   \"\n",
    "a"
   ]
  },
  {
   "cell_type": "code",
   "execution_count": 100,
   "metadata": {},
   "outputs": [
    {
     "data": {
      "text/plain": [
       "'Hello world   '"
      ]
     },
     "execution_count": 100,
     "metadata": {},
     "output_type": "execute_result"
    }
   ],
   "source": [
    "a.lstrip()"
   ]
  },
  {
   "cell_type": "code",
   "execution_count": 101,
   "metadata": {},
   "outputs": [
    {
     "data": {
      "text/plain": [
       "'   Hello world'"
      ]
     },
     "execution_count": 101,
     "metadata": {},
     "output_type": "execute_result"
    }
   ],
   "source": [
    "a.rstrip()"
   ]
  },
  {
   "cell_type": "code",
   "execution_count": 102,
   "metadata": {},
   "outputs": [
    {
     "data": {
      "text/plain": [
       "'Hello world'"
      ]
     },
     "execution_count": 102,
     "metadata": {},
     "output_type": "execute_result"
    }
   ],
   "source": [
    "a.strip()"
   ]
  },
  {
   "cell_type": "code",
   "execution_count": 103,
   "metadata": {},
   "outputs": [
    {
     "data": {
      "text/plain": [
       "'Helloworld'"
      ]
     },
     "execution_count": 103,
     "metadata": {},
     "output_type": "execute_result"
    }
   ],
   "source": [
    "a.replace(\" \", \"\")"
   ]
  },
  {
   "cell_type": "code",
   "execution_count": 104,
   "metadata": {},
   "outputs": [
    {
     "data": {
      "text/plain": [
       "'   Hi world   '"
      ]
     },
     "execution_count": 104,
     "metadata": {},
     "output_type": "execute_result"
    }
   ],
   "source": [
    "a.replace(\"Hello\", \"Hi\")"
   ]
  },
  {
   "cell_type": "code",
   "execution_count": 107,
   "metadata": {},
   "outputs": [
    {
     "name": "stdout",
     "output_type": "stream",
     "text": [
      "['a', 'b', 'c', 'd']\n",
      "c\n",
      "c\n"
     ]
    }
   ],
   "source": [
    "## split() -> 기준이 되는 문자열이나 특수문자를 기준으로 문자열을 나눠주는 역할\n",
    "x = \"a,b,c,d\"\n",
    "print(x.split(\",\"))\n",
    "## c 라는 문자열을 출력하려면?\n",
    "# case1(split을 사용하지 않는 경우)\n",
    "print(x[4])\n",
    "# case2(split을 사용하는 경우)\n",
    "print(x.split(\",\")[2])"
   ]
  },
  {
   "cell_type": "markdown",
   "metadata": {},
   "source": [
    "### 함수"
   ]
  },
  {
   "cell_type": "code",
   "execution_count": 110,
   "metadata": {},
   "outputs": [
    {
     "name": "stdout",
     "output_type": "stream",
     "text": [
      "8\n",
      "4\n",
      "12\n"
     ]
    }
   ],
   "source": [
    "## 함수 -> 데이터를 일반적인 저장 방식, 뭔가 행동을 하고 난 뒤에 결과값 돌려주는\n",
    "## def 함수명 (매개변수):\n",
    "\n",
    "def func_1(a, b):\n",
    "    result = a + b\n",
    "    return result\n",
    "\n",
    "c = func_1(5, 3)\n",
    "print(c)\n",
    "print(func_1(1,3))\n",
    "print(func_1(10,2))\n"
   ]
  },
  {
   "cell_type": "markdown",
   "metadata": {},
   "source": [
    "### 변수의 종류\n",
    "1. 전역 변수\n",
    "    - 어디서든 사용이 가능한 변수\n",
    "    - 들여쓰기를 하지 않은 공간에서 지정한 변수\n",
    "2. 지역 변수\n",
    "    - 특정한 구간에서만 사용이 가능한 변수\n",
    "    - 함수 안에서 만든 변수(들여쓰기를 한 곳에서 지정한 변수)"
   ]
  },
  {
   "cell_type": "code",
   "execution_count": 115,
   "metadata": {},
   "outputs": [
    {
     "name": "stdout",
     "output_type": "stream",
     "text": [
      "3\n",
      "12\n"
     ]
    }
   ],
   "source": [
    "x = 3\n",
    "\n",
    "def func_2(a):\n",
    "    result = a * x\n",
    "    return result\n",
    "\n",
    "print(x)\n",
    "print(func_2(4))"
   ]
  },
  {
   "cell_type": "code",
   "execution_count": 117,
   "metadata": {},
   "outputs": [
    {
     "name": "stdout",
     "output_type": "stream",
     "text": [
      "12\n"
     ]
    }
   ],
   "source": [
    "def func_3(a):\n",
    "    func_3_y = 3\n",
    "    func_3_result = a * func_3_y    \n",
    "    return func_3_result\n",
    "\n",
    "print(func_3(4))"
   ]
  },
  {
   "cell_type": "code",
   "execution_count": 123,
   "metadata": {},
   "outputs": [
    {
     "name": "stdout",
     "output_type": "stream",
     "text": [
      "74-1\n"
     ]
    }
   ],
   "source": [
    "def func_4(a, b, c = 1) :\n",
    "    result = a + b - c\n",
    "    return result\n",
    "\n",
    "print(func_4(5,3), end=\"\")\n",
    "print(func_4(5,3,4), end=\"\")\n",
    "print(func_4(b = 3, c = 5, a = 1))"
   ]
  },
  {
   "cell_type": "markdown",
   "metadata": {},
   "source": [
    "### 함수 생성 문제\n",
    "1. 함수 생성 매개변수 3개 a,b,c\n",
    "2. c의 값이 '합'이면 result = a+b\n",
    "3. c의 값이 '차'이면 result = a-b\n",
    "4. 그 외의 값이면 result = 'Error'\n",
    "5. return result\n",
    "6. print(함수명(3개의 인자값))\n",
    "7. 합과 차 그리고 Error 출력"
   ]
  },
  {
   "cell_type": "code",
   "execution_count": 124,
   "metadata": {},
   "outputs": [
    {
     "name": "stdout",
     "output_type": "stream",
     "text": [
      "3\n",
      "-1\n",
      "Error\n"
     ]
    }
   ],
   "source": [
    "def func_5(a,b,c):\n",
    "    if c == \"합\":\n",
    "        result = a + b\n",
    "    elif c == \"차\":\n",
    "        result = a - b\n",
    "    else : \n",
    "        result = \"Error\"\n",
    "    return result\n",
    "print(func_5(1,2,\"합\"))\n",
    "print(func_5(1,2,\"차\"))\n",
    "print(func_5(1,2,\"곱\"))"
   ]
  },
  {
   "cell_type": "markdown",
   "metadata": {},
   "source": [
    "### 함수 생성\n",
    "1. 매개변수(a,b) 2개를 가진 함수 생성 (매개변수에는 숫자형만 넣어서 실행)\n",
    "2. a와 b 사이에 숫자들의 합계를 return (a와 b가 모두 포함되어 있는 경우)\n",
    "3. a와 b 사이에는 대소관계는 정해져있지 않다. (a<b, a>b, a==b)\n",
    "4. a와 b가 같은 경우에는 a를 return\n",
    "4. print(func_6(1, 10)) -> 55\n",
    "5. print(func_6(10, 1)) -> 55"
   ]
  },
  {
   "cell_type": "code",
   "execution_count": 127,
   "metadata": {},
   "outputs": [
    {
     "name": "stdout",
     "output_type": "stream",
     "text": [
      "55\n",
      "55\n"
     ]
    }
   ],
   "source": [
    "def func_6(a, b):\n",
    "    sum = 0\n",
    "    if a < b :\n",
    "        for i in range(a, b+1, 1):\n",
    "            sum += i\n",
    "    elif a > b :\n",
    "        for i in range(b, a+1, 1):\n",
    "            sum += i\n",
    "    else : \n",
    "        sum = a\n",
    "    return sum\n",
    "print(func_6(1, 10))\n",
    "print(func_6(10, 1))"
   ]
  },
  {
   "cell_type": "code",
   "execution_count": 130,
   "metadata": {},
   "outputs": [
    {
     "name": "stdout",
     "output_type": "stream",
     "text": [
      "55\n",
      "55\n"
     ]
    }
   ],
   "source": [
    "def func_7(a, b):\n",
    "    sum = 0 \n",
    "    for i in range(min(a, b), max(a, b)+1, 1):\n",
    "        sum += i\n",
    "    return sum\n",
    "\n",
    "print(func_7(1, 10))\n",
    "print(func_7(10, 1))"
   ]
  },
  {
   "cell_type": "code",
   "execution_count": 131,
   "metadata": {},
   "outputs": [
    {
     "name": "stdout",
     "output_type": "stream",
     "text": [
      "55\n",
      "55\n"
     ]
    }
   ],
   "source": [
    "def func_8(a, b):\n",
    "    sum = 0\n",
    "    if a < b :\n",
    "        while a <= b:\n",
    "            sum += a\n",
    "            a += 1\n",
    "    elif a > b : \n",
    "        while b <= a:\n",
    "            sum += b\n",
    "            b += 1\n",
    "    else : \n",
    "        sum = a\n",
    "    return sum\n",
    "print(func_8(1, 10))\n",
    "print(func_8(10, 1))"
   ]
  },
  {
   "cell_type": "markdown",
   "metadata": {},
   "source": []
  }
 ],
 "metadata": {
  "kernelspec": {
   "display_name": "Python 3.6.8 64-bit",
   "language": "python",
   "name": "python3"
  },
  "language_info": {
   "codemirror_mode": {
    "name": "ipython",
    "version": 3
   },
   "file_extension": ".py",
   "mimetype": "text/x-python",
   "name": "python",
   "nbconvert_exporter": "python",
   "pygments_lexer": "ipython3",
   "version": "3.6.8"
  },
  "orig_nbformat": 4,
  "vscode": {
   "interpreter": {
    "hash": "187f19b7e1a6c9dce315ccb3b0d07c5b7aeed6681cd1ee8ee772db2198b62651"
   }
  }
 },
 "nbformat": 4,
 "nbformat_minor": 2
}
