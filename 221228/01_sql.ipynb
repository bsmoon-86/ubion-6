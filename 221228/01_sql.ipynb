{
 "cells": [
  {
   "cell_type": "code",
   "execution_count": null,
   "metadata": {},
   "outputs": [],
   "source": [
    "!pip install pymysql"
   ]
  },
  {
   "cell_type": "code",
   "execution_count": null,
   "metadata": {},
   "outputs": [],
   "source": [
    "import mod_sql as ms\n",
    "import pandas as pd"
   ]
  },
  {
   "cell_type": "code",
   "execution_count": 70,
   "metadata": {},
   "outputs": [],
   "source": [
    "## 대면\n",
    "sql_class = ms.Database(\"172.16.12.149\", 'ubion', \"1234\")\n",
    "## 비대면면\n",
    "sql_class_2 = ms.Database(\"darkpreist.iptime.org\", \"ubion\", \"1234\")"
   ]
  },
  {
   "attachments": {},
   "cell_type": "markdown",
   "metadata": {},
   "source": [
    "1. emp라는 변수에 sql에 있는 emp table의 전체 데이터를 데이터프레임으로 저장\n",
    "2. dept라는 변수에 sql에 있는 dept table의 전체 데이터를 데이터프레임으로 저장"
   ]
  },
  {
   "cell_type": "code",
   "execution_count": null,
   "metadata": {},
   "outputs": [],
   "source": [
    "sql = \"\"\"\n",
    "    select \n",
    "    * \n",
    "    from \n",
    "    emp\n",
    "\"\"\"\n",
    "emp = sql_class.executeAll(sql)\n",
    "emp.head()"
   ]
  },
  {
   "cell_type": "code",
   "execution_count": null,
   "metadata": {},
   "outputs": [],
   "source": [
    "sql = \"\"\"\n",
    "    select \n",
    "    * \n",
    "    from \n",
    "    dept\n",
    "\"\"\"\n",
    "dept = sql_class.executeAll(sql)\n",
    "dept"
   ]
  },
  {
   "attachments": {},
   "cell_type": "markdown",
   "metadata": {},
   "source": [
    "## pandas 복습\n",
    "1. 새로운 파생변수 생성 job_code\n",
    "    - salesman은 1, manager는 2, 그 외의 직업은 3\n",
    "    - 컬럼은 EMPNO, ENAME, job_code만 출력"
   ]
  },
  {
   "cell_type": "code",
   "execution_count": null,
   "metadata": {},
   "outputs": [],
   "source": [
    "emp['JOB']\n",
    "\n",
    "## apply, def \n",
    "def change(x):\n",
    "    if x == 'SALESMAN':\n",
    "        return 1\n",
    "    elif x == \"MANAGER\":\n",
    "        return 2\n",
    "    else :\n",
    "        return 3\n",
    "emp['JOB'].apply(change)\n",
    "\n",
    "## apply, lambda\n",
    "\n",
    "emp['JOB'].apply(lambda x : 1 if (x == 'SALESMAN') else \n",
    "    (2 if (x == 'MANAGER') else 3))\n",
    "\n",
    "emp2 = emp.copy()\n",
    "\n",
    "## for문\n",
    "for i in emp2.index:\n",
    "    if emp2.loc[i, 'JOB'] == 'SALESMAN':\n",
    "        emp2.loc[i, 'job_code'] = 1\n",
    "    elif emp2.loc[i, 'JOB'] == 'MANAGER':\n",
    "        emp2.loc[i, 'job_code'] = 2\n",
    "    else :\n",
    "        emp2.loc[i, 'job_code'] = 3\n",
    "emp2[[\"EMPNO\", \"ENAME\", \"job_code\"]]\n"
   ]
  },
  {
   "cell_type": "code",
   "execution_count": null,
   "metadata": {},
   "outputs": [],
   "source": [
    "## 위의 결과를 sql 쿼리문을 이용하여 생성\n",
    "sql = \"\"\"\n",
    "    select \n",
    "    EMPNO, \n",
    "    ENAME, \n",
    "    JOB, \n",
    "    CASE \n",
    "        when JOB = 'SALESMAN'\n",
    "        then 1 \n",
    "        when JOB = 'MANAGER' \n",
    "        then 2\n",
    "        else 3\n",
    "    END as job_code \n",
    "    from \n",
    "    EMP\n",
    "\"\"\"\n",
    "sql_class.executeAll(sql)"
   ]
  },
  {
   "attachments": {},
   "cell_type": "markdown",
   "metadata": {},
   "source": [
    "### pandas 복습 문제\n",
    "1. emp에서 SAL 컬럼의 값이 2000 이상이고 5000 미만인 사원 정보를 출력"
   ]
  },
  {
   "cell_type": "code",
   "execution_count": null,
   "metadata": {},
   "outputs": [],
   "source": [
    "emp[(emp['SAL'] >= 2000) & (emp['SAL'] < 5000)]"
   ]
  },
  {
   "cell_type": "code",
   "execution_count": null,
   "metadata": {},
   "outputs": [],
   "source": [
    "sql = \"\"\"\n",
    "    select \n",
    "    * \n",
    "    from \n",
    "    emp \n",
    "    where \n",
    "    SAL >= 2000 \n",
    "    and \n",
    "    SAL < 5000\n",
    "\"\"\"\n",
    "sql_class.executeAll(sql)"
   ]
  },
  {
   "cell_type": "code",
   "execution_count": null,
   "metadata": {},
   "outputs": [],
   "source": [
    "sql = \"\"\"\n",
    "    select\n",
    "    * \n",
    "    from \n",
    "    emp \n",
    "    where \n",
    "    SAL \n",
    "    between \n",
    "    2000 and 4999\n",
    "\"\"\"\n",
    "sql_class.executeAll(sql)"
   ]
  },
  {
   "attachments": {},
   "cell_type": "markdown",
   "metadata": {},
   "source": [
    "### pandas 복습\n",
    "1. JOB 컬럼의 데이터를 변환 \n",
    "2. 'SALESMAN' 값을 'SALES' 변환"
   ]
  },
  {
   "cell_type": "code",
   "execution_count": null,
   "metadata": {},
   "outputs": [],
   "source": [
    "# case1\n",
    "emp['JOB'].replace('SALESMAN', 'SALES')\n",
    "\n",
    "# case2 \n",
    "emp['JOB'].apply(lambda x : \"SALES\" if (x == 'SALESMAN') else x)"
   ]
  },
  {
   "cell_type": "code",
   "execution_count": null,
   "metadata": {},
   "outputs": [],
   "source": [
    "## sql 쿼리문 버전\n",
    "sql = \"\"\"\n",
    "    select \n",
    "    JOB, \n",
    "    replace(JOB, 'SALESMAN', 'SALES') as JOB_ \n",
    "    from \n",
    "    emp\n",
    "\"\"\"\n",
    "sql_class.executeAll(sql)"
   ]
  },
  {
   "attachments": {},
   "cell_type": "markdown",
   "metadata": {},
   "source": [
    "### pandas\n",
    "1. 2개의 컬럼의 데이터를 하나의 컬럼에 삽입\n",
    "2. emp 데이터에서 ENAME, JOB 두 데이터를 결합\n",
    "3. ENAME_ 컬럼에 ENAME(JOB) 형태로 데이터를 생성 "
   ]
  },
  {
   "cell_type": "code",
   "execution_count": null,
   "metadata": {},
   "outputs": [],
   "source": [
    "emp2 = emp.copy()\n",
    "emp2['ENAME_'] = emp2[\"ENAME\"] + '(' + emp2[\"JOB\"] + ')'\n",
    "emp2['ENAME_']\n",
    "\n",
    "# ENAME(JOB)-> ENAME+ (+ JOB+ )"
   ]
  },
  {
   "cell_type": "code",
   "execution_count": null,
   "metadata": {},
   "outputs": [],
   "source": [
    "## sql 쿼리문 \n",
    "sql = \"\"\"\n",
    "    select \n",
    "    concat(ENAME, '(' ,JOB, ')' ) as ENAME_\n",
    "    from \n",
    "    emp\n",
    "\"\"\"\n",
    "sql_class.executeAll(sql)"
   ]
  },
  {
   "attachments": {},
   "cell_type": "markdown",
   "metadata": {},
   "source": [
    "### pandas \n",
    "1. emp 데이터에서 파생변수 H/L 생성\n",
    "2. SAL이 2000 이상이면 High, 2000 미만이면 Low"
   ]
  },
  {
   "cell_type": "code",
   "execution_count": null,
   "metadata": {},
   "outputs": [],
   "source": [
    "# case1\n",
    "emp['SAL'].apply(lambda x : 'High' if (x >= 2000) else 'Low')\n",
    "\n",
    "# case2 \n",
    "def change(x):\n",
    "    if x >= 2000:\n",
    "        return 'High'\n",
    "    else : \n",
    "        return \"Low\"\n",
    "emp['SAL'].apply(change)\n",
    "\n",
    "# case3\n",
    "emp2 = emp.copy()\n",
    "\n",
    "for i in emp2.index:\n",
    "    if emp2.loc[i, 'SAL'] >= 2000:\n",
    "        emp2.loc[i, 'H/L'] = 'High'\n",
    "    else :\n",
    "        emp2.loc[i, 'H/L'] = 'Low'\n",
    "emp2['H/L']"
   ]
  },
  {
   "cell_type": "code",
   "execution_count": null,
   "metadata": {},
   "outputs": [],
   "source": [
    "## sql 쿼리문\n",
    "sql = \"\"\"\n",
    "    select \n",
    "    SAL, \n",
    "    if(SAL >= 2000, 'High', 'Low') as `H/L` \n",
    "    from \n",
    "    emp\n",
    "\"\"\"\n",
    "sql_class.executeAll(sql)"
   ]
  },
  {
   "cell_type": "code",
   "execution_count": null,
   "metadata": {},
   "outputs": [],
   "source": [
    "sql = \"\"\"\n",
    "    select \n",
    "    SAL, \n",
    "    case \n",
    "        when SAL >= 2000\n",
    "        then 'High'\n",
    "        else 'Low'\n",
    "    end as `H/L`\n",
    "    from \n",
    "    emp\n",
    "\"\"\"\n",
    "sql_class.executeAll(sql)"
   ]
  },
  {
   "cell_type": "code",
   "execution_count": null,
   "metadata": {},
   "outputs": [],
   "source": [
    "sql = \"\"\"\n",
    "    select \n",
    "    SAL, \n",
    "    if(SAL >=2000, 'High', if(SAL >= 1000, 'Mid', 'Low')) as `HML`\n",
    "    from emp\n",
    "\"\"\"\n",
    "sql_class.executeAll(sql)"
   ]
  },
  {
   "attachments": {},
   "cell_type": "markdown",
   "metadata": {},
   "source": [
    "### pandas \n",
    "1. emp와 dept 데이터프레임을 결합 \n",
    "2. 조건은 emp에 있는 deptno, dept에 있는 deptno 가 같은 경우 \n",
    "3. 데이터프레임을 조인 결합"
   ]
  },
  {
   "cell_type": "code",
   "execution_count": null,
   "metadata": {},
   "outputs": [],
   "source": [
    "## 조인결합 -> merge()\n",
    "pd.merge(emp, dept, on='DEPTNO', how='left')"
   ]
  },
  {
   "cell_type": "code",
   "execution_count": null,
   "metadata": {},
   "outputs": [],
   "source": [
    "sql = \"\"\"\n",
    "    select \n",
    "    * \n",
    "    from \n",
    "    emp \n",
    "    left join \n",
    "    dept \n",
    "    on \n",
    "    emp.DEPTNO = dept.DEPTNO\n",
    "\"\"\"\n",
    "sql_class.executeAll(sql)"
   ]
  },
  {
   "attachments": {},
   "cell_type": "markdown",
   "metadata": {},
   "source": [
    "### 이중쿼리문\n",
    "1. 부서의 위치가 'NEW YORK', 'DALLAS' 가 아닌 소속 사원의 정보 출력\n",
    "    - dept 테이블에서 위치가 'NEW YORK', 'DALLAS' 아닌 부서 번호 출력\n",
    "    - emp table에서 위의 결과인 소속 사원 정보 출력"
   ]
  },
  {
   "cell_type": "code",
   "execution_count": 66,
   "metadata": {},
   "outputs": [
    {
     "data": {
      "text/html": [
       "<div>\n",
       "<style scoped>\n",
       "    .dataframe tbody tr th:only-of-type {\n",
       "        vertical-align: middle;\n",
       "    }\n",
       "\n",
       "    .dataframe tbody tr th {\n",
       "        vertical-align: top;\n",
       "    }\n",
       "\n",
       "    .dataframe thead th {\n",
       "        text-align: right;\n",
       "    }\n",
       "</style>\n",
       "<table border=\"1\" class=\"dataframe\">\n",
       "  <thead>\n",
       "    <tr style=\"text-align: right;\">\n",
       "      <th></th>\n",
       "      <th>DEPTNO</th>\n",
       "    </tr>\n",
       "  </thead>\n",
       "  <tbody>\n",
       "    <tr>\n",
       "      <th>0</th>\n",
       "      <td>30.0</td>\n",
       "    </tr>\n",
       "    <tr>\n",
       "      <th>1</th>\n",
       "      <td>40.0</td>\n",
       "    </tr>\n",
       "  </tbody>\n",
       "</table>\n",
       "</div>"
      ],
      "text/plain": [
       "   DEPTNO\n",
       "0    30.0\n",
       "1    40.0"
      ]
     },
     "execution_count": 66,
     "metadata": {},
     "output_type": "execute_result"
    }
   ],
   "source": [
    "sql = \"\"\"\n",
    "    select \n",
    "    DEPTNO \n",
    "    from \n",
    "    dept \n",
    "    where \n",
    "    LOC not in ('NEW YORK', 'DALLAS')\n",
    "\"\"\"\n",
    "sql2 = \"\"\"\n",
    "    select \n",
    "    DEPTNO \n",
    "    from \n",
    "    dept \n",
    "    where \n",
    "    LOC != 'NEW YORK' \n",
    "    and \n",
    "    LOC != 'DALLAS'\n",
    "\"\"\"\n",
    "sql_class.executeAll(sql2)"
   ]
  },
  {
   "cell_type": "code",
   "execution_count": 68,
   "metadata": {},
   "outputs": [
    {
     "data": {
      "text/html": [
       "<div>\n",
       "<style scoped>\n",
       "    .dataframe tbody tr th:only-of-type {\n",
       "        vertical-align: middle;\n",
       "    }\n",
       "\n",
       "    .dataframe tbody tr th {\n",
       "        vertical-align: top;\n",
       "    }\n",
       "\n",
       "    .dataframe thead th {\n",
       "        text-align: right;\n",
       "    }\n",
       "</style>\n",
       "<table border=\"1\" class=\"dataframe\">\n",
       "  <thead>\n",
       "    <tr style=\"text-align: right;\">\n",
       "      <th></th>\n",
       "      <th>EMPNO</th>\n",
       "      <th>ENAME</th>\n",
       "      <th>JOB</th>\n",
       "      <th>MGR</th>\n",
       "      <th>HIREDATE</th>\n",
       "      <th>SAL</th>\n",
       "      <th>COMM</th>\n",
       "      <th>DEPTNO</th>\n",
       "    </tr>\n",
       "  </thead>\n",
       "  <tbody>\n",
       "    <tr>\n",
       "      <th>0</th>\n",
       "      <td>7499.0</td>\n",
       "      <td>ALLEN</td>\n",
       "      <td>SALESMAN</td>\n",
       "      <td>7698.0</td>\n",
       "      <td>1981-02-20</td>\n",
       "      <td>1600.0</td>\n",
       "      <td>300.0</td>\n",
       "      <td>30.0</td>\n",
       "    </tr>\n",
       "    <tr>\n",
       "      <th>1</th>\n",
       "      <td>7521.0</td>\n",
       "      <td>WARD</td>\n",
       "      <td>SALESMAN</td>\n",
       "      <td>7698.0</td>\n",
       "      <td>1981-02-22</td>\n",
       "      <td>1250.0</td>\n",
       "      <td>500.0</td>\n",
       "      <td>30.0</td>\n",
       "    </tr>\n",
       "    <tr>\n",
       "      <th>2</th>\n",
       "      <td>7654.0</td>\n",
       "      <td>MARTIN</td>\n",
       "      <td>SALESMAN</td>\n",
       "      <td>7698.0</td>\n",
       "      <td>1981-09-28</td>\n",
       "      <td>1250.0</td>\n",
       "      <td>1400.0</td>\n",
       "      <td>30.0</td>\n",
       "    </tr>\n",
       "    <tr>\n",
       "      <th>3</th>\n",
       "      <td>7698.0</td>\n",
       "      <td>BLAKE</td>\n",
       "      <td>MANAGER</td>\n",
       "      <td>7839.0</td>\n",
       "      <td>1981-05-01</td>\n",
       "      <td>2850.0</td>\n",
       "      <td>0.0</td>\n",
       "      <td>30.0</td>\n",
       "    </tr>\n",
       "    <tr>\n",
       "      <th>4</th>\n",
       "      <td>7844.0</td>\n",
       "      <td>TURNER</td>\n",
       "      <td>SALESMAN</td>\n",
       "      <td>7698.0</td>\n",
       "      <td>1981-09-08</td>\n",
       "      <td>1500.0</td>\n",
       "      <td>0.0</td>\n",
       "      <td>30.0</td>\n",
       "    </tr>\n",
       "    <tr>\n",
       "      <th>5</th>\n",
       "      <td>7900.0</td>\n",
       "      <td>JAMES</td>\n",
       "      <td>CLERK</td>\n",
       "      <td>7698.0</td>\n",
       "      <td>1981-12-03</td>\n",
       "      <td>950.0</td>\n",
       "      <td>0.0</td>\n",
       "      <td>30.0</td>\n",
       "    </tr>\n",
       "  </tbody>\n",
       "</table>\n",
       "</div>"
      ],
      "text/plain": [
       "    EMPNO   ENAME       JOB     MGR    HIREDATE     SAL    COMM  DEPTNO\n",
       "0  7499.0   ALLEN  SALESMAN  7698.0  1981-02-20  1600.0   300.0    30.0\n",
       "1  7521.0    WARD  SALESMAN  7698.0  1981-02-22  1250.0   500.0    30.0\n",
       "2  7654.0  MARTIN  SALESMAN  7698.0  1981-09-28  1250.0  1400.0    30.0\n",
       "3  7698.0   BLAKE   MANAGER  7839.0  1981-05-01  2850.0     0.0    30.0\n",
       "4  7844.0  TURNER  SALESMAN  7698.0  1981-09-08  1500.0     0.0    30.0\n",
       "5  7900.0   JAMES     CLERK  7698.0  1981-12-03   950.0     0.0    30.0"
      ]
     },
     "execution_count": 68,
     "metadata": {},
     "output_type": "execute_result"
    }
   ],
   "source": [
    "sql = \"\"\"\n",
    "    select \n",
    "    * \n",
    "    from \n",
    "    emp \n",
    "    where \n",
    "    DEPTNO = 30 \n",
    "    or \n",
    "    DEPTNO = 40\n",
    "\"\"\"\n",
    "sql2 = \"\"\"\n",
    "    select \n",
    "    * \n",
    "    from \n",
    "    emp \n",
    "    where \n",
    "    DEPTNO in (30, 40)\n",
    "\"\"\"\n",
    "sql_class.executeAll(sql2)"
   ]
  },
  {
   "cell_type": "code",
   "execution_count": 69,
   "metadata": {},
   "outputs": [
    {
     "data": {
      "text/html": [
       "<div>\n",
       "<style scoped>\n",
       "    .dataframe tbody tr th:only-of-type {\n",
       "        vertical-align: middle;\n",
       "    }\n",
       "\n",
       "    .dataframe tbody tr th {\n",
       "        vertical-align: top;\n",
       "    }\n",
       "\n",
       "    .dataframe thead th {\n",
       "        text-align: right;\n",
       "    }\n",
       "</style>\n",
       "<table border=\"1\" class=\"dataframe\">\n",
       "  <thead>\n",
       "    <tr style=\"text-align: right;\">\n",
       "      <th></th>\n",
       "      <th>EMPNO</th>\n",
       "      <th>ENAME</th>\n",
       "      <th>JOB</th>\n",
       "      <th>MGR</th>\n",
       "      <th>HIREDATE</th>\n",
       "      <th>SAL</th>\n",
       "      <th>COMM</th>\n",
       "      <th>DEPTNO</th>\n",
       "    </tr>\n",
       "  </thead>\n",
       "  <tbody>\n",
       "    <tr>\n",
       "      <th>0</th>\n",
       "      <td>7499.0</td>\n",
       "      <td>ALLEN</td>\n",
       "      <td>SALESMAN</td>\n",
       "      <td>7698.0</td>\n",
       "      <td>1981-02-20</td>\n",
       "      <td>1600.0</td>\n",
       "      <td>300.0</td>\n",
       "      <td>30.0</td>\n",
       "    </tr>\n",
       "    <tr>\n",
       "      <th>1</th>\n",
       "      <td>7521.0</td>\n",
       "      <td>WARD</td>\n",
       "      <td>SALESMAN</td>\n",
       "      <td>7698.0</td>\n",
       "      <td>1981-02-22</td>\n",
       "      <td>1250.0</td>\n",
       "      <td>500.0</td>\n",
       "      <td>30.0</td>\n",
       "    </tr>\n",
       "    <tr>\n",
       "      <th>2</th>\n",
       "      <td>7654.0</td>\n",
       "      <td>MARTIN</td>\n",
       "      <td>SALESMAN</td>\n",
       "      <td>7698.0</td>\n",
       "      <td>1981-09-28</td>\n",
       "      <td>1250.0</td>\n",
       "      <td>1400.0</td>\n",
       "      <td>30.0</td>\n",
       "    </tr>\n",
       "    <tr>\n",
       "      <th>3</th>\n",
       "      <td>7698.0</td>\n",
       "      <td>BLAKE</td>\n",
       "      <td>MANAGER</td>\n",
       "      <td>7839.0</td>\n",
       "      <td>1981-05-01</td>\n",
       "      <td>2850.0</td>\n",
       "      <td>0.0</td>\n",
       "      <td>30.0</td>\n",
       "    </tr>\n",
       "    <tr>\n",
       "      <th>4</th>\n",
       "      <td>7844.0</td>\n",
       "      <td>TURNER</td>\n",
       "      <td>SALESMAN</td>\n",
       "      <td>7698.0</td>\n",
       "      <td>1981-09-08</td>\n",
       "      <td>1500.0</td>\n",
       "      <td>0.0</td>\n",
       "      <td>30.0</td>\n",
       "    </tr>\n",
       "    <tr>\n",
       "      <th>5</th>\n",
       "      <td>7900.0</td>\n",
       "      <td>JAMES</td>\n",
       "      <td>CLERK</td>\n",
       "      <td>7698.0</td>\n",
       "      <td>1981-12-03</td>\n",
       "      <td>950.0</td>\n",
       "      <td>0.0</td>\n",
       "      <td>30.0</td>\n",
       "    </tr>\n",
       "  </tbody>\n",
       "</table>\n",
       "</div>"
      ],
      "text/plain": [
       "    EMPNO   ENAME       JOB     MGR    HIREDATE     SAL    COMM  DEPTNO\n",
       "0  7499.0   ALLEN  SALESMAN  7698.0  1981-02-20  1600.0   300.0    30.0\n",
       "1  7521.0    WARD  SALESMAN  7698.0  1981-02-22  1250.0   500.0    30.0\n",
       "2  7654.0  MARTIN  SALESMAN  7698.0  1981-09-28  1250.0  1400.0    30.0\n",
       "3  7698.0   BLAKE   MANAGER  7839.0  1981-05-01  2850.0     0.0    30.0\n",
       "4  7844.0  TURNER  SALESMAN  7698.0  1981-09-08  1500.0     0.0    30.0\n",
       "5  7900.0   JAMES     CLERK  7698.0  1981-12-03   950.0     0.0    30.0"
      ]
     },
     "execution_count": 69,
     "metadata": {},
     "output_type": "execute_result"
    }
   ],
   "source": [
    "sql = \"\"\"\n",
    "    select * from emp \n",
    "    where DEPTNO in \n",
    "        (select DEPTNO from dept \n",
    "        where \n",
    "        LOC not in ('NEW YORK', 'DALLAS')\n",
    "        )\n",
    "\"\"\"\n",
    "sql_class.executeAll(sql)"
   ]
  },
  {
   "attachments": {},
   "cell_type": "markdown",
   "metadata": {},
   "source": [
    "### pandas \n",
    "1. tran_1, tran_2, tran_d_1, tran_d_2 데이터베이스에서 select문을 이용해서 데이터프레임으로 저장\n",
    "2. tran_1, tran_2 단순한 행 결합(유니언 결합)\n",
    "3. tran_d_1, tran_d_2 단순한 행 결합 (유니언결합)\n",
    "4. tran, tran_d를 특정 조건에 맞게 조인 결합"
   ]
  },
  {
   "cell_type": "code",
   "execution_count": 71,
   "metadata": {},
   "outputs": [],
   "source": [
    "sql = \"\"\"\n",
    "    select \n",
    "    * \n",
    "    from \n",
    "    tran_1\n",
    "\"\"\"\n",
    "tran_1 = sql_class.executeAll(sql)"
   ]
  },
  {
   "cell_type": "code",
   "execution_count": 72,
   "metadata": {},
   "outputs": [],
   "source": [
    "sql = \"\"\"\n",
    "    select \n",
    "    * \n",
    "    from \n",
    "    tran_2\n",
    "\"\"\"\n",
    "tran_2 = sql_class.executeAll(sql)"
   ]
  },
  {
   "cell_type": "code",
   "execution_count": 73,
   "metadata": {},
   "outputs": [],
   "source": [
    "sql = \"\"\"\n",
    "    select \n",
    "    * \n",
    "    from \n",
    "    tran_d_1\n",
    "\"\"\"\n",
    "tran_d_1 = sql_class.executeAll(sql)"
   ]
  },
  {
   "cell_type": "code",
   "execution_count": 74,
   "metadata": {},
   "outputs": [],
   "source": [
    "sql = \"\"\"\n",
    "    select \n",
    "    * \n",
    "    from \n",
    "    tran_d_2\n",
    "\"\"\"\n",
    "tran_d_2 = sql_class.executeAll(sql)"
   ]
  },
  {
   "cell_type": "code",
   "execution_count": 75,
   "metadata": {},
   "outputs": [],
   "source": [
    "tran = pd.concat([tran_1, tran_2])"
   ]
  },
  {
   "cell_type": "code",
   "execution_count": 76,
   "metadata": {},
   "outputs": [],
   "source": [
    "tran_d = pd.concat([tran_d_1, tran_d_2])"
   ]
  },
  {
   "cell_type": "code",
   "execution_count": 77,
   "metadata": {},
   "outputs": [
    {
     "data": {
      "text/html": [
       "<div>\n",
       "<style scoped>\n",
       "    .dataframe tbody tr th:only-of-type {\n",
       "        vertical-align: middle;\n",
       "    }\n",
       "\n",
       "    .dataframe tbody tr th {\n",
       "        vertical-align: top;\n",
       "    }\n",
       "\n",
       "    .dataframe thead th {\n",
       "        text-align: right;\n",
       "    }\n",
       "</style>\n",
       "<table border=\"1\" class=\"dataframe\">\n",
       "  <thead>\n",
       "    <tr style=\"text-align: right;\">\n",
       "      <th></th>\n",
       "      <th>transaction_id</th>\n",
       "      <th>price</th>\n",
       "      <th>payment_date</th>\n",
       "      <th>customer_id</th>\n",
       "    </tr>\n",
       "  </thead>\n",
       "  <tbody>\n",
       "    <tr>\n",
       "      <th>0</th>\n",
       "      <td>T0000000113</td>\n",
       "      <td>210000</td>\n",
       "      <td>2019-02-01 01:36:57</td>\n",
       "      <td>PL563502</td>\n",
       "    </tr>\n",
       "  </tbody>\n",
       "</table>\n",
       "</div>"
      ],
      "text/plain": [
       "  transaction_id   price         payment_date customer_id\n",
       "0    T0000000113  210000  2019-02-01 01:36:57    PL563502"
      ]
     },
     "execution_count": 77,
     "metadata": {},
     "output_type": "execute_result"
    }
   ],
   "source": [
    "tran.head(1)"
   ]
  },
  {
   "cell_type": "code",
   "execution_count": 78,
   "metadata": {},
   "outputs": [
    {
     "data": {
      "text/html": [
       "<div>\n",
       "<style scoped>\n",
       "    .dataframe tbody tr th:only-of-type {\n",
       "        vertical-align: middle;\n",
       "    }\n",
       "\n",
       "    .dataframe tbody tr th {\n",
       "        vertical-align: top;\n",
       "    }\n",
       "\n",
       "    .dataframe thead th {\n",
       "        text-align: right;\n",
       "    }\n",
       "</style>\n",
       "<table border=\"1\" class=\"dataframe\">\n",
       "  <thead>\n",
       "    <tr style=\"text-align: right;\">\n",
       "      <th></th>\n",
       "      <th>detail_id</th>\n",
       "      <th>transaction_id</th>\n",
       "      <th>item_id</th>\n",
       "      <th>quantity</th>\n",
       "    </tr>\n",
       "  </thead>\n",
       "  <tbody>\n",
       "    <tr>\n",
       "      <th>0</th>\n",
       "      <td>0</td>\n",
       "      <td>T0000000113</td>\n",
       "      <td>S005</td>\n",
       "      <td>1</td>\n",
       "    </tr>\n",
       "  </tbody>\n",
       "</table>\n",
       "</div>"
      ],
      "text/plain": [
       "   detail_id transaction_id item_id  quantity\n",
       "0          0    T0000000113    S005         1"
      ]
     },
     "execution_count": 78,
     "metadata": {},
     "output_type": "execute_result"
    }
   ],
   "source": [
    "tran_d.head(1)"
   ]
  },
  {
   "cell_type": "code",
   "execution_count": 79,
   "metadata": {},
   "outputs": [],
   "source": [
    "transaction = pd.merge(tran, tran_d, on='transaction_id', how='left')"
   ]
  },
  {
   "cell_type": "code",
   "execution_count": 80,
   "metadata": {},
   "outputs": [
    {
     "data": {
      "text/html": [
       "<div>\n",
       "<style scoped>\n",
       "    .dataframe tbody tr th:only-of-type {\n",
       "        vertical-align: middle;\n",
       "    }\n",
       "\n",
       "    .dataframe tbody tr th {\n",
       "        vertical-align: top;\n",
       "    }\n",
       "\n",
       "    .dataframe thead th {\n",
       "        text-align: right;\n",
       "    }\n",
       "</style>\n",
       "<table border=\"1\" class=\"dataframe\">\n",
       "  <thead>\n",
       "    <tr style=\"text-align: right;\">\n",
       "      <th></th>\n",
       "      <th>transaction_id</th>\n",
       "      <th>price</th>\n",
       "      <th>payment_date</th>\n",
       "      <th>customer_id</th>\n",
       "      <th>detail_id</th>\n",
       "      <th>item_id</th>\n",
       "      <th>quantity</th>\n",
       "    </tr>\n",
       "  </thead>\n",
       "  <tbody>\n",
       "    <tr>\n",
       "      <th>0</th>\n",
       "      <td>T0000000113</td>\n",
       "      <td>210000</td>\n",
       "      <td>2019-02-01 01:36:57</td>\n",
       "      <td>PL563502</td>\n",
       "      <td>0</td>\n",
       "      <td>S005</td>\n",
       "      <td>1</td>\n",
       "    </tr>\n",
       "  </tbody>\n",
       "</table>\n",
       "</div>"
      ],
      "text/plain": [
       "  transaction_id   price         payment_date customer_id  detail_id item_id  \\\n",
       "0    T0000000113  210000  2019-02-01 01:36:57    PL563502          0    S005   \n",
       "\n",
       "   quantity  \n",
       "0         1  "
      ]
     },
     "execution_count": 80,
     "metadata": {},
     "output_type": "execute_result"
    }
   ],
   "source": [
    "transaction.head(1)"
   ]
  },
  {
   "cell_type": "code",
   "execution_count": null,
   "metadata": {},
   "outputs": [],
   "source": [
    "## sql 쿼리문\n",
    "sql = \"\"\"\n",
    "    select * from tran_1 \n",
    "    union \n",
    "    select * from tran_2\n",
    "\"\"\"\n",
    "sql_class.executeAll(sql)"
   ]
  },
  {
   "cell_type": "code",
   "execution_count": null,
   "metadata": {},
   "outputs": [],
   "source": [
    "sql = \"\"\"\n",
    "    select * from \n",
    "    (select * from tran_1 \n",
    "    union \n",
    "    select * from tran_2) as tran \n",
    "    left join \n",
    "    (select * from tran_d_1 \n",
    "    union \n",
    "    select * from tran_d_2) as tran_d \n",
    "    on \n",
    "    tran.transaction_id = tran_d.transaction_id\n",
    "\"\"\"\n",
    "sql_class.executeAll(sql)"
   ]
  },
  {
   "cell_type": "code",
   "execution_count": null,
   "metadata": {},
   "outputs": [],
   "source": [
    "sql = \"\"\"\n",
    "    select \n",
    "    * \n",
    "    from \n",
    "    tran_1 \n",
    "    left join \n",
    "    tran_d_1\n",
    "    on \n",
    "    tran_1.transaction_id = tran_d_1.transaction_id\n",
    "\"\"\""
   ]
  }
 ],
 "metadata": {
  "kernelspec": {
   "display_name": "Python 3",
   "language": "python",
   "name": "python3"
  },
  "language_info": {
   "codemirror_mode": {
    "name": "ipython",
    "version": 3
   },
   "file_extension": ".py",
   "mimetype": "text/x-python",
   "name": "python",
   "nbconvert_exporter": "python",
   "pygments_lexer": "ipython3",
   "version": "3.11.1"
  },
  "orig_nbformat": 4,
  "vscode": {
   "interpreter": {
    "hash": "9b5f1854d503dd71c3856bf3749ce047b3ad1e5d370827a8e1d34b45663952a6"
   }
  }
 },
 "nbformat": 4,
 "nbformat_minor": 2
}
