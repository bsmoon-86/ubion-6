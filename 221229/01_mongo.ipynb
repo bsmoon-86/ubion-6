{
 "cells": [
  {
   "cell_type": "code",
   "execution_count": null,
   "metadata": {},
   "outputs": [],
   "source": [
    "## python에서 몽고db를 연결하려면 라이브러리 \n",
    "!pip install pymongo"
   ]
  },
  {
   "cell_type": "code",
   "execution_count": 2,
   "metadata": {},
   "outputs": [],
   "source": [
    "from pymongo import MongoClient"
   ]
  },
  {
   "cell_type": "code",
   "execution_count": 3,
   "metadata": {},
   "outputs": [],
   "source": [
    "client = MongoClient(\n",
    "    host = '172.16.12.149', \n",
    "    port = 27017\n",
    ")"
   ]
  },
  {
   "cell_type": "code",
   "execution_count": 8,
   "metadata": {},
   "outputs": [
    {
     "data": {
      "text/plain": [
       "['admin', 'config', 'local']"
      ]
     },
     "execution_count": 8,
     "metadata": {},
     "output_type": "execute_result"
    }
   ],
   "source": [
    "## mongodb에 있는 데이터베이스 목록 출력 \n",
    "client.list_database_names()"
   ]
  },
  {
   "cell_type": "code",
   "execution_count": 5,
   "metadata": {},
   "outputs": [],
   "source": [
    "## 데이터접근 use와 같은 기능 \n",
    "## mongodb에서는 use을 이용하면 새로운 데이터베이스 생성\n",
    "db = client['ubion']"
   ]
  },
  {
   "cell_type": "code",
   "execution_count": 7,
   "metadata": {},
   "outputs": [],
   "source": [
    "## collection 접근 (collection은 sql에 table과 같은 의미)\n",
    "collection = db['test']"
   ]
  },
  {
   "cell_type": "code",
   "execution_count": 9,
   "metadata": {},
   "outputs": [
    {
     "data": {
      "text/plain": [
       "<pymongo.results.InsertOneResult at 0x12a9d862c80>"
      ]
     },
     "execution_count": 9,
     "metadata": {},
     "output_type": "execute_result"
    }
   ],
   "source": [
    "### CRUD\n",
    "\n",
    "## create -> insert()\n",
    "## insert_many() / insert_one() 두개의 함수가 존재\n",
    "## sql에서도 같은 기능이 존재\n",
    "## insert into 테이블명(필드 지정) values (데이터 값)\n",
    "## insert into 테이블명(필드 지정) value (데이터 값)\n",
    "data = {\n",
    "    \"id\" : \"test\", \n",
    "    \"password\" : \"1234\"\n",
    "}\n",
    "collection.insert_one(data)"
   ]
  },
  {
   "cell_type": "code",
   "execution_count": 10,
   "metadata": {},
   "outputs": [
    {
     "data": {
      "text/plain": [
       "{'_id': ObjectId('63ace0eb4dbe135177252dbc'), 'id': 'test', 'password': '1234'}"
      ]
     },
     "execution_count": 10,
     "metadata": {},
     "output_type": "execute_result"
    }
   ],
   "source": [
    "collection.find_one()"
   ]
  },
  {
   "cell_type": "code",
   "execution_count": 11,
   "metadata": {},
   "outputs": [
    {
     "data": {
      "text/plain": [
       "<pymongo.results.InsertManyResult at 0x12a9e007eb0>"
      ]
     },
     "execution_count": 11,
     "metadata": {},
     "output_type": "execute_result"
    }
   ],
   "source": [
    "data = [\n",
    "    {\n",
    "        \"name\" : \"test\", \n",
    "        \"phone\" : \"01012345678\", \n",
    "        \"gender\" : \"male\"\n",
    "    }, \n",
    "    {\n",
    "        \"loc\" : \"seoul\"\n",
    "    }\n",
    "]\n",
    "collection.insert_many(data)"
   ]
  },
  {
   "attachments": {},
   "cell_type": "markdown",
   "metadata": {},
   "source": [
    "1. sql에서 id, pass 데이터 / name, phone, gender 데이터 / loc 데이터 가 존재한다면 어떤 형식으로 구현\n",
    "2. table을 3개를 생성 \n",
    "3. 각 table에 데이터들을 저장 \n",
    "4. 이유는 sql은 정형화 데이터를 저장하는 방식이기 때문"
   ]
  },
  {
   "cell_type": "code",
   "execution_count": 14,
   "metadata": {},
   "outputs": [
    {
     "data": {
      "text/plain": [
       "[{'_id': ObjectId('63ace0eb4dbe135177252dbc')},\n",
       " {'_id': ObjectId('63ace30b4dbe135177252dbd'), 'name': 'test'},\n",
       " {'_id': ObjectId('63ace30b4dbe135177252dbe')}]"
      ]
     },
     "execution_count": 14,
     "metadata": {},
     "output_type": "execute_result"
    }
   ],
   "source": [
    "list(client['ubion']['test'].find({}, {\"name\" : 1}))\n",
    "### select name from test"
   ]
  },
  {
   "cell_type": "code",
   "execution_count": 15,
   "metadata": {},
   "outputs": [
    {
     "data": {
      "text/plain": [
       "<pymongo.results.UpdateResult at 0x12a9e1952d0>"
      ]
     },
     "execution_count": 15,
     "metadata": {},
     "output_type": "execute_result"
    }
   ],
   "source": [
    "## update 수정 \n",
    "collection.update_one(\n",
    "    {\n",
    "        \"id\" : \"test\"\n",
    "    }, \n",
    "    {\n",
    "        \"$set\" : {\n",
    "            \"password\" : \"0000\"\n",
    "        }\n",
    "    }\n",
    ")"
   ]
  },
  {
   "cell_type": "code",
   "execution_count": 16,
   "metadata": {},
   "outputs": [
    {
     "data": {
      "text/plain": [
       "[{'_id': ObjectId('63ace0eb4dbe135177252dbc'),\n",
       "  'id': 'test',\n",
       "  'password': '0000'},\n",
       " {'_id': ObjectId('63ace30b4dbe135177252dbd'),\n",
       "  'name': 'test',\n",
       "  'phone': '01012345678',\n",
       "  'gender': 'male'},\n",
       " {'_id': ObjectId('63ace30b4dbe135177252dbe'), 'loc': 'seoul'}]"
      ]
     },
     "execution_count": 16,
     "metadata": {},
     "output_type": "execute_result"
    }
   ],
   "source": [
    "list(collection.find())"
   ]
  },
  {
   "cell_type": "code",
   "execution_count": 17,
   "metadata": {},
   "outputs": [
    {
     "data": {
      "text/plain": [
       "<pymongo.results.DeleteResult at 0x12a9d96c220>"
      ]
     },
     "execution_count": 17,
     "metadata": {},
     "output_type": "execute_result"
    }
   ],
   "source": [
    "## 삭제 delete \n",
    "collection.delete_one(\n",
    "    {\n",
    "        \"id\" : \"test\"\n",
    "    }\n",
    ")"
   ]
  },
  {
   "cell_type": "code",
   "execution_count": 18,
   "metadata": {},
   "outputs": [
    {
     "data": {
      "text/plain": [
       "[{'_id': ObjectId('63ace30b4dbe135177252dbd'),\n",
       "  'name': 'test',\n",
       "  'phone': '01012345678',\n",
       "  'gender': 'male'},\n",
       " {'_id': ObjectId('63ace30b4dbe135177252dbe'), 'loc': 'seoul'}]"
      ]
     },
     "execution_count": 18,
     "metadata": {},
     "output_type": "execute_result"
    }
   ],
   "source": [
    "list(collection.find())"
   ]
  },
  {
   "attachments": {},
   "cell_type": "markdown",
   "metadata": {},
   "source": [
    "### mongodb select 조건식\n",
    "find(조건1, 조건2, 조건3 ..., 컬럼 선택)\n",
    "1. db.collection.find() -> SELECT * FROM TABLE\n",
    "2. db.collection.find({}, {\"id\":1, \"password\":1}) -> SELECT _id, id, password FROM TABLE\n",
    "3. db.collection.find({}, {\"id\":1, \"password\":1, \"_id\":0}) -> SELECT id, password FROM TABLE (_id라는 항목은 보여주지 않겠다)\n",
    "4. db.collection.find({\"id\":\"test\"}) -> SELECT * FROM TABLE WHERE id = 'test'\n",
    "5. db.collection.find({\"id\":\"test\", \"password\":\"1234\"}) -> SELECT * FROM TABLE WHERE id = 'test' and password = '1234\n",
    "6. db.collection.find({\"id\":\"test\"}, {\"password\":\"1234\"}) -> SELECT * FROM TABLE WHERE id = 'test' or password = '1234'\n",
    "7. db.collection.find({\"age\":{$gt : 25}}) -> SELECT * FROM TABLE WHERE age > 25\n",
    "8. db.collection.find({\"age\":{$lt : 25}}) -> SELECT * FROM TABLE WHERE age < 25\n",
    "9. db.collection.find({\"id\": {/bc/}}) -> SELECT * FROM TABLE WHERE id LIKE '%bc%'\n",
    "10. db.collection.find().sort({\"id\":1}) -> SELECT * FROM TABLE ORDER BY id ASC \n",
    "11. db.collection.find().sort({\"id\":-1}) -> SELECT * FROM TABLE ORDER BY id DESC \n",
    "12. db.collection.find().limit(10) -> SELECT * FROM TABLE LIMIT 10"
   ]
  },
  {
   "cell_type": "markdown",
   "metadata": {},
   "source": []
  }
 ],
 "metadata": {
  "kernelspec": {
   "display_name": "Python 3",
   "language": "python",
   "name": "python3"
  },
  "language_info": {
   "codemirror_mode": {
    "name": "ipython",
    "version": 3
   },
   "file_extension": ".py",
   "mimetype": "text/x-python",
   "name": "python",
   "nbconvert_exporter": "python",
   "pygments_lexer": "ipython3",
   "version": "3.11.1"
  },
  "orig_nbformat": 4,
  "vscode": {
   "interpreter": {
    "hash": "9b5f1854d503dd71c3856bf3749ce047b3ad1e5d370827a8e1d34b45663952a6"
   }
  }
 },
 "nbformat": 4,
 "nbformat_minor": 2
}
