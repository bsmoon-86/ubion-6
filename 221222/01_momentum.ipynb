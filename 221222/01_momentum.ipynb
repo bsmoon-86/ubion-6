{
 "cells": [
  {
   "cell_type": "code",
   "execution_count": null,
   "metadata": {},
   "outputs": [],
   "source": [
    "import pandas as pd \n",
    "import numpy as np"
   ]
  },
  {
   "attachments": {},
   "cell_type": "markdown",
   "metadata": {},
   "source": [
    "### 절대모멘텀\n",
    "- 파일 로드 \n",
    "- 파생변수 'STD-YM' 생성 -> Date 컬럼의 값을 년-월 추출 대입\n",
    "- 년,월 별 마지막날 month_last_dt 데이터프레임 삽입 \n",
    "- 전월의 종가의 값을 가지는 파생변수 생성\n",
    "- 전년도의 종가의 값을 가지는 파생변수 생성\n",
    "- 전월, 전년도의 종가를 가지고 거래내역 생성\n",
    "- 수익율 계산"
   ]
  },
  {
   "cell_type": "code",
   "execution_count": null,
   "metadata": {},
   "outputs": [],
   "source": [
    "df = pd.read_csv(\"../csv/SPY.csv\")\n",
    "df.head(1)"
   ]
  },
  {
   "cell_type": "code",
   "execution_count": null,
   "metadata": {},
   "outputs": [],
   "source": [
    "## 새로운 파생변수 STD-YM 생성\n",
    "## Date 컬럼을 기준으로 년-월 추출해서 파생변수 대입\n",
    "\n",
    "## Date 컬럼을 데이터형을 datetime 변경 ( pd.to_datetime() )\n",
    "df['Date'] = pd.to_datetime(df['Date'], format='%Y-%m-%d')\n",
    "## STD-YM 컬럼을 만들어서 Date컬럼에서 년(4자리)-월 추출\n",
    "df['STD-YM'] = df['Date'].dt.strftime(\"%Y-%m\")"
   ]
  },
  {
   "cell_type": "code",
   "execution_count": null,
   "metadata": {},
   "outputs": [],
   "source": [
    "month_last_df = pd.DataFrame()\n",
    "\n",
    "month_list = df['STD-YM'].unique()\n",
    "\n",
    "for i in month_list:\n",
    "    last_df = df[df['STD-YM'] == i].tail(1)\n",
    "    month_last_df = pd.concat([month_last_df, last_df])\n",
    "month_last_df.info()"
   ]
  },
  {
   "cell_type": "code",
   "execution_count": null,
   "metadata": {},
   "outputs": [],
   "source": [
    "## 년-월 별 마지막날의 데이터들을 추출 \n",
    "## 새로운 데이터프레임에 결합\n",
    "month_last_df = df[~(df.shift(-1)['STD-YM'] == df['STD-YM'])]\n",
    "month_last_df.info()"
   ]
  },
  {
   "cell_type": "code",
   "execution_count": null,
   "metadata": {},
   "outputs": [],
   "source": [
    "## 'Date' 컬럼을 인덱스 변환\n",
    "month_last_df.set_index(['Date'], inplace=True)"
   ]
  },
  {
   "cell_type": "code",
   "execution_count": null,
   "metadata": {},
   "outputs": [],
   "source": [
    "## month_last_df 파생변수 2개 생성\n",
    "## 'BF_1M' 전월의 종가(Adj Close)의 값\n",
    "## 'BF_12M' 전년도의 종가(Adj Close)의 값\n",
    "## NaN이 나온다면 0으로 대체"
   ]
  },
  {
   "cell_type": "code",
   "execution_count": null,
   "metadata": {},
   "outputs": [],
   "source": []
  }
 ],
 "metadata": {
  "kernelspec": {
   "display_name": "Python 3",
   "language": "python",
   "name": "python3"
  },
  "language_info": {
   "codemirror_mode": {
    "name": "ipython",
    "version": 3
   },
   "file_extension": ".py",
   "mimetype": "text/x-python",
   "name": "python",
   "nbconvert_exporter": "python",
   "pygments_lexer": "ipython3",
   "version": "3.6.8"
  },
  "orig_nbformat": 4,
  "vscode": {
   "interpreter": {
    "hash": "187f19b7e1a6c9dce315ccb3b0d07c5b7aeed6681cd1ee8ee772db2198b62651"
   }
  }
 },
 "nbformat": 4,
 "nbformat_minor": 2
}
