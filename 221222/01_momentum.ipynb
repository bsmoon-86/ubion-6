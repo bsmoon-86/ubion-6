{
 "cells": [
  {
   "cell_type": "code",
   "execution_count": null,
   "metadata": {},
   "outputs": [],
   "source": [
    "import pandas as pd \n",
    "import numpy as np"
   ]
  },
  {
   "attachments": {},
   "cell_type": "markdown",
   "metadata": {},
   "source": [
    "### 절대모멘텀\n",
    "- 파일 로드 \n",
    "- 파생변수 'STD-YM' 생성 -> Date 컬럼의 값을 년-월 추출 대입\n",
    "- 년,월 별 마지막날 month_last_dt 데이터프레임 삽입 \n",
    "- 전월의 종가의 값을 가지는 파생변수 생성\n",
    "- 전년도의 종가의 값을 가지는 파생변수 생성\n",
    "- 전월, 전년도의 종가를 가지고 거래내역 생성\n",
    "- 수익율 계산"
   ]
  },
  {
   "cell_type": "code",
   "execution_count": null,
   "metadata": {},
   "outputs": [],
   "source": [
    "df = pd.read_csv(\"../csv/SPY.csv\")\n",
    "df.head(1)"
   ]
  },
  {
   "cell_type": "code",
   "execution_count": null,
   "metadata": {},
   "outputs": [],
   "source": [
    "## 새로운 파생변수 STD-YM 생성\n",
    "## Date 컬럼을 기준으로 년-월 추출해서 파생변수 대입\n",
    "\n",
    "## Date 컬럼을 데이터형을 datetime 변경 ( pd.to_datetime() )\n",
    "df['Date'] = pd.to_datetime(df['Date'], format='%Y-%m-%d')\n",
    "## STD-YM 컬럼을 만들어서 Date컬럼에서 년(4자리)-월 추출\n",
    "df['STD-YM'] = df['Date'].dt.strftime(\"%Y-%m\")"
   ]
  },
  {
   "cell_type": "code",
   "execution_count": null,
   "metadata": {},
   "outputs": [],
   "source": [
    "month_last_df = pd.DataFrame()\n",
    "\n",
    "month_list = df['STD-YM'].unique()\n",
    "\n",
    "for i in month_list:\n",
    "    last_df = df[df['STD-YM'] == i].tail(1)\n",
    "    month_last_df = pd.concat([month_last_df, last_df])\n",
    "month_last_df.info()"
   ]
  },
  {
   "cell_type": "code",
   "execution_count": null,
   "metadata": {},
   "outputs": [],
   "source": [
    "## 년-월 별 마지막날의 데이터들을 추출 \n",
    "## 새로운 데이터프레임에 결합\n",
    "month_last_df = df[~(df.shift(-1)['STD-YM'] == df['STD-YM'])]\n",
    "month_last_df.info()"
   ]
  },
  {
   "cell_type": "code",
   "execution_count": null,
   "metadata": {},
   "outputs": [],
   "source": [
    "## 'Date' 컬럼을 인덱스 변환\n",
    "month_last_df.set_index(['Date'], inplace=True)"
   ]
  },
  {
   "cell_type": "code",
   "execution_count": null,
   "metadata": {},
   "outputs": [],
   "source": [
    "month_last_df.head(10)"
   ]
  },
  {
   "cell_type": "code",
   "execution_count": null,
   "metadata": {},
   "outputs": [],
   "source": [
    "## month_last_df 파생변수 2개 생성\n",
    "## 'BF_1M' 전월의 종가(Adj Close)의 값\n",
    "## 'BF_12M' 전년도의 종가(Adj Close)의 값\n",
    "## NaN이 나온다면 0으로 대체\n",
    "month_last_df[\"BF_1M\"] = month_last_df.shift(1)['Adj Close'].fillna(0)\n",
    "month_last_df[\"BF_12M\"] = month_last_df.shift(12)['Adj Close'].fillna(0)\n",
    "month_last_df.iloc[10:15]"
   ]
  },
  {
   "cell_type": "code",
   "execution_count": null,
   "metadata": {},
   "outputs": [],
   "source": [
    "month_last_df.loc['1993-01-29':'1993-09-30']"
   ]
  },
  {
   "cell_type": "code",
   "execution_count": null,
   "metadata": {},
   "outputs": [],
   "source": [
    "df.loc[1]"
   ]
  },
  {
   "attachments": {},
   "cell_type": "markdown",
   "metadata": {},
   "source": [
    "### loc, iloc\n",
    "1. loc \n",
    "    - index와 column의 값을 비교하여 True인 행과 열을 출력\n",
    "    - loc[index, columns]\n",
    "    - loc[1] -> index의 값이 1인 행 출력\n",
    "    - loc[:, column명]\n",
    "2. iloc\n",
    "    - index와 column의 위치를 출력\n",
    "    - 데이터프레임에 2번째 행 출력 -> iloc[1]\n",
    "    - 데이터프레림에서 2번째 열 출력 -> iloc[:,1]"
   ]
  },
  {
   "cell_type": "code",
   "execution_count": null,
   "metadata": {},
   "outputs": [],
   "source": [
    "df.set_index(['Date'], inplace=True)"
   ]
  },
  {
   "cell_type": "code",
   "execution_count": null,
   "metadata": {},
   "outputs": [],
   "source": [
    "## 거래내역 추가\n",
    "## 구매 조건 -> 전월 종가 / 전년도 종가 - 1의 값이 0보다 크고 무한대가 아닌 경우\n",
    "df['trade'] = \"\"\n",
    "\n",
    "for i in month_last_df.index:\n",
    "    signal = \"\"\n",
    "\n",
    "    # 절대 모멘텀 계산\n",
    "    momentum_index = month_last_df.loc[i, \"BF_1M\"] /\\\n",
    "         month_last_df.loc[i, \"BF_12M\"] - 1\n",
    "    # print(momentum_index)\n",
    "    # 절대 모멘텀 지표에 따라서 True / False 구분\n",
    "    flag = True if((momentum_index > 0) and (momentum_index != np.inf) \n",
    "    and (momentum_index != -np.inf)) else False\n",
    "\n",
    "    if flag:\n",
    "        signal = 'buy'\n",
    "    print(\"날짜 :\", i, '모멘텀 인덱스 :', momentum_index, \n",
    "    \"flag :\", flag, 'signal :', signal)\n",
    "    df.loc[i, \"trade\"] = signal\n",
    "df['trade'].value_counts()\n",
    "    \n"
   ]
  },
  {
   "cell_type": "code",
   "execution_count": null,
   "metadata": {},
   "outputs": [],
   "source": [
    "rtn = 1.0\n",
    "df['return'] = 1\n",
    "buy = 0\n",
    "sell = 0\n",
    "for i in df.index:\n",
    "    ##구매한 날짜를 체크 : 현재 행의 trade = 'buy' 전 행의 trade = \"\"인 경우\n",
    "    if df.loc[i, 'trade'] == 'buy' and df.shift(1).loc[i, 'trade'] == \"\":\n",
    "        buy = df.loc[i, 'Adj Close']\n",
    "        print(\"구매일 :\", i, \"구매 가격 :\", buy)\n",
    "    elif df.loc[i, 'trade'] == \"\" and df.shift(1).loc[i, 'trade'] == 'buy':\n",
    "        sell = df.loc[i, 'Adj Close']\n",
    "        rtn = (sell - buy) / buy + 1\n",
    "        df.loc[i, 'return'] = rtn\n",
    "        print(\"판매일 : \", i, \"판매 가격 :\", sell, \"수익율 :\", rtn)\n",
    "\n",
    "    if df.loc[i, 'trade'] == \"\":\n",
    "        buy = 0 \n",
    "        sell = 0 \n"
   ]
  },
  {
   "cell_type": "code",
   "execution_count": null,
   "metadata": {},
   "outputs": [],
   "source": [
    "acc_rtn = 1 \n",
    "\n",
    "for i in df.index:\n",
    "    rtn = df.loc[i, 'return']\n",
    "    acc_rtn *= rtn\n",
    "    df.loc[i, 'acc_rtn'] = acc_rtn\n",
    "\n",
    "print('누적 수익율 :', acc_rtn)"
   ]
  },
  {
   "attachments": {},
   "cell_type": "markdown",
   "metadata": {},
   "source": [
    "### 절대 모멘텀 함수로 구현\n",
    "1. 1번 함수\n",
    "    - 매개변수 2개 ( 데이터프레임, 기준이 되는 컬럼 )\n",
    "    - 데이터프레임에 결측치와 이상치 제거\n",
    "    - Date, 기준이 되는 컬럼 두 컬럼만 두고 나머지 컬럼은 삭제\n",
    "    - Date 컬럼의 데이터를 시계열데이터 변경\n",
    "    - 'STD-YM' 파생변수를 생성을 하여 년-월 대입\n",
    "    - 인덱스를 Date로 변경\n",
    "    - 수정이 된 데이터프레임을 리턴\n",
    "    - 1번 함수 테스트하실때는 csv 파일 새로 불러와서 함수호출\n",
    "2. 2번 함수\n",
    "    - 매개변수(df) 1개( 데이터프레임 )\n",
    "    - 새로운 데이터프레임 생성 \n",
    "    - df의 데이터에서 년-월별 마지막 데이터들을 새로운 데이터프레임 삽입\n",
    "    - 새로운 데이터프레임에 파생변수 2개 생성\n",
    "    - 'BF_1M' : 전 월의 종가, 결측치는 0으로 대체\n",
    "    - 'BF_12M' : 전 년의 종가, 결측치는 0으로 대체\n",
    "    - 새로운 데이터프레임을 리턴\n"
   ]
  },
  {
   "cell_type": "code",
   "execution_count": null,
   "metadata": {},
   "outputs": [],
   "source": [
    "'Adj Close' in df1.columns"
   ]
  },
  {
   "cell_type": "code",
   "execution_count": null,
   "metadata": {},
   "outputs": [],
   "source": [
    "## 1번 함수 생성\n",
    "def first(data, col):\n",
    "    ##조건식을 이용하여 데이터형태를 같게 csv / yfinance\n",
    "    # if type(data.index[0]) != int:\n",
    "    if 'Date' not in data.columns:\n",
    "        # data = data.reset_index()\n",
    "        data.reset_index(inplace=True)\n",
    "\n",
    "    ## 결측치와 이상치를 제거\n",
    "    result = data[~data.isin([np.nan, np.inf, -np.inf]).any(1)]\n",
    "    result = result.loc[:, ['Date', col]] ## result[['Date', col]]\n",
    "    result['Date'] = pd.to_datetime(result['Date'])\n",
    "    result['STD-YM'] = result['Date'].dt.strftime(\"%Y-%m\")\n",
    "    result.set_index('Date', inplace=True)\n",
    "    return result"
   ]
  },
  {
   "cell_type": "code",
   "execution_count": null,
   "metadata": {},
   "outputs": [],
   "source": [
    "test_df = pd.read_csv(\"../csv/AAPL.csv\")\n",
    "\n",
    "test_df = first(test_df, 'Close')"
   ]
  },
  {
   "cell_type": "code",
   "execution_count": null,
   "metadata": {},
   "outputs": [],
   "source": [
    "## 2번 함수\n",
    "def second(data):\n",
    "    result = pd.DataFrame()\n",
    "    col = data.columns[0]\n",
    "    data = data[~(data.shift(-1)['STD-YM'] == data['STD-YM'])]\n",
    "    result = pd.concat([result, data])\n",
    "    result['BF_1M'] = result.shift(1)[col].fillna(0)\n",
    "    result['BF_12M'] = result.shift(12)[col].fillna(0)\n",
    "    return result\n",
    "    "
   ]
  },
  {
   "cell_type": "code",
   "execution_count": null,
   "metadata": {},
   "outputs": [],
   "source": [
    "test_df_2 = second(test_df)"
   ]
  },
  {
   "attachments": {},
   "cell_type": "markdown",
   "metadata": {},
   "source": [
    "3. 3번 함수 생성\n",
    "    - 매개변수 2개 (데이터프레임(df1), 데이터프레임(df2))\n",
    "    - df1에 trade 컬럼 생성 값은 \"\"\n",
    "    - df1에 return 컬럼 생성 값은 1\n",
    "    - df2의 값들을 이용하여 momentum index를 구하고 df1에 거래 내역 대입\n",
    "    - df1의 거래내역을 이용하여 수익율 return 대입\n",
    "    - return의 값들은 가지고 누적 수익율을 acc_rtn 컬럼에 대입\n",
    "    - 누적 수익율을 print()\n",
    "    - df1을 리턴"
   ]
  },
  {
   "cell_type": "code",
   "execution_count": null,
   "metadata": {},
   "outputs": [],
   "source": [
    "## 3번 함수\n",
    "def third(df1, df2):\n",
    "    df1[\"trade\"] = \"\"\n",
    "    df1['return'] = 1\n",
    "    for i in df2.index:\n",
    "        signal = \"\"\n",
    "\n",
    "        # 절대 모멘텀 계산\n",
    "        momentum_index = df2.loc[i, \"BF_1M\"] /\\\n",
    "            df2.loc[i, \"BF_12M\"] - 1\n",
    "        # print(momentum_index)\n",
    "        # 절대 모멘텀 지표에 따라서 True / False 구분\n",
    "        flag = True if((momentum_index > 0) and (momentum_index != np.inf) \n",
    "        and (momentum_index != -np.inf)) else False\n",
    "\n",
    "        if flag:\n",
    "            signal = 'buy'\n",
    "        print(\"날짜 :\", i, '모멘텀 인덱스 :', momentum_index, \n",
    "        \"flag :\", flag, 'signal :', signal)\n",
    "        df1.loc[i, \"trade\"] = signal\n",
    "\n",
    "    rtn = 1.0\n",
    "    buy = 0\n",
    "    sell = 0\n",
    "    col = df1.columns[0]\n",
    "    for i in df1.index:\n",
    "        ##구매한 날짜를 체크 : 현재 행의 trade = 'buy' 전 행의 trade = \"\"인 경우\n",
    "        if df1.loc[i, 'trade'] == 'buy' and df1.shift(1).loc[i, 'trade'] == \"\":\n",
    "            buy = df1.loc[i, col]\n",
    "            print(\"구매일 :\", i, \"구매 가격 :\", buy)\n",
    "        elif df1.loc[i, 'trade'] == \"\" and df1.shift(1).loc[i, 'trade'] == 'buy':\n",
    "            sell = df1.loc[i, col]\n",
    "            rtn = (sell - buy) / buy + 1\n",
    "            df1.loc[i, 'return'] = rtn\n",
    "            print(\"판매일 : \", i, \"판매 가격 :\", sell, \"수익율 :\", rtn)\n",
    "\n",
    "        if df1.loc[i, 'trade'] == \"\":\n",
    "            buy = 0 \n",
    "            sell = 0 \n",
    "    \n",
    "    acc_rtn = 1 \n",
    "\n",
    "    for i in df1.index:\n",
    "        rtn = df1.loc[i, 'return']\n",
    "        acc_rtn *= rtn\n",
    "        df1.loc[i, 'acc_rtn'] = acc_rtn\n",
    "\n",
    "    print('누적 수익율 :', acc_rtn)\n",
    "\n",
    "    return df1\n",
    "    \n",
    "    \n",
    "    "
   ]
  },
  {
   "cell_type": "code",
   "execution_count": null,
   "metadata": {},
   "outputs": [],
   "source": [
    "third(test_df, test_df_2)"
   ]
  },
  {
   "cell_type": "code",
   "execution_count": null,
   "metadata": {},
   "outputs": [],
   "source": [
    "import yfinance as yf"
   ]
  },
  {
   "cell_type": "code",
   "execution_count": null,
   "metadata": {},
   "outputs": [],
   "source": [
    "yf_df = yf.download('003490.KS', start='2018-01-01')"
   ]
  },
  {
   "cell_type": "code",
   "execution_count": null,
   "metadata": {},
   "outputs": [],
   "source": [
    "df1 = first(yf_df, 'Close')\n",
    "df1.head()"
   ]
  },
  {
   "cell_type": "code",
   "execution_count": null,
   "metadata": {},
   "outputs": [],
   "source": [
    "import momentum as mmt"
   ]
  },
  {
   "cell_type": "code",
   "execution_count": null,
   "metadata": {},
   "outputs": [],
   "source": [
    "mmt1 = mmt.Momentum(yf_df, 'Adj Close')"
   ]
  },
  {
   "cell_type": "code",
   "execution_count": null,
   "metadata": {},
   "outputs": [],
   "source": [
    "mmt1.testing()"
   ]
  },
  {
   "cell_type": "code",
   "execution_count": null,
   "metadata": {},
   "outputs": [],
   "source": [
    "t_df = pd.read_csv(\"../csv/AMZN.csv\")"
   ]
  },
  {
   "cell_type": "code",
   "execution_count": null,
   "metadata": {},
   "outputs": [],
   "source": [
    "mmt2 = mmt.Momentum(t_df, 'Adj Close')"
   ]
  },
  {
   "cell_type": "code",
   "execution_count": null,
   "metadata": {},
   "outputs": [],
   "source": [
    "mmt2.testing()"
   ]
  },
  {
   "cell_type": "code",
   "execution_count": null,
   "metadata": {},
   "outputs": [],
   "source": []
  }
 ],
 "metadata": {
  "kernelspec": {
   "display_name": "Python 3",
   "language": "python",
   "name": "python3"
  },
  "language_info": {
   "codemirror_mode": {
    "name": "ipython",
    "version": 3
   },
   "file_extension": ".py",
   "mimetype": "text/x-python",
   "name": "python",
   "nbconvert_exporter": "python",
   "pygments_lexer": "ipython3",
   "version": "3.6.8"
  },
  "orig_nbformat": 4,
  "vscode": {
   "interpreter": {
    "hash": "187f19b7e1a6c9dce315ccb3b0d07c5b7aeed6681cd1ee8ee772db2198b62651"
   }
  }
 },
 "nbformat": 4,
 "nbformat_minor": 2
}
