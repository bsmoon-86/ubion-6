{
 "cells": [
  {
   "attachments": {},
   "cell_type": "markdown",
   "metadata": {},
   "source": [
    "## CORONA 데이터 로드\n",
    "1. 데이터 로드 \n",
    "2. (unnamed: 0, seq, stateDt, statetime, updateDt) 컬럼을 삭제\n",
    "3. 인덱스의 값을 createDt 변경 (시계열로 데이터를 변환하여 인덱스로 이동)\n",
    "4. 컬럼의 이름을 변경 : 사망자, 확진자, 누적의심자, 누적확진율\n",
    "5. 인덱스 이름 변경 : 등록일시\n",
    "6. 일일확진자, 일일사망자 컬럼 추가 사망자, 확진자 의 차이를 대입 결측치는 0으로 대체\n",
    "7. 누적의심자, 누적확진율에 결측치 데이터는 후의 데이터 값으로 대체\n",
    "8. 인덱스를 기준으로 오름차순 정렬\n",
    "9. 일일확진자 음수인 값을 찾아서 인덱스를 삭제 \n"
   ]
  },
  {
   "cell_type": "code",
   "execution_count": null,
   "metadata": {},
   "outputs": [],
   "source": [
    "import pandas as pd"
   ]
  },
  {
   "cell_type": "code",
   "execution_count": null,
   "metadata": {},
   "outputs": [],
   "source": [
    "corona = pd.read_csv(\n",
    "    \"../csv/corona.csv\", \n",
    "    usecols=[1, 2, 3, 8, 9], \n",
    "    parse_dates=[0], \n",
    "    index_col=[0]\n",
    "    )"
   ]
  },
  {
   "cell_type": "code",
   "execution_count": null,
   "metadata": {},
   "outputs": [],
   "source": [
    "corona.head(1)"
   ]
  },
  {
   "cell_type": "code",
   "execution_count": null,
   "metadata": {},
   "outputs": [],
   "source": [
    "corona.columns = [\"확진자\", \"사망자\", \"누적의심자\", \"누적확진율\"]\n",
    "corona.index.name = \"등록일시\"\n",
    "corona.head(1)"
   ]
  },
  {
   "cell_type": "code",
   "execution_count": null,
   "metadata": {},
   "outputs": [],
   "source": [
    "corona = corona.fillna(method=\"bfill\")"
   ]
  },
  {
   "cell_type": "code",
   "execution_count": null,
   "metadata": {},
   "outputs": [],
   "source": [
    "corona"
   ]
  },
  {
   "cell_type": "code",
   "execution_count": null,
   "metadata": {},
   "outputs": [],
   "source": [
    "corona[\"일일확진자\"] = corona['확진자'].diff(-1).fillna(0)\n",
    "corona[\"일일사망자\"] = (corona[\"사망자\"] - corona[\"사망자\"].shift(-1)).fillna(0)"
   ]
  },
  {
   "cell_type": "code",
   "execution_count": null,
   "metadata": {},
   "outputs": [],
   "source": [
    "corona.sort_index(inplace=True)"
   ]
  },
  {
   "cell_type": "code",
   "execution_count": null,
   "metadata": {},
   "outputs": [],
   "source": [
    "cond = corona[\"일일확진자\"] < 0\n",
    "corona.loc[cond]"
   ]
  },
  {
   "cell_type": "code",
   "execution_count": null,
   "metadata": {},
   "outputs": [],
   "source": [
    "corona.query(\"일일확진자 < 0 \")"
   ]
  },
  {
   "cell_type": "code",
   "execution_count": null,
   "metadata": {},
   "outputs": [],
   "source": []
  }
 ],
 "metadata": {
  "kernelspec": {
   "display_name": "Python 3",
   "language": "python",
   "name": "python3"
  },
  "language_info": {
   "codemirror_mode": {
    "name": "ipython",
    "version": 3
   },
   "file_extension": ".py",
   "mimetype": "text/x-python",
   "name": "python",
   "nbconvert_exporter": "python",
   "pygments_lexer": "ipython3",
   "version": "3.11.1"
  },
  "orig_nbformat": 4,
  "vscode": {
   "interpreter": {
    "hash": "9b5f1854d503dd71c3856bf3749ce047b3ad1e5d370827a8e1d34b45663952a6"
   }
  }
 },
 "nbformat": 4,
 "nbformat_minor": 2
}
